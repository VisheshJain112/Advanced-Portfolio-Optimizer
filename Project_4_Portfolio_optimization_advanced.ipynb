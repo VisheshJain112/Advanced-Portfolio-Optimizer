{
  "nbformat": 4,
  "nbformat_minor": 0,
  "metadata": {
    "colab": {
      "name": "Project 4 Portfolio optimization advanced",
      "provenance": [],
      "authorship_tag": "ABX9TyM5BfXbX44uQuphTn6YPIo1",
      "include_colab_link": true
    },
    "kernelspec": {
      "name": "python3",
      "display_name": "Python 3"
    }
  },
  "cells": [
    {
      "cell_type": "markdown",
      "metadata": {
        "id": "view-in-github",
        "colab_type": "text"
      },
      "source": [
        "<a href=\"https://colab.research.google.com/github/VisheshJain112/Advanced-Portfolio-Optimizer/blob/master/Project_4_Portfolio_optimization_advanced.ipynb\" target=\"_parent\"><img src=\"https://colab.research.google.com/assets/colab-badge.svg\" alt=\"Open In Colab\"/></a>"
      ]
    },
    {
      "cell_type": "code",
      "metadata": {
        "id": "Y6kvCCvbODzh",
        "colab_type": "code",
        "colab": {}
      },
      "source": [
        ""
      ],
      "execution_count": null,
      "outputs": []
    },
    {
      "cell_type": "code",
      "metadata": {
        "id": "t7_UX7p3YvO4",
        "colab_type": "code",
        "colab": {
          "base_uri": "https://localhost:8080/",
          "height": 1000
        },
        "outputId": "38d88910-7d4b-4fd9-f10a-70b34a2dcefd"
      },
      "source": [
        "!pip install zipline"
      ],
      "execution_count": null,
      "outputs": [
        {
          "output_type": "stream",
          "text": [
            "Collecting zipline\n",
            "\u001b[?25l  Downloading https://files.pythonhosted.org/packages/be/59/8c5802a7897c1095fdc409fb557f04df8f75c37174e80d2ba58c8d8a6488/zipline-1.3.0.tar.gz (2.5MB)\n",
            "\u001b[K     |████████████████████████████████| 2.5MB 2.8MB/s \n",
            "\u001b[?25hRequirement already satisfied: pip>=7.1.0 in /usr/local/lib/python3.6/dist-packages (from zipline) (19.3.1)\n",
            "Requirement already satisfied: setuptools>18.0 in /usr/local/lib/python3.6/dist-packages (from zipline) (47.3.1)\n",
            "Collecting Logbook>=0.12.5\n",
            "\u001b[?25l  Downloading https://files.pythonhosted.org/packages/2f/d9/16ac346f7c0102835814cc9e5b684aaadea101560bb932a2403bd26b2320/Logbook-1.5.3.tar.gz (85kB)\n",
            "\u001b[K     |████████████████████████████████| 92kB 8.2MB/s \n",
            "\u001b[?25hRequirement already satisfied: pytz>=2016.4 in /usr/local/lib/python3.6/dist-packages (from zipline) (2018.9)\n",
            "Requirement already satisfied: numpy>=1.11.1 in /usr/local/lib/python3.6/dist-packages (from zipline) (1.18.5)\n",
            "Collecting requests-file>=1.4.1\n",
            "  Downloading https://files.pythonhosted.org/packages/77/86/cdb5e8eaed90796aa83a6d9f75cfbd37af553c47a291cd47bc410ef9bdb2/requests_file-1.5.1-py2.py3-none-any.whl\n",
            "Requirement already satisfied: scipy>=0.17.1 in /usr/local/lib/python3.6/dist-packages (from zipline) (1.4.1)\n",
            "Collecting pandas<=0.22,>=0.18.1\n",
            "\u001b[?25l  Downloading https://files.pythonhosted.org/packages/da/c6/0936bc5814b429fddb5d6252566fe73a3e40372e6ceaf87de3dec1326f28/pandas-0.22.0-cp36-cp36m-manylinux1_x86_64.whl (26.2MB)\n",
            "\u001b[K     |████████████████████████████████| 26.3MB 168kB/s \n",
            "\u001b[?25hRequirement already satisfied: pandas-datareader>=0.2.1 in /usr/local/lib/python3.6/dist-packages (from zipline) (0.8.1)\n",
            "Requirement already satisfied: patsy>=0.4.0 in /usr/local/lib/python3.6/dist-packages (from zipline) (0.5.1)\n",
            "Requirement already satisfied: statsmodels>=0.6.1 in /usr/local/lib/python3.6/dist-packages (from zipline) (0.10.2)\n",
            "Requirement already satisfied: python-dateutil>=2.4.2 in /usr/local/lib/python3.6/dist-packages (from zipline) (2.8.1)\n",
            "Requirement already satisfied: six>=1.10.0 in /usr/local/lib/python3.6/dist-packages (from zipline) (1.12.0)\n",
            "Requirement already satisfied: requests>=2.9.1 in /usr/local/lib/python3.6/dist-packages (from zipline) (2.23.0)\n",
            "Requirement already satisfied: Cython>=0.25.2 in /usr/local/lib/python3.6/dist-packages (from zipline) (0.29.20)\n",
            "Collecting cyordereddict>=0.2.2\n",
            "\u001b[?25l  Downloading https://files.pythonhosted.org/packages/d1/1a/364cbfd927be1b743c7f0a985a7f1f7e8a51469619f9fefe4ee9240ba210/cyordereddict-1.0.0.tar.gz (138kB)\n",
            "\u001b[K     |████████████████████████████████| 143kB 45.1MB/s \n",
            "\u001b[?25hRequirement already satisfied: bottleneck>=1.0.0 in /usr/local/lib/python3.6/dist-packages (from zipline) (1.3.2)\n",
            "Requirement already satisfied: contextlib2>=0.4.0 in /usr/local/lib/python3.6/dist-packages (from zipline) (0.5.5)\n",
            "Requirement already satisfied: decorator>=4.0.0 in /usr/local/lib/python3.6/dist-packages (from zipline) (4.4.2)\n",
            "Collecting networkx<2.0,>=1.9.1\n",
            "\u001b[?25l  Downloading https://files.pythonhosted.org/packages/d3/2c/e473e54afc9fae58dfa97066ef6709a7e35a1dd1c28c5a3842989322be00/networkx-1.11-py2.py3-none-any.whl (1.3MB)\n",
            "\u001b[K     |████████████████████████████████| 1.3MB 44.6MB/s \n",
            "\u001b[?25hRequirement already satisfied: numexpr>=2.6.1 in /usr/local/lib/python3.6/dist-packages (from zipline) (2.7.1)\n",
            "Collecting bcolz<1,>=0.12.1\n",
            "\u001b[?25l  Downloading https://files.pythonhosted.org/packages/6c/8b/1ffa01f872cac36173c5eb95b58c01040d8d25f1b242c48577f4104cd3ab/bcolz-0.12.1.tar.gz (622kB)\n",
            "\u001b[K     |████████████████████████████████| 624kB 48.1MB/s \n",
            "\u001b[?25hRequirement already satisfied: click>=4.0.0 in /usr/local/lib/python3.6/dist-packages (from zipline) (7.1.2)\n",
            "Requirement already satisfied: toolz>=0.8.2 in /usr/local/lib/python3.6/dist-packages (from zipline) (0.10.0)\n",
            "Collecting multipledispatch>=0.4.8\n",
            "  Downloading https://files.pythonhosted.org/packages/89/79/429ecef45fd5e4504f7474d4c3c3c4668c267be3370e4c2fd33e61506833/multipledispatch-0.6.0-py3-none-any.whl\n",
            "Requirement already satisfied: MarkupSafe>=0.23 in /usr/local/lib/python3.6/dist-packages (from zipline) (1.1.1)\n",
            "Collecting Mako>=1.0.1\n",
            "\u001b[?25l  Downloading https://files.pythonhosted.org/packages/a6/37/0e706200d22172eb8fa17d68a7ae22dec7631a0a92266634fb518a88a5b2/Mako-1.1.3-py2.py3-none-any.whl (75kB)\n",
            "\u001b[K     |████████████████████████████████| 81kB 9.6MB/s \n",
            "\u001b[?25hRequirement already satisfied: sqlalchemy>=1.0.8 in /usr/local/lib/python3.6/dist-packages (from zipline) (1.3.17)\n",
            "Collecting alembic>=0.7.7\n",
            "\u001b[?25l  Downloading https://files.pythonhosted.org/packages/60/1e/cabc75a189de0fbb2841d0975243e59bde8b7822bacbb95008ac6fe9ad47/alembic-1.4.2.tar.gz (1.1MB)\n",
            "\u001b[K     |████████████████████████████████| 1.1MB 42.7MB/s \n",
            "\u001b[?25h  Installing build dependencies ... \u001b[?25l\u001b[?25hdone\n",
            "  Getting requirements to build wheel ... \u001b[?25l\u001b[?25hdone\n",
            "    Preparing wheel metadata ... \u001b[?25l\u001b[?25hdone\n",
            "Requirement already satisfied: sortedcontainers>=1.4.4 in /usr/local/lib/python3.6/dist-packages (from zipline) (2.2.2)\n",
            "Requirement already satisfied: intervaltree>=2.1.0 in /usr/local/lib/python3.6/dist-packages (from zipline) (2.1.0)\n",
            "Collecting lru-dict>=1.1.4\n",
            "  Downloading https://files.pythonhosted.org/packages/00/a5/32ed6e10246cd341ca8cc205acea5d208e4053f48a4dced2b1b31d45ba3f/lru-dict-1.1.6.tar.gz\n",
            "Collecting empyrical>=0.5.0\n",
            "\u001b[?25l  Downloading https://files.pythonhosted.org/packages/84/9e/9506e8b25464ff57ef93b5ba9092b464b44dc76b717695b126b3c93214a2/empyrical-0.5.3.tar.gz (50kB)\n",
            "\u001b[K     |████████████████████████████████| 51kB 7.5MB/s \n",
            "\u001b[?25hRequirement already satisfied: tables>=3.3.0 in /usr/local/lib/python3.6/dist-packages (from zipline) (3.4.4)\n",
            "Collecting trading-calendars>=1.0.1\n",
            "\u001b[?25l  Downloading https://files.pythonhosted.org/packages/0a/b1/35a292c37b118d4e4f6f4dc573f136d58293f8266e56e8189ec06a2f7785/trading_calendars-1.11.8.tar.gz (100kB)\n",
            "\u001b[K     |████████████████████████████████| 102kB 11.7MB/s \n",
            "\u001b[?25hRequirement already satisfied: lxml in /usr/local/lib/python3.6/dist-packages (from pandas-datareader>=0.2.1->zipline) (4.2.6)\n",
            "Requirement already satisfied: urllib3!=1.25.0,!=1.25.1,<1.26,>=1.21.1 in /usr/local/lib/python3.6/dist-packages (from requests>=2.9.1->zipline) (1.24.3)\n",
            "Requirement already satisfied: chardet<4,>=3.0.2 in /usr/local/lib/python3.6/dist-packages (from requests>=2.9.1->zipline) (3.0.4)\n",
            "Requirement already satisfied: certifi>=2017.4.17 in /usr/local/lib/python3.6/dist-packages (from requests>=2.9.1->zipline) (2020.6.20)\n",
            "Requirement already satisfied: idna<3,>=2.5 in /usr/local/lib/python3.6/dist-packages (from requests>=2.9.1->zipline) (2.9)\n",
            "Collecting python-editor>=0.3\n",
            "  Downloading https://files.pythonhosted.org/packages/c6/d3/201fc3abe391bbae6606e6f1d598c15d367033332bd54352b12f35513717/python_editor-1.0.4-py3-none-any.whl\n",
            "Building wheels for collected packages: alembic\n",
            "  Building wheel for alembic (PEP 517) ... \u001b[?25l\u001b[?25hdone\n",
            "  Created wheel for alembic: filename=alembic-1.4.2-cp36-none-any.whl size=159543 sha256=c4dcc8f19282febf0eddc23558708f2197f19a409d715d90b8559468204bc5df\n",
            "  Stored in directory: /root/.cache/pip/wheels/1f/04/83/76023f7a4c14688c0b5c2682a96392cfdd3ee4449eaaa287ef\n",
            "Successfully built alembic\n",
            "Building wheels for collected packages: zipline, Logbook, cyordereddict, bcolz, lru-dict, empyrical, trading-calendars\n",
            "  Building wheel for zipline (setup.py) ... \u001b[?25l\u001b[?25hdone\n",
            "  Created wheel for zipline: filename=zipline-1.3.0-cp36-cp36m-linux_x86_64.whl size=5008428 sha256=9ecc20a951871c9ec83a1a5ab342619d9b1945b6a881b15fc9bc4f73636f0713\n",
            "  Stored in directory: /root/.cache/pip/wheels/a4/d6/67/f303ab028b004bf8e00c05b5b04fba83d8ec238b6547becdb7\n",
            "  Building wheel for Logbook (setup.py) ... \u001b[?25l\u001b[?25hdone\n",
            "  Created wheel for Logbook: filename=Logbook-1.5.3-cp36-cp36m-linux_x86_64.whl size=66379 sha256=97c7bd7736b93e71ff5617235a84c55e4f9ffbbbd7668b57128c455a94ce9a80\n",
            "  Stored in directory: /root/.cache/pip/wheels/d2/70/07/68b99a8e05dcd1ab194a8e0ccb9e4d0ac5dd6d8d139c7149b4\n",
            "  Building wheel for cyordereddict (setup.py) ... \u001b[?25l\u001b[?25hdone\n",
            "  Created wheel for cyordereddict: filename=cyordereddict-1.0.0-cp36-cp36m-linux_x86_64.whl size=168136 sha256=1257d4b85793d0eeb1340416ce978c55a8b3f983105708ffabd497e3139cfa8b\n",
            "  Stored in directory: /root/.cache/pip/wheels/0b/9d/8b/5bf3e22c1edd59b50f11bb19dec9dfcfe5a479fc7ace02b61f\n",
            "  Building wheel for bcolz (setup.py) ... \u001b[?25l\u001b[?25hdone\n",
            "  Created wheel for bcolz: filename=bcolz-0.12.1-cp36-cp36m-linux_x86_64.whl size=996699 sha256=b48404cb7d64b4e4dcc51d86a13dd170b27c3ca46916155a37bde72edfbd9b99\n",
            "  Stored in directory: /root/.cache/pip/wheels/c5/cc/1b/2cf1f88959af5d7f4d449b7fc6c9452d0ecbd86fd61a9ee376\n",
            "  Building wheel for lru-dict (setup.py) ... \u001b[?25l\u001b[?25hdone\n",
            "  Created wheel for lru-dict: filename=lru_dict-1.1.6-cp36-cp36m-linux_x86_64.whl size=25878 sha256=8e91ebc3b233400ac8e4802f161337a4d24758d35942fd3d006a02d3263101a4\n",
            "  Stored in directory: /root/.cache/pip/wheels/b7/ef/06/fbdd555907a7d438fb33e4c8675f771ff1cf41917284c51ebf\n",
            "  Building wheel for empyrical (setup.py) ... \u001b[?25l\u001b[?25hdone\n",
            "  Created wheel for empyrical: filename=empyrical-0.5.3-cp36-none-any.whl size=37087 sha256=1c13ab35e8c2ccff48d9aadc9de8e266ade5b63257364fcc70b8140171665d85\n",
            "  Stored in directory: /root/.cache/pip/wheels/10/a4/3b/951bd609878a82fd72b9ea23699daf1eaada4ff6f583152876\n",
            "  Building wheel for trading-calendars (setup.py) ... \u001b[?25l\u001b[?25hdone\n",
            "  Created wheel for trading-calendars: filename=trading_calendars-1.11.8-cp36-none-any.whl size=134307 sha256=0103069a0fc5abdc7070429ba105cf44fe268c6f88c3e2aac7a89170e6f42f6b\n",
            "  Stored in directory: /root/.cache/pip/wheels/dc/89/c8/ac313ca3378c71f9d726acb6e47c1b849c4ff420563c270e26\n",
            "Successfully built zipline Logbook cyordereddict bcolz lru-dict empyrical trading-calendars\n",
            "\u001b[31mERROR: xarray 0.15.1 has requirement pandas>=0.25, but you'll have pandas 0.22.0 which is incompatible.\u001b[0m\n",
            "\u001b[31mERROR: scikit-image 0.16.2 has requirement networkx>=2.0, but you'll have networkx 1.11 which is incompatible.\u001b[0m\n",
            "\u001b[31mERROR: plotnine 0.6.0 has requirement pandas>=0.25.0, but you'll have pandas 0.22.0 which is incompatible.\u001b[0m\n",
            "\u001b[31mERROR: mizani 0.6.0 has requirement pandas>=0.25.0, but you'll have pandas 0.22.0 which is incompatible.\u001b[0m\n",
            "\u001b[31mERROR: google-colab 1.0.0 has requirement pandas~=1.0.0; python_version >= \"3.0\", but you'll have pandas 0.22.0 which is incompatible.\u001b[0m\n",
            "\u001b[31mERROR: featuretools 0.4.1 has requirement pandas>=0.23.0, but you'll have pandas 0.22.0 which is incompatible.\u001b[0m\n",
            "\u001b[31mERROR: fbprophet 0.6 has requirement pandas>=0.23.4, but you'll have pandas 0.22.0 which is incompatible.\u001b[0m\n",
            "\u001b[31mERROR: albumentations 0.1.12 has requirement imgaug<0.2.7,>=0.2.5, but you'll have imgaug 0.2.9 which is incompatible.\u001b[0m\n",
            "Installing collected packages: Logbook, requests-file, pandas, cyordereddict, networkx, bcolz, multipledispatch, Mako, python-editor, alembic, lru-dict, empyrical, trading-calendars, zipline\n",
            "  Found existing installation: pandas 1.0.5\n",
            "    Uninstalling pandas-1.0.5:\n",
            "      Successfully uninstalled pandas-1.0.5\n",
            "  Found existing installation: networkx 2.4\n",
            "    Uninstalling networkx-2.4:\n",
            "      Successfully uninstalled networkx-2.4\n",
            "Successfully installed Logbook-1.5.3 Mako-1.1.3 alembic-1.4.2 bcolz-0.12.1 cyordereddict-1.0.0 empyrical-0.5.3 lru-dict-1.1.6 multipledispatch-0.6.0 networkx-1.11 pandas-0.22.0 python-editor-1.0.4 requests-file-1.5.1 trading-calendars-1.11.8 zipline-1.3.0\n"
          ],
          "name": "stdout"
        },
        {
          "output_type": "display_data",
          "data": {
            "application/vnd.colab-display-data+json": {
              "pip_warning": {
                "packages": [
                  "pandas"
                ]
              }
            }
          },
          "metadata": {
            "tags": []
          }
        }
      ]
    },
    {
      "cell_type": "code",
      "metadata": {
        "id": "DMIdw6ay6YsM",
        "colab_type": "code",
        "colab": {
          "base_uri": "https://localhost:8080/",
          "height": 126
        },
        "outputId": "d61a3d56-a1af-4bb2-d044-5950ebbf3ec4"
      },
      "source": [
        "from google.colab import drive\n",
        "drive.mount('/content/gdrive')"
      ],
      "execution_count": null,
      "outputs": [
        {
          "output_type": "stream",
          "text": [
            "Go to this URL in a browser: https://accounts.google.com/o/oauth2/auth?client_id=947318989803-6bn6qk8qdgf4n4g3pfee6491hc0brc4i.apps.googleusercontent.com&redirect_uri=urn%3aietf%3awg%3aoauth%3a2.0%3aoob&response_type=code&scope=email%20https%3a%2f%2fwww.googleapis.com%2fauth%2fdocs.test%20https%3a%2f%2fwww.googleapis.com%2fauth%2fdrive%20https%3a%2f%2fwww.googleapis.com%2fauth%2fdrive.photos.readonly%20https%3a%2f%2fwww.googleapis.com%2fauth%2fpeopleapi.readonly\n",
            "\n",
            "Enter your authorization code:\n",
            "··········\n",
            "Mounted at /content/gdrive\n"
          ],
          "name": "stdout"
        }
      ]
    },
    {
      "cell_type": "code",
      "metadata": {
        "id": "0AheIKagdBVD",
        "colab_type": "code",
        "colab": {}
      },
      "source": [
        "import os\n",
        "newpath = '/zip_data/daily' \n",
        "if not os.path.exists(newpath):\n",
        "    os.makedirs(newpath)"
      ],
      "execution_count": null,
      "outputs": []
    },
    {
      "cell_type": "code",
      "metadata": {
        "id": "9z8IZHR-JsjB",
        "colab_type": "code",
        "colab": {
          "base_uri": "https://localhost:8080/",
          "height": 132
        },
        "outputId": "54e91ed4-134c-4f1c-b977-9775a23c6c4c"
      },
      "source": [
        "import pandas as pd\n",
        "from pandas_datareader import data as wb\n",
        "from pandas_datareader._utils import RemoteDataError\n",
        "\n",
        "import bs4 as bs\n",
        "import pickle\n",
        "import requests\n",
        "\n",
        "#ticker=['EQT', 'IRM', 'ANTM', 'EW', 'HPE', 'AIZ', 'VRSN', 'AXP', 'LUV', 'JNPR', 'EXPD', 'INFO', 'NWL', 'VRTX', 'MHK', 'AVY', 'HBI', 'GT', 'FMC', 'M', 'GILD', 'XRX', 'UAL', 'FOX', 'PCG', 'TROW', 'UHS', 'INTC', 'INCY', 'KR', 'OKE', 'LH', 'MU', 'CVS', 'LEG', 'PPL', 'ADS', 'BA', 'KSS', 'LOW', 'NFLX', 'EA', 'UDR', 'FB', 'BLL',  'CTSH', 'ED', 'ADP', 'ALB', 'PRGO', 'NI', 'FLIR', 'TXT', 'SCG', 'PXD', 'BLK', 'WAT', 'PBCT', 'BIIB', 'IPG', 'DOV', 'HRB', 'REGN', 'EFX', 'ADSK', 'NLSN', 'APD', 'LYB', 'MCHP', 'MDLZ', 'AMGN', 'CMI', 'AAL', 'QCOM', 'ZTS', 'APH', 'URI', 'GPN', 'PH', 'PGR', 'PX', 'HAL', 'NTAP', 'NRG', 'F', 'PNR', 'WEC', 'SNA', 'MAS', 'GOOGL', 'TAP', 'IP', 'DUK', 'CINF', 'HD', 'LNC', 'PFG', 'CTAS', 'NEM', 'BSX', 'AEE', 'SIG', 'EXR', 'CCL', 'WBA', 'XLNX', 'SWK', 'FRT', 'SPGI', 'MS', 'MPC', 'EL', 'NVDA', 'APA', 'AJG', 'EXC', 'GRMN', 'UPS', 'GPC', 'PDCO', 'TEL', 'NKE', 'SYMC', 'ALGN', 'HCP', 'SYY', 'BWA', 'SBAC', 'AOS', 'ULTA', 'KORS', 'DLR', 'QRVO', 'DXC', 'AYI', 'IR', 'CI', 'SLB', 'NTRS', 'FLS', 'L', 'MET', 'IVZ', 'GS', 'RJF', 'CMA', 'MO', 'LLL', 'DRI', 'DLTR', 'WMB', 'FBHS', 'GM', 'PFE', 'WRK', 'GGP', 'LMT', 'BBT', 'DVN', 'PG', 'SBUX', 'TDG', 'WHR', 'MGM', 'ETR', 'IFF', 'WYN', 'CPB', 'FL', 'ANSS', 'VZ', 'FAST', 'TGT', 'CL', 'BEN', 'HSIC', 'EQIX', 'OXY', 'MCD', 'ROP', 'BAX', 'ABBV', 'EQR', 'VRSK', 'LEN', 'CCI', 'XYL', 'FFIV', 'ETN', 'FIS', 'KMB', 'INTU', 'KIM', 'LUK', 'PLD', 'CTL', 'ABT', 'CMG', 'TXN', 'FE', 'ICE', 'NEE', 'DRE', 'MAT', 'VLO', 'FCX', 'PAYX', 'CSX', 'DISCK', 'TIF', 'CAG', 'JPM', 'MSFT', 'K', 'WLTW', 'PYPL', 'IDXX', 'EXPE', 'JNJ', 'MCO', 'PEP', 'HSY', 'AMZN', 'JCI', 'AET', 'TRIP', 'CRM', 'FLR', 'MSI', 'VAR', 'TMO', 'ADI', 'AZO', 'CME', 'ADM', 'SWKS', 'JBHT', 'DHI', 'SCHW', 'GLW', 'CSCO', 'WU', 'MRO', 'VIAB', 'ALK', 'ETFC', 'GWW', 'TRV', 'SNI', 'STI', 'VTR', 'FTI', 'CLX', 'AAP', 'DHR', 'NUE', 'PSX', 'XOM', 'DE', 'VNO', 'AON', 'BK', 'CXO', 'XRAY', 'ADBE', 'DISCA', 'MDT', 'ORLY', 'CNC', 'CHTR', 'AKAM', 'ZION', 'CB', 'CF', 'MA', 'CHRW', 'DFS', 'HES', 'NDAQ', 'KMI', 'CFG', 'HON', 'HCA', 'FITB', 'MAR', 'AEP', 'KLAC', 'NOV', 'TSN', 'DGX', 'PPG', 'XEC', 'LRCX', 'PM', 'XEL', 'REG', 'CA', 'BAC', 'ANDV', 'EOG', 'PSA', 'CMS', 'RTN', 'MTB', 'CBOE', 'AMP', 'AFL', 'BCR', 'CBG', 'FOXA', 'PNC', 'APC', 'PCAR', 'NSC', 'CAT', 'CBS', 'PKG', 'ITW', 'BBY', 'COP', 'HOLX', 'RHI', 'RRC', 'BMY', 'HAS', 'LNT', 'KEY', 'ARNC', 'MOS', 'JEC', 'WM', 'RF', 'ISRG', 'MRK', 'KO', 'A', 'SRE', 'EIX', 'UTX', 'PEG', 'RCL', 'ZBH', 'ARE', 'NWS', 'SNPS', 'PWR', 'GIS', 'RL', 'UNM', 'ALLE', 'AGN', 'MAA', 'COG', 'SYK', 'C', 'HLT', 'DAL', 'JWN', 'ORCL', 'WDC', 'ROK', 'KSU', 'ALXN', 'SHW', 'RE', 'HOG', 'SRCL', 'WY', 'TSCO', 'AMT', 'TSS', 'NOC', 'GOOG', 'LKQ', 'SJM', 'DIS', 'PHM', 'AIV', 'HRL', 'NAVI', 'SEE', 'DPS', 'MMC', 'NBL', 'MYL', 'VMC', 'WFC', 'FDX', 'CHD', 'PRU', 'HST', 'ABC', 'KMX', 'PVH', 'UNH', 'CNP', 'RHT', 'RSG', 'SLG', 'DVA', 'GE', 'HPQ', 'WYNN', 'OMC', 'EMR', 'PNW', 'HCN', 'SO', 'AWK', 'O', 'EBAY', 'COTY', 'AMG', 'LLY', 'AES', 'DISH', 'STT', 'USB', 'AIG', 'HBAN', 'ALL', 'ATVI', 'TJX', 'KHC', 'AMD', 'FISV', 'NFX', 'UA', 'YUM', 'MKC', 'ES', 'COF', 'AVGO', 'STX', 'D', 'TMK', 'LB', 'GD', 'DTE', 'SYF', 'BDX', 'COO', 'UAA', 'HIG', 'CELG', 'XL', 'HUM', 'MNST', 'T', 'HRS', 'BXP', 'WMT', 'CAH', 'LVLT', 'MAC', 'NWSA', 'CERN', 'MON', 'AME', 'EMN', 'RMD', 'HP', 'MTD', 'UNP', 'MLM', 'CTXS', 'EVHC', 'ILMN', 'VFC', 'ECL', 'STZ', 'MCK', 'IT', 'IBM', 'V', 'ACN', 'SPLS', 'DG', 'FTV', 'PKI', 'GPS', 'CHK', 'SPG', 'CMCSA', 'ROST', 'AAPL', 'CVX']\n",
        "#ticker=['A', 'AAL', 'AAP', 'AAPL', 'ABBV', 'ABC', 'ABT', 'ACN', 'ADBE', 'ADI', 'ADM', 'ADP', 'ADS', 'ADSK', 'AEE', 'AEP', 'AES', 'AET', 'AFL', 'AGN', 'AIG', 'AIV', 'AIZ', 'AJG', 'AKAM', 'ALB', 'ALGN', 'ALK', 'ALL', 'ALLE', 'ALXN', 'AMD', 'AME', 'AMG', 'AMGN', 'AMP', 'AMT', 'AMZN', 'ANDV', 'ANSS', 'ANTM', 'AON', 'AOS', 'APA', 'APC', 'APD', 'APH', 'ARE', 'ARNC', 'ATVI', 'AVGO', 'AVY', 'AWK', 'AXP', 'AYI', 'AZO', 'BA', 'BAC', 'BAX', 'BBT', 'BBY', 'BCR', 'BDX', 'BEN', 'BIIB', 'BK', 'BLK', 'BLL', 'BMY', 'BSX', 'BWA', 'BXP', 'C', 'CA', 'CAG', 'CAH', 'CAT', 'CB', 'CBG', 'CBOE', 'CBS', 'CCI', 'CCL', 'CELG', 'CERN', 'CF', 'CFG', 'CHD', 'CHK', 'CHRW', 'CHTR', 'CI', 'CINF', 'CL', 'CLX', 'CMA', 'CMCSA', 'CME', 'CMG', 'CMI', 'CMS', 'CNC', 'CNP', 'COF', 'COG', 'COO', 'COP', 'COTY', 'CPB', 'CRM', 'CSCO', 'CSX', 'CTAS', 'CTL', 'CTSH', 'CTXS', 'CVS', 'CVX', 'CXO', 'D', 'DAL', 'DE', 'DFS', 'DG', 'DGX', 'DHI', 'DHR', 'DIS', 'DISCA', 'DISCK', 'DISH', 'DLR', 'DLTR', 'DOV', 'DPS', 'DRE', 'DRI', 'DTE', 'DUK', 'DVA', 'DVN', 'DXC', 'EA', 'EBAY', 'ECL', 'ED', 'EFX', 'EIX', 'EL', 'EMN', 'EMR', 'EOG', 'EQIX', 'EQR', 'EQT', 'ES', 'ETFC', 'ETN', 'ETR', 'EVHC', 'EW', 'EXC', 'EXPD', 'EXPE', 'EXR', 'F', 'FAST', 'FB', 'FBHS', 'FCX', 'FDX', 'FE', 'FFIV', 'FIS', 'FISV', 'FITB', 'FL', 'FLIR', 'FLR', 'FLS', 'FMC', 'FOX', 'FOXA', 'FRT', 'FTI', 'FTV', 'GD', 'GE', 'GGP', 'GILD', 'GIS', 'GLW', 'GM', 'GOOG', 'GOOGL', 'GPC', 'GPN', 'GPS', 'GRMN', 'GS', 'GT', 'GWW', 'HAL', 'HAS', 'HBAN', 'HBI', 'HCA', 'HCN', 'HCP', 'HD', 'HES', 'HIG', 'HLT', 'HOG', 'HOLX', 'HON', 'HP', 'HPE', 'HPQ', 'HRB', 'HRL', 'HRS', 'HSIC', 'HST', 'HSY', 'HUM', 'IBM', 'ICE', 'IDXX', 'IFF', 'ILMN', 'INCY', 'INFO', 'INTC', 'INTU', 'IP', 'IPG', 'IR', 'IRM', 'ISRG', 'IT', 'ITW', 'IVZ', 'JBHT', 'JCI', 'JEC', 'JNJ', 'JNPR', 'JPM', 'JWN', 'K', 'KEY', 'KHC', 'KIM', 'KLAC', 'KMB', 'KMI', 'KMX', 'KO', 'KORS', 'KR', 'KSS', 'KSU', 'L', 'LB', 'LEG', 'LEN', 'LH', 'LKQ', 'LLL', 'LLY', 'LMT', 'LNC', 'LNT', 'LOW', 'LRCX', 'LUK', 'LUV', 'LVLT', 'LYB', 'M', 'MA', 'MAA', 'MAC', 'MAR', 'MAS', 'MAT', 'MCD', 'MCHP', 'MCK', 'MCO', 'MDLZ', 'MDT', 'MET', 'MGM', 'MHK', 'MKC', 'MLM', 'MMC', 'MNST', 'MO', 'MON', 'MOS', 'MPC', 'MRK', 'MRO', 'MS', 'MSFT', 'MSI', 'MTB', 'MTD', 'MU', 'MYL', 'NAVI', 'NBL', 'NDAQ', 'NEE', 'NEM', 'NFLX', 'NFX', 'NI', 'NKE', 'NLSN', 'NOC', 'NOV', 'NRG', 'NSC', 'NTAP', 'NTRS', 'NUE', 'NVDA', 'NWL', 'NWS', 'NWSA', 'O', 'OKE', 'OMC', 'ORCL', 'ORLY', 'OXY', 'PAYX', 'PBCT', 'PCAR', 'PCG', 'PDCO', 'PEG', 'PEP', 'PFE', 'PFG', 'PG', 'PGR', 'PH', 'PHM', 'PKG', 'PKI', 'PLD', 'PM', 'PNC', 'PNR', 'PNW', 'PPG', 'PPL', 'PRGO', 'PRU', 'PSA', 'PSX', 'PVH', 'PWR', 'PX', 'PXD', 'PYPL', 'QCOM', 'QRVO', 'RCL', 'RE', 'REG', 'REGN', 'RF', 'RHI', 'RHT', 'RJF', 'RL', 'RMD', 'ROK', 'ROP', 'ROST', 'RRC', 'RSG', 'RTN', 'SBAC', 'SBUX', 'SCG', 'SCHW', 'SEE', 'SHW', 'SIG', 'SJM', 'SLB', 'SLG', 'SNA', 'SNI', 'SNPS', 'SO', 'SPG', 'SPGI', 'SPLS', 'SRCL', 'SRE', 'STI', 'STT', 'STX', 'STZ', 'SWK', 'SWKS', 'SYF', 'SYK', 'SYMC', 'SYY', 'T', 'TAP', 'TDG', 'TEL', 'TGT', 'TIF', 'TJX', 'TMK', 'TMO', 'TRIP', 'TROW', 'TRV', 'TSCO', 'TSN', 'TSS', 'TXN', 'TXT', 'UA', 'UAA', 'UAL', 'UDR', 'UHS', 'ULTA', 'UNH', 'UNM', 'UNP', 'UPS', 'URI', 'USB', 'UTX', 'V', 'VAR', 'VFC', 'VIAB', 'VLO', 'VMC', 'VNO', 'VRSK', 'VRSN', 'VRTX', 'VTR', 'VZ', 'WAT', 'WBA', 'WDC', 'WEC', 'WFC', 'WHR', 'WLTW', 'WM', 'WMB', 'WMT', 'WRK', 'WU', 'WY', 'WYN', 'WYNN', 'XEC', 'XEL', 'XL', 'XLNX', 'XOM', 'XRAY', 'XRX', 'XYL', 'YUM', 'ZBH', 'ZION', 'ZTS']\n",
        "#ticker=['A', 'AAL', 'AAP', 'AAPL', 'ABBV', 'ABC', 'ABT', 'ACN', 'ADBE', 'ADI', 'ADM', 'ADP', 'ADS', 'ADSK', 'AEE', 'AEP', 'AES', 'AET', 'AFL', 'AGN', 'AIG', 'AIV', 'AIZ', 'AJG', 'AKAM', 'ALB', 'ALGN', 'ALK', 'ALL', 'ALLE', 'ALXN', 'AMD', 'AME', 'AMG', 'AMGN', 'AMP', 'AMT', 'AMZN', 'ANSS', 'ANTM', 'AON', 'AOS', 'APA', 'APD', 'APH', 'ARE', 'ARNC', 'ATVI', 'AVGO', 'AVY', 'AWK', 'AXP', 'AYI', 'AZO', 'BA', 'BAC', 'BAX', 'BBY', 'BDX', 'BEN', 'BIIB', 'BK', 'BLK', 'BLL', 'BMY', 'BSX', 'BWA', 'BXP', 'C', 'CA', 'CAG', 'CAH', 'CAT', 'CB', 'CBOE', 'CBS', 'CCI', 'CCL', 'CERN', 'CF', 'CFG', 'CHD', 'CHK', 'CHRW', 'CHTR', 'CI', 'CINF', 'CL', 'CLX', 'CMA', 'CMCSA', 'CME', 'CMG', 'CMI', 'CMS', 'CNC', 'CNP', 'COF', 'COG', 'COO', 'COP', 'COTY', 'CPB', 'CRM', 'CSCO', 'CSX', 'CTAS', 'CTL', 'CTSH', 'CTXS', 'CVS', 'CVX', 'CXO', 'D', 'DAL', 'DE', 'DFS', 'DG', 'DGX', 'DHI', 'DHR', 'DIS', 'DISCA', 'DISCK', 'DISH', 'DLR', 'DLTR', 'DOV', 'DRE', 'DRI', 'DTE', 'DUK', 'DVA', 'DVN', 'DXC', 'EA', 'EBAY', 'ECL', 'ED', 'EFX', 'EIX', 'EL', 'EMN', 'EMR', 'EOG', 'EQIX', 'EQR', 'EQT', 'ES', 'ETFC', 'ETN', 'ETR', 'EW', 'EXC', 'EXPD', 'EXPE', 'EXR', 'F', 'FAST', 'FB', 'FBHS', 'FCX', 'FDX', 'FE', 'FFIV', 'FIS', 'FISV', 'FITB', 'FL', 'FLIR', 'FLR', 'FLS', 'FMC', 'FOX', 'FOXA', 'FRT', 'FTI', 'FTV', 'GD', 'GE', 'GILD', 'GIS', 'GLW', 'GM', 'GOOG', 'GOOGL', 'GPC', 'GPN', 'GPS', 'GRMN', 'GS', 'GT', 'GWW', 'HAL', 'HAS', 'HBAN', 'HBI', 'HCA', 'HD', 'HES', 'HIG', 'HLT', 'HOG', 'HOLX', 'HON', 'HP', 'HPE', 'HPQ', 'HRB', 'HRL', 'HSIC', 'HST', 'HSY', 'HUM', 'IBM', 'ICE', 'IDXX', 'IFF', 'ILMN', 'INCY', 'INFO', 'INTC', 'INTU', 'IP', 'IPG', 'IR', 'IRM', 'ISRG', 'IT', 'ITW', 'IVZ', 'JBHT', 'JCI', 'JEC', 'JNJ', 'JNPR', 'JPM', 'JWN', 'K', 'KEY', 'KHC', 'KIM', 'KLAC', 'KMB', 'KMI', 'KMX', 'KO', 'KR', 'KSS', 'KSU', 'L', 'LB', 'LEG', 'LEN', 'LH', 'LKQ', 'LLY', 'LMT', 'LNC', 'LNT', 'LOW', 'LRCX', 'LUV', 'LYB', 'M', 'MA', 'MAA', 'MAC', 'MAR', 'MAS', 'MAT', 'MCD', 'MCHP', 'MCK', 'MCO', 'MDLZ', 'MDT', 'MET', 'MGM', 'MHK', 'MKC', 'MLM', 'MMC', 'MNST', 'MO', 'MON', 'MOS', 'MPC', 'MRK', 'MRO', 'MS', 'MSFT', 'MSI', 'MTB', 'MTD', 'MU', 'MYL', 'NAVI', 'NBL', 'NDAQ', 'NEE', 'NEM', 'NFLX', 'NKE', 'NLSN', 'NOC', 'NOV', 'NRG', 'NSC', 'NTAP', 'NTRS', 'NUE', 'NVDA', 'NWL', 'NWS', 'NWSA', 'O', 'OKE', 'OMC', 'ORCL', 'ORLY', 'OXY', 'PAYX', 'PBCT', 'PCAR', 'PCG', 'PDCO', 'PEG', 'PEP', 'PFE', 'PFG', 'PG', 'PGR', 'PH', 'PHM', 'PKG', 'PKI', 'PLD', 'PM', 'PNC', 'PNR', 'PNW', 'PPG', 'PPL', 'PRGO', 'PRU', 'PSA', 'PSX', 'PVH', 'PWR', 'PXD', 'PYPL', 'QCOM', 'QRVO', 'RCL', 'RE', 'REG', 'REGN', 'RF', 'RHI', 'RJF', 'RL', 'RMD', 'ROK', 'ROP', 'ROST', 'RRC', 'RSG', 'RTN', 'SBAC', 'SBUX', 'SCG', 'SCHW', 'SEE', 'SHW', 'SIG', 'SJM', 'SLB', 'SLG', 'SNA', 'SNPS', 'SO', 'SPG', 'SPGI', 'SRCL', 'SRE', 'STI', 'STT', 'STX', 'STZ', 'SWK', 'SWKS', 'SYF', 'SYK', 'SYY', 'T', 'TAP', 'TDG', 'TEL', 'TGT', 'TIF', 'TJX', 'TMO', 'TRIP', 'TROW', 'TRV', 'TSCO', 'TSN', 'TXN', 'TXT', 'UAA', 'UAL', 'UDR', 'UHS', 'ULTA', 'UNH', 'UNM', 'UNP', 'UPS', 'URI', 'USB', 'UTX', 'V', 'VAR', 'VFC', 'VLO', 'VMC', 'VNO', 'VRSK', 'VRSN', 'VRTX', 'VTR', 'VZ', 'WAT', 'WBA', 'WDC', 'WEC', 'WFC', 'WHR', 'WLTW', 'WM', 'WMB', 'WMT', 'WRK', 'WU', 'WY', 'WYNN', 'XEC', 'XEL', 'XLNX', 'XOM', 'XRAY', 'XRX', 'XYL', 'YUM', 'ZBH', 'ZION', 'ZTS']\n",
        "#ticker=['A', 'AAL', 'AAP', 'AAPL', 'ABBV', 'ABC', 'ABT', 'ACN', 'ADBE', 'ADI', 'ADM', 'ADP', 'ADS', 'ADSK', 'AEE', 'AEP', 'AES', 'AET', 'AFL', 'AGN', 'AIG', 'AIV', 'AIZ', 'AJG', 'AKAM', 'ALB', 'ALGN', 'ALK', 'ALL', 'ALLE', 'ALXN', 'AMD', 'AME', 'AMG', 'AMGN', 'AMP', 'AMT', 'AMZN', 'ANSS', 'ANTM', 'AON', 'AOS', 'APA', 'APD', 'APH', 'ARE', 'ARNC', 'ATVI', 'AVGO', 'AVY', 'AWK', 'AXP', 'AYI', 'AZO', 'BA', 'BAC', 'BAX', 'BBY', 'BDX', 'BEN', 'BIIB', 'BK', 'BLK', 'BLL', 'BMY', 'BSX', 'BWA', 'BXP', 'C', 'CAG', 'CAH', 'CAT', 'CB', 'CBOE', 'CBS', 'CCI', 'CCL', 'CERN', 'CF', 'CFG', 'CHD', 'CHK', 'CHRW', 'CHTR', 'CI', 'CINF', 'CL', 'CLX', 'CMA', 'CMCSA', 'CME', 'CMG', 'CMI', 'CMS', 'CNC', 'CNP', 'COF', 'COG', 'COO', 'COP', 'COTY', 'CPB', 'CRM', 'CSCO', 'CSX', 'CTAS', 'CTL', 'CTSH', 'CTXS', 'CVS', 'CVX', 'CXO', 'D', 'DAL', 'DE', 'DFS', 'DG', 'DGX', 'DHI', 'DHR', 'DIS', 'DISCA', 'DISCK', 'DISH', 'DLR', 'DLTR', 'DOV', 'DRE', 'DRI', 'DTE', 'DUK', 'DVA', 'DVN', 'DXC', 'EA', 'EBAY', 'ECL', 'ED', 'EFX', 'EIX', 'EL', 'EMN', 'EMR', 'EOG', 'EQIX', 'EQR', 'EQT', 'ES', 'ETFC', 'ETN', 'ETR', 'EW', 'EXC', 'EXPD', 'EXPE', 'EXR', 'F', 'FAST', 'FB', 'FBHS', 'FCX', 'FDX', 'FE', 'FFIV', 'FIS', 'FISV', 'FITB', 'FL', 'FLIR', 'FLR', 'FLS', 'FMC', 'FOX', 'FOXA', 'FRT', 'FTI', 'FTV', 'GD', 'GE', 'GILD', 'GIS', 'GLW', 'GM', 'GOOG', 'GOOGL', 'GPC', 'GPN', 'GPS', 'GRMN', 'GS', 'GT', 'GWW', 'HAL', 'HAS', 'HBAN', 'HBI', 'HCA', 'HD', 'HES', 'HIG', 'HLT', 'HOG', 'HOLX', 'HON', 'HP', 'HPE', 'HPQ', 'HRB', 'HRL', 'HSIC', 'HST', 'HSY', 'HUM', 'IBM', 'ICE', 'IDXX', 'IFF', 'ILMN', 'INCY', 'INFO', 'INTC', 'INTU', 'IP', 'IPG', 'IR', 'IRM', 'ISRG', 'IT', 'ITW', 'IVZ', 'JBHT', 'JCI', 'JEC', 'JNJ', 'JNPR', 'JPM', 'JWN', 'K', 'KEY', 'KHC', 'KIM', 'KLAC', 'KMB', 'KMI', 'KMX', 'KO', 'KR', 'KSS', 'KSU', 'L', 'LB', 'LEG', 'LEN', 'LH', 'LKQ', 'LLY', 'LMT', 'LNC', 'LNT', 'LOW', 'LRCX', 'LUV', 'LYB', 'M', 'MA', 'MAA', 'MAC', 'MAR', 'MAS', 'MAT', 'MCD', 'MCHP', 'MCK', 'MCO', 'MDLZ', 'MDT', 'MET', 'MGM', 'MHK', 'MKC', 'MLM', 'MMC', 'MNST', 'MO', 'MON', 'MOS', 'MPC', 'MRK', 'MRO', 'MS', 'MSFT', 'MSI', 'MTB', 'MTD', 'MU', 'MYL', 'NAVI', 'NBL', 'NDAQ', 'NEE', 'NEM', 'NFLX', 'NKE', 'NLSN', 'NOC', 'NOV', 'NRG', 'NSC', 'NTAP', 'NTRS', 'NUE', 'NVDA', 'NWL', 'NWS', 'NWSA', 'O', 'OKE', 'OMC', 'ORCL', 'ORLY', 'OXY', 'PAYX', 'PBCT', 'PCAR', 'PCG', 'PDCO', 'PEG', 'PEP', 'PFE', 'PFG', 'PG', 'PGR', 'PH', 'PHM', 'PKG', 'PKI', 'PLD', 'PM', 'PNC', 'PNR', 'PNW', 'PPG', 'PPL', 'PRGO', 'PRU', 'PSA', 'PSX', 'PVH', 'PWR', 'PXD', 'PYPL', 'QCOM', 'QRVO', 'RCL', 'RE', 'REG', 'REGN', 'RF', 'RHI', 'RJF', 'RL', 'RMD', 'ROK', 'ROP', 'ROST', 'RRC', 'RSG', 'RTN', 'SBAC', 'SBUX', 'SCG', 'SCHW', 'SEE', 'SHW', 'SIG', 'SJM', 'SLB', 'SLG', 'SNA', 'SNPS', 'SO', 'SPG', 'SPGI', 'SRCL', 'SRE', 'STI', 'STT', 'STX', 'STZ', 'SWK', 'SWKS', 'SYF', 'SYK', 'SYY', 'T', 'TAP', 'TDG', 'TEL', 'TGT', 'TIF', 'TJX', 'TMO', 'TRIP', 'TROW', 'TRV', 'TSCO', 'TSN', 'TXN', 'TXT', 'UAA', 'UAL', 'UDR', 'UHS', 'ULTA', 'UNH', 'UNM', 'UNP', 'UPS', 'URI', 'USB', 'UTX', 'V', 'VAR', 'VFC', 'VLO', 'VMC', 'VNO', 'VRSK', 'VRSN', 'VRTX', 'VTR', 'VZ', 'WAT', 'WBA', 'WDC', 'WEC', 'WFC', 'WHR', 'WLTW', 'WM', 'WMB', 'WMT', 'WRK', 'WU', 'WY', 'WYNN', 'XEC', 'XEL', 'XLNX', 'XOM', 'XRAY', 'XRX', 'XYL', 'YUM', 'ZBH', 'ZION', 'ZTS']\n",
        "ticker=['A', 'AAL', 'AAP', 'AAPL', 'ABBV', 'ABC', 'ABT', 'ACN', 'ADBE', 'ADI', 'ADM', 'ADP', 'ADS', 'ADSK', 'AEE', 'AEP', 'AES', 'AFL', 'AIG', 'AIV', 'AIZ', 'AJG', 'AKAM', 'ALB', 'ALGN', 'ALK', 'ALL', 'ALLE', 'ALXN', 'AMD', 'AME', 'AMG', 'AMGN', 'AMP', 'AMT', 'AMZN', 'ANSS', 'ANTM', 'AON', 'AOS', 'APA', 'APD', 'APH', 'ARE', 'ARNC', 'ATVI', 'AVGO', 'AVY', 'AWK', 'AXP', 'AYI', 'AZO', 'BA', 'BAC', 'BAX', 'BBY', 'BDX', 'BEN', 'BIIB', 'BK', 'BLK', 'BLL', 'BMY', 'BSX', 'BWA', 'BXP', 'C', 'CAG', 'CAH', 'CAT', 'CB', 'CBOE', 'CCI', 'CCL', 'CERN', 'CF', 'CFG', 'CHD', 'CHK', 'CHRW', 'CHTR', 'CI', 'CINF', 'CL', 'CLX', 'CMA', 'CMCSA', 'CME', 'CMG', 'CMI', 'CMS', 'CNC', 'CNP', 'COF', 'COG', 'COO', 'COP', 'COTY', 'CPB', 'CRM', 'CSCO', 'CSX', 'CTAS', 'CTL', 'CTSH', 'CTXS', 'CVS', 'CVX', 'CXO', 'D', 'DAL', 'DE', 'DFS', 'DG', 'DGX', 'DHI', 'DHR', 'DIS', 'DISCA', 'DISCK', 'DISH', 'DLR', 'DLTR', 'DOV', 'DRE', 'DRI', 'DTE', 'DUK', 'DVA', 'DVN', 'DXC', 'EA', 'EBAY', 'ECL', 'ED', 'EFX', 'EIX', 'EL', 'EMN', 'EMR', 'EOG', 'EQIX', 'EQR', 'EQT', 'ES', 'ETFC', 'ETN', 'ETR', 'EW', 'EXC', 'EXPD', 'EXPE', 'EXR', 'F', 'FAST', 'FB', 'FBHS', 'FCX', 'FDX', 'FE', 'FFIV', 'FIS', 'FISV', 'FITB', 'FL', 'FLIR', 'FLR', 'FLS', 'FMC', 'FOX', 'FOXA', 'FRT', 'FTI', 'FTV', 'GD', 'GE', 'GILD', 'GIS', 'GLW', 'GM', 'GOOG', 'GOOGL', 'GPC', 'GPN', 'GPS', 'GRMN', 'GS', 'GT', 'GWW', 'HAL', 'HAS', 'HBAN', 'HBI', 'HCA', 'HD', 'HES', 'HIG', 'HLT', 'HOG', 'HOLX', 'HON', 'HP', 'HPE', 'HPQ', 'HRB', 'HRL', 'HSIC', 'HST', 'HSY', 'HUM', 'IBM', 'ICE', 'IDXX', 'IFF', 'ILMN', 'INCY', 'INFO', 'INTC', 'INTU', 'IP', 'IPG', 'IR', 'IRM', 'ISRG', 'IT', 'ITW', 'IVZ', 'JBHT', 'JCI', 'JNJ', 'JNPR', 'JPM', 'JWN', 'K', 'KEY', 'KHC', 'KIM', 'KLAC', 'KMB', 'KMI', 'KMX', 'KO', 'KR', 'KSS', 'KSU', 'L', 'LB', 'LEG', 'LEN', 'LH', 'LKQ', 'LLY', 'LMT', 'LNC', 'LNT', 'LOW', 'LRCX', 'LUV', 'LYB', 'M', 'MA', 'MAA', 'MAC', 'MAR', 'MAS', 'MAT', 'MCD', 'MCHP', 'MCK', 'MCO', 'MDLZ', 'MDT', 'MET', 'MGM', 'MHK', 'MKC', 'MLM', 'MMC', 'MNST', 'MO', 'MOS', 'MPC', 'MRK', 'MRO', 'MS', 'MSFT', 'MSI', 'MTB', 'MTD', 'MU', 'MYL', 'NAVI', 'NBL', 'NDAQ', 'NEE', 'NEM', 'NFLX', 'NKE', 'NLSN', 'NOC', 'NOV', 'NRG', 'NSC', 'NTAP', 'NTRS', 'NUE', 'NVDA', 'NWL', 'NWS', 'NWSA', 'O', 'OKE', 'OMC', 'ORCL', 'ORLY', 'OXY', 'PAYX', 'PBCT', 'PCAR', 'PCG', 'PDCO', 'PEG', 'PEP', 'PFE', 'PFG', 'PG', 'PGR', 'PH', 'PHM', 'PKG', 'PKI', 'PLD', 'PM', 'PNC', 'PNR', 'PNW', 'PPG', 'PPL', 'PRGO', 'PRU', 'PSA', 'PSX', 'PVH', 'PWR', 'PXD', 'PYPL', 'QCOM', 'QRVO', 'RCL', 'RE', 'REG', 'REGN', 'RF', 'RHI', 'RJF', 'RL', 'RMD', 'ROK', 'ROP', 'ROST', 'RRC', 'RSG', 'SBAC', 'SBUX', 'SCG', 'SCHW', 'SEE', 'SHW', 'SIG', 'SJM', 'SLB', 'SLG', 'SNA', 'SNPS', 'SO', 'SPG', 'SPGI', 'SRCL', 'SRE', 'STT', 'STX', 'STZ', 'SWK', 'SWKS', 'SYF', 'SYK', 'SYY', 'T', 'TAP', 'TDG', 'TEL', 'TGT', 'TIF', 'TJX', 'TMO', 'TRIP', 'TROW', 'TRV', 'TSCO', 'TSN', 'TXN', 'TXT', 'UAA', 'UAL', 'UDR', 'UHS', 'ULTA', 'UNH', 'UNM', 'UNP', 'UPS', 'URI', 'USB', 'V', 'VAR', 'VFC', 'VLO', 'VMC', 'VNO', 'VRSK', 'VRSN', 'VRTX', 'VTR', 'VZ', 'WAT', 'WBA', 'WDC', 'WEC', 'WFC', 'WHR', 'WLTW', 'WM', 'WMB', 'WMT', 'WRK', 'WU', 'WY', 'WYNN', 'XEC', 'XEL', 'XLNX', 'XOM', 'XRAY', 'XRX', 'XYL', 'YUM', 'ZBH', 'ZION', 'ZTS']\n",
        "print(len(ticker))\n",
        "data=pd.DataFrame()\n",
        "\n",
        "\n",
        "\n",
        "ch=0\n",
        "u_ticker=[]\n",
        "\n",
        "def load_file(ticker):\n",
        "  cnt=0\n",
        "  try:\n",
        "    \n",
        "\n",
        "    for i in ticker:\n",
        "\n",
        "      datat1=wb.DataReader(i,start='2011-01-01', 'M',end='2020-06-07', 'M',data_source='yahoo')\n",
        "      \n",
        "      \n",
        "      datat1.rename(columns={'High': 'high', 'Close': 'close', 'Volume': 'volume', 'Low': 'low', 'Open': 'open'}, inplace=True)\n",
        "      datat1.to_csv('/zip_data/daily/{}.csv'.format(i))\n",
        "      u_ticker.append(i)\n",
        "      cnt=cnt+1\n",
        "      \n",
        "  \n",
        "  except KeyError:\n",
        "  \n",
        "      ticker.pop(cnt)\n",
        "      ticker=ticker[cnt:]\n",
        "      load_file(ticker)\n",
        "  except RemoteDataError:\n",
        "    \n",
        "    ticker.pop(cnt)\n",
        "    ticker=ticker[cnt:]\n",
        "    load_file(ticker)\n",
        "  except OverflowError:\n",
        "    ticker.pop(cnt)\n",
        "    ticker=ticker[cnt:]\n",
        "    load_file(ticker)\n",
        "\n",
        "load_file(ticker)"
      ],
      "execution_count": null,
      "outputs": [
        {
          "output_type": "error",
          "ename": "SyntaxError",
          "evalue": "ignored",
          "traceback": [
            "\u001b[0;36m  File \u001b[0;32m\"<ipython-input-1-15b30900aab2>\"\u001b[0;36m, line \u001b[0;32m29\u001b[0m\n\u001b[0;31m    datat1=wb.DataReader(i,start='2011-01-01', 'M',end='2020-06-07', 'M',data_source='yahoo')\u001b[0m\n\u001b[0m                                              ^\u001b[0m\n\u001b[0;31mSyntaxError\u001b[0m\u001b[0;31m:\u001b[0m positional argument follows keyword argument\n"
          ]
        }
      ]
    },
    {
      "cell_type": "code",
      "metadata": {
        "id": "LsjEjktldgzA",
        "colab_type": "code",
        "colab": {
          "base_uri": "https://localhost:8080/",
          "height": 801
        },
        "outputId": "c0f1696f-b9cc-4071-f35e-743e00c3972d"
      },
      "source": [
        "!pip install alphalens\n"
      ],
      "execution_count": null,
      "outputs": [
        {
          "output_type": "stream",
          "text": [
            "Collecting alphalens\n",
            "\u001b[?25l  Downloading https://files.pythonhosted.org/packages/a6/93/3afd2bb2b4a7629b5c99209f1e272290b7125373e46ceb11fba14e675562/alphalens-0.4.0.tar.gz (24.0MB)\n",
            "\u001b[K     |████████████████████████████████| 24.0MB 176kB/s \n",
            "\u001b[?25hRequirement already satisfied: matplotlib>=1.4.0 in /usr/local/lib/python3.6/dist-packages (from alphalens) (3.2.2)\n",
            "Requirement already satisfied: numpy>=1.9.1 in /usr/local/lib/python3.6/dist-packages (from alphalens) (1.18.5)\n",
            "Requirement already satisfied: pandas>=0.18.0 in /usr/local/lib/python3.6/dist-packages (from alphalens) (0.22.0)\n",
            "Requirement already satisfied: scipy>=0.14.0 in /usr/local/lib/python3.6/dist-packages (from alphalens) (1.4.1)\n",
            "Requirement already satisfied: seaborn>=0.6.0 in /usr/local/lib/python3.6/dist-packages (from alphalens) (0.10.1)\n",
            "Requirement already satisfied: statsmodels>=0.6.1 in /usr/local/lib/python3.6/dist-packages (from alphalens) (0.10.2)\n",
            "Requirement already satisfied: IPython>=3.2.3 in /usr/local/lib/python3.6/dist-packages (from alphalens) (5.5.0)\n",
            "Requirement already satisfied: empyrical>=0.5.0 in /usr/local/lib/python3.6/dist-packages (from alphalens) (0.5.3)\n",
            "Requirement already satisfied: python-dateutil>=2.1 in /usr/local/lib/python3.6/dist-packages (from matplotlib>=1.4.0->alphalens) (2.8.1)\n",
            "Requirement already satisfied: kiwisolver>=1.0.1 in /usr/local/lib/python3.6/dist-packages (from matplotlib>=1.4.0->alphalens) (1.2.0)\n",
            "Requirement already satisfied: cycler>=0.10 in /usr/local/lib/python3.6/dist-packages (from matplotlib>=1.4.0->alphalens) (0.10.0)\n",
            "Requirement already satisfied: pyparsing!=2.0.4,!=2.1.2,!=2.1.6,>=2.0.1 in /usr/local/lib/python3.6/dist-packages (from matplotlib>=1.4.0->alphalens) (2.4.7)\n",
            "Requirement already satisfied: pytz>=2011k in /usr/local/lib/python3.6/dist-packages (from pandas>=0.18.0->alphalens) (2018.9)\n",
            "Requirement already satisfied: patsy>=0.4.0 in /usr/local/lib/python3.6/dist-packages (from statsmodels>=0.6.1->alphalens) (0.5.1)\n",
            "Requirement already satisfied: pickleshare in /usr/local/lib/python3.6/dist-packages (from IPython>=3.2.3->alphalens) (0.7.5)\n",
            "Requirement already satisfied: traitlets>=4.2 in /usr/local/lib/python3.6/dist-packages (from IPython>=3.2.3->alphalens) (4.3.3)\n",
            "Requirement already satisfied: simplegeneric>0.8 in /usr/local/lib/python3.6/dist-packages (from IPython>=3.2.3->alphalens) (0.8.1)\n",
            "Requirement already satisfied: decorator in /usr/local/lib/python3.6/dist-packages (from IPython>=3.2.3->alphalens) (4.4.2)\n",
            "Requirement already satisfied: pexpect; sys_platform != \"win32\" in /usr/local/lib/python3.6/dist-packages (from IPython>=3.2.3->alphalens) (4.8.0)\n",
            "Requirement already satisfied: prompt-toolkit<2.0.0,>=1.0.4 in /usr/local/lib/python3.6/dist-packages (from IPython>=3.2.3->alphalens) (1.0.18)\n",
            "Requirement already satisfied: setuptools>=18.5 in /usr/local/lib/python3.6/dist-packages (from IPython>=3.2.3->alphalens) (47.3.1)\n",
            "Requirement already satisfied: pygments in /usr/local/lib/python3.6/dist-packages (from IPython>=3.2.3->alphalens) (2.1.3)\n",
            "Requirement already satisfied: pandas-datareader>=0.2 in /usr/local/lib/python3.6/dist-packages (from empyrical>=0.5.0->alphalens) (0.8.1)\n",
            "Requirement already satisfied: six>=1.5 in /usr/local/lib/python3.6/dist-packages (from python-dateutil>=2.1->matplotlib>=1.4.0->alphalens) (1.12.0)\n",
            "Requirement already satisfied: ipython-genutils in /usr/local/lib/python3.6/dist-packages (from traitlets>=4.2->IPython>=3.2.3->alphalens) (0.2.0)\n",
            "Requirement already satisfied: ptyprocess>=0.5 in /usr/local/lib/python3.6/dist-packages (from pexpect; sys_platform != \"win32\"->IPython>=3.2.3->alphalens) (0.6.0)\n",
            "Requirement already satisfied: wcwidth in /usr/local/lib/python3.6/dist-packages (from prompt-toolkit<2.0.0,>=1.0.4->IPython>=3.2.3->alphalens) (0.2.5)\n",
            "Requirement already satisfied: lxml in /usr/local/lib/python3.6/dist-packages (from pandas-datareader>=0.2->empyrical>=0.5.0->alphalens) (4.2.6)\n",
            "Requirement already satisfied: requests>=2.3.0 in /usr/local/lib/python3.6/dist-packages (from pandas-datareader>=0.2->empyrical>=0.5.0->alphalens) (2.23.0)\n",
            "Requirement already satisfied: idna<3,>=2.5 in /usr/local/lib/python3.6/dist-packages (from requests>=2.3.0->pandas-datareader>=0.2->empyrical>=0.5.0->alphalens) (2.9)\n",
            "Requirement already satisfied: chardet<4,>=3.0.2 in /usr/local/lib/python3.6/dist-packages (from requests>=2.3.0->pandas-datareader>=0.2->empyrical>=0.5.0->alphalens) (3.0.4)\n",
            "Requirement already satisfied: urllib3!=1.25.0,!=1.25.1,<1.26,>=1.21.1 in /usr/local/lib/python3.6/dist-packages (from requests>=2.3.0->pandas-datareader>=0.2->empyrical>=0.5.0->alphalens) (1.24.3)\n",
            "Requirement already satisfied: certifi>=2017.4.17 in /usr/local/lib/python3.6/dist-packages (from requests>=2.3.0->pandas-datareader>=0.2->empyrical>=0.5.0->alphalens) (2020.6.20)\n",
            "Building wheels for collected packages: alphalens\n",
            "  Building wheel for alphalens (setup.py) ... \u001b[?25l\u001b[?25hdone\n",
            "  Created wheel for alphalens: filename=alphalens-0.4.0-cp36-none-any.whl size=24027560 sha256=5ab2a866ff99699e0137707e6488cfb37dde1c8be2ce6d3719a61f3d436d0cc6\n",
            "  Stored in directory: /root/.cache/pip/wheels/b7/fb/58/653997175d0e91a6459d84eb52e0989cf5348f0a569bd06ef5\n",
            "Successfully built alphalens\n",
            "Installing collected packages: alphalens\n",
            "Successfully installed alphalens-0.4.0\n"
          ],
          "name": "stdout"
        }
      ]
    },
    {
      "cell_type": "code",
      "metadata": {
        "id": "52mnpww0xm1y",
        "colab_type": "code",
        "colab": {
          "base_uri": "https://localhost:8080/",
          "height": 695
        },
        "outputId": "749e1966-2b3c-44e6-db13-421f977916cc"
      },
      "source": [
        "!pip install tensorflow --upgrade "
      ],
      "execution_count": null,
      "outputs": [
        {
          "output_type": "stream",
          "text": [
            "Requirement already up-to-date: tensorflow in /usr/local/lib/python3.6/dist-packages (2.2.0)\n",
            "Requirement already satisfied, skipping upgrade: h5py<2.11.0,>=2.10.0 in /usr/local/lib/python3.6/dist-packages (from tensorflow) (2.10.0)\n",
            "Requirement already satisfied, skipping upgrade: wrapt>=1.11.1 in /usr/local/lib/python3.6/dist-packages (from tensorflow) (1.12.1)\n",
            "Requirement already satisfied, skipping upgrade: gast==0.3.3 in /usr/local/lib/python3.6/dist-packages (from tensorflow) (0.3.3)\n",
            "Requirement already satisfied, skipping upgrade: wheel>=0.26; python_version >= \"3\" in /usr/local/lib/python3.6/dist-packages (from tensorflow) (0.34.2)\n",
            "Requirement already satisfied, skipping upgrade: astunparse==1.6.3 in /usr/local/lib/python3.6/dist-packages (from tensorflow) (1.6.3)\n",
            "Requirement already satisfied, skipping upgrade: termcolor>=1.1.0 in /usr/local/lib/python3.6/dist-packages (from tensorflow) (1.1.0)\n",
            "Requirement already satisfied, skipping upgrade: numpy<2.0,>=1.16.0 in /usr/local/lib/python3.6/dist-packages (from tensorflow) (1.18.5)\n",
            "Requirement already satisfied, skipping upgrade: scipy==1.4.1; python_version >= \"3\" in /usr/local/lib/python3.6/dist-packages (from tensorflow) (1.4.1)\n",
            "Requirement already satisfied, skipping upgrade: tensorflow-estimator<2.3.0,>=2.2.0 in /usr/local/lib/python3.6/dist-packages (from tensorflow) (2.2.0)\n",
            "Requirement already satisfied, skipping upgrade: grpcio>=1.8.6 in /usr/local/lib/python3.6/dist-packages (from tensorflow) (1.30.0)\n",
            "Requirement already satisfied, skipping upgrade: google-pasta>=0.1.8 in /usr/local/lib/python3.6/dist-packages (from tensorflow) (0.2.0)\n",
            "Requirement already satisfied, skipping upgrade: keras-preprocessing>=1.1.0 in /usr/local/lib/python3.6/dist-packages (from tensorflow) (1.1.2)\n",
            "Requirement already satisfied, skipping upgrade: tensorboard<2.3.0,>=2.2.0 in /usr/local/lib/python3.6/dist-packages (from tensorflow) (2.2.2)\n",
            "Requirement already satisfied, skipping upgrade: six>=1.12.0 in /usr/local/lib/python3.6/dist-packages (from tensorflow) (1.12.0)\n",
            "Requirement already satisfied, skipping upgrade: protobuf>=3.8.0 in /usr/local/lib/python3.6/dist-packages (from tensorflow) (3.10.0)\n",
            "Requirement already satisfied, skipping upgrade: opt-einsum>=2.3.2 in /usr/local/lib/python3.6/dist-packages (from tensorflow) (3.2.1)\n",
            "Requirement already satisfied, skipping upgrade: absl-py>=0.7.0 in /usr/local/lib/python3.6/dist-packages (from tensorflow) (0.9.0)\n",
            "Requirement already satisfied, skipping upgrade: setuptools>=41.0.0 in /usr/local/lib/python3.6/dist-packages (from tensorboard<2.3.0,>=2.2.0->tensorflow) (47.3.1)\n",
            "Requirement already satisfied, skipping upgrade: markdown>=2.6.8 in /usr/local/lib/python3.6/dist-packages (from tensorboard<2.3.0,>=2.2.0->tensorflow) (3.2.2)\n",
            "Requirement already satisfied, skipping upgrade: werkzeug>=0.11.15 in /usr/local/lib/python3.6/dist-packages (from tensorboard<2.3.0,>=2.2.0->tensorflow) (1.0.1)\n",
            "Requirement already satisfied, skipping upgrade: requests<3,>=2.21.0 in /usr/local/lib/python3.6/dist-packages (from tensorboard<2.3.0,>=2.2.0->tensorflow) (2.23.0)\n",
            "Requirement already satisfied, skipping upgrade: tensorboard-plugin-wit>=1.6.0 in /usr/local/lib/python3.6/dist-packages (from tensorboard<2.3.0,>=2.2.0->tensorflow) (1.6.0.post3)\n",
            "Requirement already satisfied, skipping upgrade: google-auth<2,>=1.6.3 in /usr/local/lib/python3.6/dist-packages (from tensorboard<2.3.0,>=2.2.0->tensorflow) (1.17.2)\n",
            "Requirement already satisfied, skipping upgrade: google-auth-oauthlib<0.5,>=0.4.1 in /usr/local/lib/python3.6/dist-packages (from tensorboard<2.3.0,>=2.2.0->tensorflow) (0.4.1)\n",
            "Requirement already satisfied, skipping upgrade: importlib-metadata; python_version < \"3.8\" in /usr/local/lib/python3.6/dist-packages (from markdown>=2.6.8->tensorboard<2.3.0,>=2.2.0->tensorflow) (1.6.1)\n",
            "Requirement already satisfied, skipping upgrade: idna<3,>=2.5 in /usr/local/lib/python3.6/dist-packages (from requests<3,>=2.21.0->tensorboard<2.3.0,>=2.2.0->tensorflow) (2.9)\n",
            "Requirement already satisfied, skipping upgrade: chardet<4,>=3.0.2 in /usr/local/lib/python3.6/dist-packages (from requests<3,>=2.21.0->tensorboard<2.3.0,>=2.2.0->tensorflow) (3.0.4)\n",
            "Requirement already satisfied, skipping upgrade: urllib3!=1.25.0,!=1.25.1,<1.26,>=1.21.1 in /usr/local/lib/python3.6/dist-packages (from requests<3,>=2.21.0->tensorboard<2.3.0,>=2.2.0->tensorflow) (1.24.3)\n",
            "Requirement already satisfied, skipping upgrade: certifi>=2017.4.17 in /usr/local/lib/python3.6/dist-packages (from requests<3,>=2.21.0->tensorboard<2.3.0,>=2.2.0->tensorflow) (2020.6.20)\n",
            "Requirement already satisfied, skipping upgrade: pyasn1-modules>=0.2.1 in /usr/local/lib/python3.6/dist-packages (from google-auth<2,>=1.6.3->tensorboard<2.3.0,>=2.2.0->tensorflow) (0.2.8)\n",
            "Requirement already satisfied, skipping upgrade: cachetools<5.0,>=2.0.0 in /usr/local/lib/python3.6/dist-packages (from google-auth<2,>=1.6.3->tensorboard<2.3.0,>=2.2.0->tensorflow) (4.1.0)\n",
            "Requirement already satisfied, skipping upgrade: rsa<5,>=3.1.4; python_version >= \"3\" in /usr/local/lib/python3.6/dist-packages (from google-auth<2,>=1.6.3->tensorboard<2.3.0,>=2.2.0->tensorflow) (4.6)\n",
            "Requirement already satisfied, skipping upgrade: requests-oauthlib>=0.7.0 in /usr/local/lib/python3.6/dist-packages (from google-auth-oauthlib<0.5,>=0.4.1->tensorboard<2.3.0,>=2.2.0->tensorflow) (1.3.0)\n",
            "Requirement already satisfied, skipping upgrade: zipp>=0.5 in /usr/local/lib/python3.6/dist-packages (from importlib-metadata; python_version < \"3.8\"->markdown>=2.6.8->tensorboard<2.3.0,>=2.2.0->tensorflow) (3.1.0)\n",
            "Requirement already satisfied, skipping upgrade: pyasn1<0.5.0,>=0.4.6 in /usr/local/lib/python3.6/dist-packages (from pyasn1-modules>=0.2.1->google-auth<2,>=1.6.3->tensorboard<2.3.0,>=2.2.0->tensorflow) (0.4.8)\n",
            "Requirement already satisfied, skipping upgrade: oauthlib>=3.0.0 in /usr/local/lib/python3.6/dist-packages (from requests-oauthlib>=0.7.0->google-auth-oauthlib<0.5,>=0.4.1->tensorboard<2.3.0,>=2.2.0->tensorflow) (3.1.0)\n"
          ],
          "name": "stdout"
        }
      ]
    },
    {
      "cell_type": "code",
      "metadata": {
        "id": "9YP3S0NX_Ykr",
        "colab_type": "code",
        "colab": {}
      },
      "source": [
        "import os\n",
        "newpath = '/root/.zipline/' \n",
        "if not os.path.exists(newpath):\n",
        "    os.makedirs(newpath)"
      ],
      "execution_count": null,
      "outputs": []
    },
    {
      "cell_type": "code",
      "metadata": {
        "id": "PsoEmZ-0_cEO",
        "colab_type": "code",
        "colab": {}
      },
      "source": [
        "import os\n",
        "os.chdir('/root/.zipline/')\n",
        "\n",
        "f= open(\"extension.py\",\"w+\")\n",
        "f.write(\"\"\"import pandas as pd\n",
        "\n",
        "from zipline.data.bundles import register\n",
        "from zipline.data.bundles.csvdir import csvdir_equities\n",
        "end_session = pd.Timestamp('2020-06-08', tz='utc')\n",
        "start_session = pd.Timestamp('2011-01-03', tz='utc')\n",
        "register(\n",
        "    'sp500',\n",
        "    csvdir_equities(\n",
        "        ['daily'],\n",
        "        '/zip_data',\n",
        "    ),\n",
        "    calendar_name='NYSE', # US equities\n",
        "    start_session=start_session,\n",
        "    end_session=end_session\n",
        ")\"\"\")\n",
        "\n",
        "f.close()"
      ],
      "execution_count": null,
      "outputs": []
    },
    {
      "cell_type": "code",
      "metadata": {
        "id": "lxCFPPCq_kYy",
        "colab_type": "code",
        "colab": {
          "base_uri": "https://localhost:8080/",
          "height": 301
        },
        "outputId": "73e9d050-a21e-4b4e-a3e3-64b989f71506"
      },
      "source": [
        "from pathlib import Path\n",
        "\n",
        "data_folder = Path(\"/root/.zipline\")\n",
        "file_to_open = data_folder / \"extension.py\"\n",
        "\n",
        "f = open(file_to_open)\n",
        "print(f.read())"
      ],
      "execution_count": null,
      "outputs": [
        {
          "output_type": "stream",
          "text": [
            "import pandas as pd\n",
            "\n",
            "from zipline.data.bundles import register\n",
            "from zipline.data.bundles.csvdir import csvdir_equities\n",
            "end_session = pd.Timestamp('2020-06-08', tz='utc')\n",
            "start_session = pd.Timestamp('2011-01-03', tz='utc')\n",
            "register(\n",
            "    'sp500',\n",
            "    csvdir_equities(\n",
            "        ['daily'],\n",
            "        '/zip_data',\n",
            "    ),\n",
            "    calendar_name='NYSE', # US equities\n",
            "    start_session=start_session,\n",
            "    end_session=end_session\n",
            ")\n"
          ],
          "name": "stdout"
        }
      ]
    },
    {
      "cell_type": "code",
      "metadata": {
        "id": "5ndt4ECOphVF",
        "colab_type": "code",
        "colab": {}
      },
      "source": [
        "u_ticker=['A', 'AAL', 'AAP', 'AAPL', 'ABBV', 'ABC', 'ABT', 'ACN', 'ADBE', 'ADI', 'ADM', 'ADP', 'ADS', 'ADSK', 'AEE', 'AEP', 'AES', 'AFL', 'AIG', 'AIV', 'AIZ', 'AJG', 'AKAM', 'ALB', 'ALGN', 'ALK', 'ALL', 'ALLE', 'ALXN', 'AMD', 'AME', 'AMG', 'AMGN', 'AMP', 'AMT', 'AMZN', 'ANSS', 'ANTM', 'AON', 'AOS', 'APA', 'APD', 'APH', 'ARE', 'ARNC', 'ATVI', 'AVGO', 'AVY', 'AWK', 'AXP', 'AYI', 'AZO', 'BA', 'BAC', 'BAX', 'BBY', 'BDX', 'BEN', 'BIIB', 'BK', 'BLK', 'BLL', 'BMY', 'BSX', 'BWA', 'BXP', 'C', 'CAG', 'CAH', 'CAT', 'CB', 'CBOE', 'CCI', 'CCL', 'CERN', 'CF', 'CFG', 'CHD', 'CHK', 'CHRW', 'CHTR', 'CI', 'CINF', 'CL', 'CLX', 'CMA', 'CMCSA', 'CME', 'CMG', 'CMI', 'CMS', 'CNC', 'CNP', 'COF', 'COG', 'COO', 'COP', 'COTY', 'CPB', 'CRM', 'CSCO', 'CSX', 'CTAS', 'CTL', 'CTSH', 'CTXS', 'CVS', 'CVX', 'CXO', 'D', 'DAL', 'DE', 'DFS', 'DG', 'DGX', 'DHI', 'DHR', 'DIS', 'DISCA', 'DISCK', 'DISH', 'DLR', 'DLTR', 'DOV', 'DRE', 'DRI', 'DTE', 'DUK', 'DVA', 'DVN', 'DXC', 'EA', 'EBAY', 'ECL', 'ED', 'EFX', 'EIX', 'EL', 'EMN', 'EMR', 'EOG', 'EQIX', 'EQR', 'EQT', 'ES', 'ETFC', 'ETN', 'ETR', 'EW', 'EXC', 'EXPD', 'EXPE', 'EXR', 'F', 'FAST', 'FB', 'FBHS', 'FCX', 'FDX', 'FE', 'FFIV', 'FIS', 'FISV', 'FITB', 'FL', 'FLIR', 'FLR', 'FLS', 'FMC', 'FOX', 'FOXA', 'FRT', 'FTI', 'FTV', 'GD', 'GE', 'GILD', 'GIS', 'GLW', 'GM', 'GOOG', 'GOOGL', 'GPC', 'GPN', 'GPS', 'GRMN', 'GS', 'GT', 'GWW', 'HAL', 'HAS', 'HBAN', 'HBI', 'HCA', 'HD', 'HES', 'HIG', 'HLT', 'HOG', 'HOLX', 'HON', 'HP', 'HPE', 'HPQ', 'HRB', 'HRL', 'HSIC', 'HST', 'HSY', 'HUM', 'IBM', 'ICE', 'IDXX', 'IFF', 'ILMN', 'INCY', 'INFO', 'INTC', 'INTU', 'IP', 'IPG', 'IR', 'IRM', 'ISRG', 'IT', 'ITW', 'IVZ', 'JBHT', 'JCI', 'JNJ', 'JNPR', 'JPM', 'JWN', 'K', 'KEY', 'KHC', 'KIM', 'KLAC', 'KMB', 'KMI', 'KMX', 'KO', 'KR', 'KSS', 'KSU', 'L', 'LB', 'LEG', 'LEN', 'LH', 'LKQ', 'LLY', 'LMT', 'LNC', 'LNT', 'LOW', 'LRCX', 'LUV', 'LYB', 'M', 'MA', 'MAA', 'MAC', 'MAR', 'MAS', 'MAT', 'MCD', 'MCHP', 'MCK', 'MCO', 'MDLZ', 'MDT', 'MET', 'MGM', 'MHK', 'MKC', 'MLM', 'MMC', 'MNST', 'MO', 'MOS', 'MPC', 'MRK', 'MRO', 'MS', 'MSFT', 'MSI', 'MTB', 'MTD', 'MU', 'MYL', 'NAVI', 'NBL', 'NDAQ', 'NEE', 'NEM', 'NFLX', 'NKE', 'NLSN', 'NOC', 'NOV', 'NRG', 'NSC', 'NTAP', 'NTRS', 'NUE', 'NVDA', 'NWL', 'NWS', 'NWSA', 'O', 'OKE', 'OMC', 'ORCL', 'ORLY', 'OXY', 'PAYX', 'PBCT', 'PCAR', 'PCG', 'PDCO', 'PEG', 'PEP', 'PFE', 'PFG', 'PG', 'PGR', 'PH', 'PHM', 'PKG', 'PKI', 'PLD', 'PM', 'PNC', 'PNR', 'PNW', 'PPG', 'PPL', 'PRGO', 'PRU', 'PSA', 'PSX', 'PVH', 'PWR', 'PXD', 'PYPL', 'QCOM', 'QRVO', 'RCL', 'RE', 'REG', 'REGN', 'RF', 'RHI', 'RJF', 'RL', 'RMD', 'ROK', 'ROP', 'ROST', 'RRC', 'RSG', 'SBAC', 'SBUX', 'SCG', 'SCHW', 'SEE', 'SHW', 'SIG', 'SJM', 'SLB', 'SLG', 'SNA', 'SNPS', 'SO', 'SPG', 'SPGI', 'SRCL', 'SRE', 'STT', 'STX', 'STZ', 'SWK', 'SWKS', 'SYF', 'SYK', 'SYY', 'T', 'TAP', 'TDG', 'TEL', 'TGT', 'TIF', 'TJX', 'TMO', 'TRIP', 'TROW', 'TRV', 'TSCO', 'TSN', 'TXN', 'TXT', 'UAA', 'UAL', 'UDR', 'UHS', 'ULTA', 'UNH', 'UNM', 'UNP', 'UPS', 'URI', 'USB', 'V', 'VAR', 'VFC', 'VLO', 'VMC', 'VNO', 'VRSK', 'VRSN', 'VRTX', 'VTR', 'VZ', 'WAT', 'WBA', 'WDC', 'WEC', 'WFC', 'WHR', 'WLTW', 'WM', 'WMB', 'WMT', 'WRK', 'WU', 'WY', 'WYNN', 'XEC', 'XEL', 'XLNX', 'XOM', 'XRAY', 'XRX', 'XYL', 'YUM', 'ZBH', 'ZION', 'ZTS']"
      ],
      "execution_count": null,
      "outputs": []
    },
    {
      "cell_type": "code",
      "metadata": {
        "id": "fPpoaj77ktF3",
        "colab_type": "code",
        "colab": {
          "base_uri": "https://localhost:8080/",
          "height": 72
        },
        "outputId": "48957b0e-4ca3-475c-c9ac-8599cab33343"
      },
      "source": [
        "\"\"\"for i in ['AET','AGN','CBS','JEC','MON','RTN','STI','UTX']:\n",
        "  print(i)\n",
        "  u_ticker.remove(i)\"\"\"\n",
        "print(len(u_ticker))\n",
        "print(u_ticker)"
      ],
      "execution_count": null,
      "outputs": [
        {
          "output_type": "stream",
          "text": [
            "449\n",
            "['A', 'AAL', 'AAP', 'AAPL', 'ABBV', 'ABC', 'ABT', 'ACN', 'ADBE', 'ADI', 'ADM', 'ADP', 'ADS', 'ADSK', 'AEE', 'AEP', 'AES', 'AFL', 'AIG', 'AIV', 'AIZ', 'AJG', 'AKAM', 'ALB', 'ALGN', 'ALK', 'ALL', 'ALLE', 'ALXN', 'AMD', 'AME', 'AMG', 'AMGN', 'AMP', 'AMT', 'AMZN', 'ANSS', 'ANTM', 'AON', 'AOS', 'APA', 'APD', 'APH', 'ARE', 'ARNC', 'ATVI', 'AVGO', 'AVY', 'AWK', 'AXP', 'AYI', 'AZO', 'BA', 'BAC', 'BAX', 'BBY', 'BDX', 'BEN', 'BIIB', 'BK', 'BLK', 'BLL', 'BMY', 'BSX', 'BWA', 'BXP', 'C', 'CAG', 'CAH', 'CAT', 'CB', 'CBOE', 'CCI', 'CCL', 'CERN', 'CF', 'CFG', 'CHD', 'CHK', 'CHRW', 'CHTR', 'CI', 'CINF', 'CL', 'CLX', 'CMA', 'CMCSA', 'CME', 'CMG', 'CMI', 'CMS', 'CNC', 'CNP', 'COF', 'COG', 'COO', 'COP', 'COTY', 'CPB', 'CRM', 'CSCO', 'CSX', 'CTAS', 'CTL', 'CTSH', 'CTXS', 'CVS', 'CVX', 'CXO', 'D', 'DAL', 'DE', 'DFS', 'DG', 'DGX', 'DHI', 'DHR', 'DIS', 'DISCA', 'DISCK', 'DISH', 'DLR', 'DLTR', 'DOV', 'DRE', 'DRI', 'DTE', 'DUK', 'DVA', 'DVN', 'DXC', 'EA', 'EBAY', 'ECL', 'ED', 'EFX', 'EIX', 'EL', 'EMN', 'EMR', 'EOG', 'EQIX', 'EQR', 'EQT', 'ES', 'ETFC', 'ETN', 'ETR', 'EW', 'EXC', 'EXPD', 'EXPE', 'EXR', 'F', 'FAST', 'FB', 'FBHS', 'FCX', 'FDX', 'FE', 'FFIV', 'FIS', 'FISV', 'FITB', 'FL', 'FLIR', 'FLR', 'FLS', 'FMC', 'FOX', 'FOXA', 'FRT', 'FTI', 'FTV', 'GD', 'GE', 'GILD', 'GIS', 'GLW', 'GM', 'GOOG', 'GOOGL', 'GPC', 'GPN', 'GPS', 'GRMN', 'GS', 'GT', 'GWW', 'HAL', 'HAS', 'HBAN', 'HBI', 'HCA', 'HD', 'HES', 'HIG', 'HLT', 'HOG', 'HOLX', 'HON', 'HP', 'HPE', 'HPQ', 'HRB', 'HRL', 'HSIC', 'HST', 'HSY', 'HUM', 'IBM', 'ICE', 'IDXX', 'IFF', 'ILMN', 'INCY', 'INFO', 'INTC', 'INTU', 'IP', 'IPG', 'IR', 'IRM', 'ISRG', 'IT', 'ITW', 'IVZ', 'JBHT', 'JCI', 'JNJ', 'JNPR', 'JPM', 'JWN', 'K', 'KEY', 'KHC', 'KIM', 'KLAC', 'KMB', 'KMI', 'KMX', 'KO', 'KR', 'KSS', 'KSU', 'L', 'LB', 'LEG', 'LEN', 'LH', 'LKQ', 'LLY', 'LMT', 'LNC', 'LNT', 'LOW', 'LRCX', 'LUV', 'LYB', 'M', 'MA', 'MAA', 'MAC', 'MAR', 'MAS', 'MAT', 'MCD', 'MCHP', 'MCK', 'MCO', 'MDLZ', 'MDT', 'MET', 'MGM', 'MHK', 'MKC', 'MLM', 'MMC', 'MNST', 'MO', 'MOS', 'MPC', 'MRK', 'MRO', 'MS', 'MSFT', 'MSI', 'MTB', 'MTD', 'MU', 'MYL', 'NAVI', 'NBL', 'NDAQ', 'NEE', 'NEM', 'NFLX', 'NKE', 'NLSN', 'NOC', 'NOV', 'NRG', 'NSC', 'NTAP', 'NTRS', 'NUE', 'NVDA', 'NWL', 'NWS', 'NWSA', 'O', 'OKE', 'OMC', 'ORCL', 'ORLY', 'OXY', 'PAYX', 'PBCT', 'PCAR', 'PCG', 'PDCO', 'PEG', 'PEP', 'PFE', 'PFG', 'PG', 'PGR', 'PH', 'PHM', 'PKG', 'PKI', 'PLD', 'PM', 'PNC', 'PNR', 'PNW', 'PPG', 'PPL', 'PRGO', 'PRU', 'PSA', 'PSX', 'PVH', 'PWR', 'PXD', 'PYPL', 'QCOM', 'QRVO', 'RCL', 'RE', 'REG', 'REGN', 'RF', 'RHI', 'RJF', 'RL', 'RMD', 'ROK', 'ROP', 'ROST', 'RRC', 'RSG', 'SBAC', 'SBUX', 'SCG', 'SCHW', 'SEE', 'SHW', 'SIG', 'SJM', 'SLB', 'SLG', 'SNA', 'SNPS', 'SO', 'SPG', 'SPGI', 'SRCL', 'SRE', 'STT', 'STX', 'STZ', 'SWK', 'SWKS', 'SYF', 'SYK', 'SYY', 'T', 'TAP', 'TDG', 'TEL', 'TGT', 'TIF', 'TJX', 'TMO', 'TRIP', 'TROW', 'TRV', 'TSCO', 'TSN', 'TXN', 'TXT', 'UAA', 'UAL', 'UDR', 'UHS', 'ULTA', 'UNH', 'UNM', 'UNP', 'UPS', 'URI', 'USB', 'V', 'VAR', 'VFC', 'VLO', 'VMC', 'VNO', 'VRSK', 'VRSN', 'VRTX', 'VTR', 'VZ', 'WAT', 'WBA', 'WDC', 'WEC', 'WFC', 'WHR', 'WLTW', 'WM', 'WMB', 'WMT', 'WRK', 'WU', 'WY', 'WYNN', 'XEC', 'XEL', 'XLNX', 'XOM', 'XRAY', 'XRX', 'XYL', 'YUM', 'ZBH', 'ZION', 'ZTS']\n"
          ],
          "name": "stdout"
        }
      ]
    },
    {
      "cell_type": "code",
      "metadata": {
        "id": "dCd2ASl1oI9j",
        "colab_type": "code",
        "colab": {
          "base_uri": "https://localhost:8080/",
          "height": 35
        },
        "outputId": "3b695d44-2c00-44f0-ef82-413fbabbbd28"
      },
      "source": [
        "print(len(u_ticker))"
      ],
      "execution_count": null,
      "outputs": [
        {
          "output_type": "stream",
          "text": [
            "457\n"
          ],
          "name": "stdout"
        }
      ]
    },
    {
      "cell_type": "code",
      "metadata": {
        "id": "zNtLWdpk_8iX",
        "colab_type": "code",
        "colab": {
          "base_uri": "https://localhost:8080/",
          "height": 1000
        },
        "outputId": "0bcae16c-db6f-4c20-b2e2-3f1c59cebb0c"
      },
      "source": [
        "!zipline ingest -b sp500"
      ],
      "execution_count": null,
      "outputs": [
        {
          "output_type": "stream",
          "text": [
            " | A: sid 0\n",
            " | AAL: sid 1\n",
            " | AAP: sid 2\n",
            " | AAPL: sid 3\n",
            " | ABBV: sid 4\n",
            " | ABC: sid 5\n",
            " | ABT: sid 6\n",
            " | ACN: sid 7\n",
            " | ADBE: sid 8\n",
            " | ADI: sid 9\n",
            " | ADM: sid 10\n",
            " | ADP: sid 11\n",
            " | ADS: sid 12\n",
            " | ADSK: sid 13\n",
            " | AEE: sid 14\n",
            " | AEP: sid 15\n",
            " | AES: sid 16\n",
            " | AET: sid 17\n",
            " | AFL: sid 18\n",
            " | AGN: sid 19\n",
            " | AIG: sid 20\n",
            " | AIV: sid 21\n",
            " | AIZ: sid 22\n",
            "\u001b[?25lLoading custom pricing data:   [#-----------------------------------]    5% | AJG: sid 23\n",
            "\u001b[?25lMerging daily equity files:  [------------------------------------]  23 | AKAM: sid 24\n",
            "\u001b[?25lMerging daily equity files:  [------------------------------------]  24 | ALB: sid 25\n",
            "\u001b[?25lLoading custom pricing data:   [##----------------------------------]    5% | ALGN: sid 26\n",
            "\u001b[?25lMerging daily equity files:  [------------------------------------]  26 | ALK: sid 27\n",
            "\u001b[?25lLoading custom pricing data:   [##----------------------------------]    6% | ALL: sid 28\n",
            "\u001b[?25lMerging daily equity files:  [------------------------------------]  28 | ALLE: sid 29\n",
            "\u001b[?25lMerging daily equity files:  [------------------------------------]  29 | ALXN: sid 30\n",
            "\u001b[?25lMerging daily equity files:  [------------------------------------]  30 | AMD: sid 31\n",
            "\u001b[?25lLoading custom pricing data:   [##----------------------------------]    7% | AME: sid 32\n",
            "\u001b[?25lMerging daily equity files:  [------------------------------------]  32 | AMG: sid 33\n",
            "\u001b[?25lMerging daily equity files:  [------------------------------------]  33 | AMGN: sid 34\n",
            "\u001b[?25lMerging daily equity files:  [------------------------------------]  34 | AMP: sid 35\n",
            "\u001b[?25lMerging daily equity files:  [------------------------------------]  35 | AMT: sid 36\n",
            "\u001b[?25lLoading custom pricing data:   [##----------------------------------]    8% | AMZN: sid 37\n",
            "\u001b[?25lMerging daily equity files:  [------------------------------------]  37 | ANSS: sid 38\n",
            "\u001b[?25lLoading custom pricing data:   [###---------------------------------]    8% | ANTM: sid 39\n",
            "\u001b[?25lMerging daily equity files:  [------------------------------------]  39 | AON: sid 40\n",
            "\u001b[?25lMerging daily equity files:  [------------------------------------]  40 | AOS: sid 41\n",
            "\u001b[?25lLoading custom pricing data:   [###---------------------------------]    9% | APA: sid 42\n",
            "\u001b[?25lMerging daily equity files:  [------------------------------------]  42 | APD: sid 43\n",
            "\u001b[?25lMerging daily equity files:  [------------------------------------]  43 | APH: sid 44\n",
            "\u001b[?25lMerging daily equity files:  [------------------------------------]  44 | ARE: sid 45\n",
            "\u001b[?25lLoading custom pricing data:   [###---------------------------------]   10%  00:00:09 | ARNC: sid 46\n",
            "\u001b[?25lMerging daily equity files:  [---------------------------#--------]  46 | ATVI: sid 47\n",
            "\u001b[?25lMerging daily equity files:  [--------------------------#---------]  47 | AVGO: sid 48\n",
            "\u001b[?25lMerging daily equity files:  [--------------------------#---------]  48 | AVY: sid 49\n",
            "\u001b[?25lMerging daily equity files:  [--------------------------#---------]  49 | AWK: sid 50\n",
            "\u001b[?25lLoading custom pricing data:   [####--------------------------------]   11%  00:00:08 | AXP: sid 51\n",
            "\u001b[?25lMerging daily equity files:  [-------------------------#----------]  51 | AYI: sid 52\n",
            "\u001b[?25lMerging daily equity files:  [------------------------#-----------]  52 | AZO: sid 53\n",
            "\u001b[?25lMerging daily equity files:  [------------------------#-----------]  53 | BA: sid 54\n",
            "\u001b[?25lLoading custom pricing data:   [####--------------------------------]   12%  00:00:08 | BAC: sid 55\n",
            "\u001b[?25lMerging daily equity files:  [-----------------------#------------]  55 | BAX: sid 56\n",
            "\u001b[?25lMerging daily equity files:  [-----------------------#------------]  56 | BBY: sid 57\n",
            "\u001b[?25lMerging daily equity files:  [-----------------------#------------]  57 | BDX: sid 58\n",
            "\u001b[?25lMerging daily equity files:  [----------------------#-------------]  58 | BEN: sid 59\n",
            "\u001b[?25lLoading custom pricing data:   [####--------------------------------]   13%  00:00:08 | BIIB: sid 60\n",
            "\u001b[?25lMerging daily equity files:  [---------------------#--------------]  60 | BK: sid 61\n",
            "\u001b[?25lMerging daily equity files:  [---------------------#--------------]  61 | BLK: sid 62\n",
            "\u001b[?25lMerging daily equity files:  [---------------------#--------------]  62 | BLL: sid 63\n",
            "\u001b[?25lLoading custom pricing data:   [#####-------------------------------]   14%  00:00:08 | BMY: sid 64\n",
            "\u001b[?25lMerging daily equity files:  [--------------------#---------------]  64 | BSX: sid 65\n",
            "\u001b[?25lMerging daily equity files:  [-------------------#----------------]  65 | BWA: sid 66\n",
            "\u001b[?25lMerging daily equity files:  [-------------------#----------------]  66 | BXP: sid 67\n",
            "\u001b[?25lMerging daily equity files:  [-------------------#----------------]  67 | C: sid 68\n",
            "\u001b[?25lLoading custom pricing data:   [#####-------------------------------]   15%  00:00:08 | CAG: sid 69\n",
            "\u001b[?25lMerging daily equity files:  [------------------#-----------------]  69 | CAH: sid 70\n",
            "\u001b[?25lMerging daily equity files:  [-----------------#------------------]  70 | CAT: sid 71\n",
            "\u001b[?25lMerging daily equity files:  [-----------------#------------------]  71 | CB: sid 72\n",
            "\u001b[?25lMerging daily equity files:  [-----------------#------------------]  72 | CBOE: sid 73\n",
            "\u001b[?25lLoading custom pricing data:   [#####-------------------------------]   16%  00:00:08 | CBS: sid 74\n",
            "\u001b[?25lMerging daily equity files:  [----------------#-------------------]  74 | CCI: sid 75\n",
            "\u001b[?25lMerging daily equity files:  [---------------#--------------------]  75 | CCL: sid 76\n",
            "\u001b[?25lLoading custom pricing data:   [######------------------------------]   16%  00:00:08 | CERN: sid 77\n",
            "\u001b[?25lLoading custom pricing data:   [######------------------------------]   17%  00:00:08 | CF: sid 78\n",
            "\u001b[?25lMerging daily equity files:  [--------------#---------------------]  78 | CFG: sid 79\n",
            "\u001b[?25lMerging daily equity files:  [--------------#---------------------]  79 | CHD: sid 80\n",
            "\u001b[?25lMerging daily equity files:  [--------------#---------------------]  80 | CHK: sid 81\n",
            "\u001b[?25lMerging daily equity files:  [-------------#----------------------]  81 | CHRW: sid 82\n",
            "\u001b[?25lLoading custom pricing data:   [######------------------------------]   18%  00:00:08 | CHTR: sid 83\n",
            "\u001b[?25lMerging daily equity files:  [------------#-----------------------]  83 | CI: sid 84\n",
            "\u001b[?25lMerging daily equity files:  [------------#-----------------------]  84 | CINF: sid 85\n",
            "\u001b[?25lMerging daily equity files:  [------------#-----------------------]  85 | CL: sid 86\n",
            "\u001b[?25lLoading custom pricing data:   [######------------------------------]   19%  00:00:08 | CLX: sid 87\n",
            "\u001b[?25lMerging daily equity files:  [-----------#------------------------]  87 | CMA: sid 88\n",
            "\u001b[?25lLoading custom pricing data:   [#######-----------------------------]   19%  00:00:08 | CMCSA: sid 89\n",
            "\u001b[?25lMerging daily equity files:  [----------#-------------------------]  89 | CME: sid 90\n",
            "\u001b[?25lMerging daily equity files:  [----------#-------------------------]  90 | CMG: sid 91\n",
            "\u001b[?25lLoading custom pricing data:   [#######-----------------------------]   20%  00:00:08 | CMI: sid 92\n",
            "\u001b[?25lMerging daily equity files:  [---------#--------------------------]  92 | CMS: sid 93\n",
            "\u001b[?25lMerging daily equity files:  [---------#--------------------------]  93 | CNC: sid 94\n",
            "\u001b[?25lMerging daily equity files:  [--------#---------------------------]  94 | CNP: sid 95\n",
            "\u001b[?25lLoading custom pricing data:   [#######-----------------------------]   21%  00:00:08 | COF: sid 96\n",
            "\u001b[?25lLoading custom pricing data:   [#######-----------------------------]   21%  00:00:07 | COG: sid 97\n",
            "\u001b[?25lMerging daily equity files:  [-------#----------------------------]  97 | COO: sid 98\n",
            "\u001b[?25lMerging daily equity files:  [-------#----------------------------]  98 | COP: sid 99\n",
            "\u001b[?25lMerging daily equity files:  [-------#----------------------------]  99 | COTY: sid 100\n",
            "\u001b[?25lLoading custom pricing data:   [#######-----------------------------]   22%  00:00:07 | CPB: sid 101\n",
            "\u001b[?25lLoading custom pricing data:   [########----------------------------]   22%  00:00:07 | CRM: sid 102\n",
            "\u001b[?25lMerging daily equity files:  [------#-----------------------------]  102 | CSCO: sid 103\n",
            "\u001b[?25lMerging daily equity files:  [-----#------------------------------]  103 | CSX: sid 104\n",
            "\u001b[?25lMerging daily equity files:  [-----#------------------------------]  104 | CTAS: sid 105\n",
            "\u001b[?25lLoading custom pricing data:   [########----------------------------]   23%  00:00:07 | CTL: sid 106\n",
            "\u001b[?25lMerging daily equity files:  [-----#------------------------------]  106 | CTSH: sid 107\n",
            "\u001b[?25lMerging daily equity files:  [----#-------------------------------]  107 | CTXS: sid 108\n",
            "\u001b[?25lMerging daily equity files:  [----#-------------------------------]  108 | CVS: sid 109\n",
            "\u001b[?25lLoading custom pricing data:   [########----------------------------]   24%  00:00:07 | CVX: sid 110\n",
            "\u001b[?25lMerging daily equity files:  [---#--------------------------------]  110 | CXO: sid 111\n",
            "\u001b[?25lMerging daily equity files:  [---#--------------------------------]  111 | D: sid 112\n",
            "\u001b[?25lMerging daily equity files:  [---#--------------------------------]  112 | DAL: sid 113\n",
            "\u001b[?25lMerging daily equity files:  [---#--------------------------------]  113 | DE: sid 114\n",
            "\u001b[?25lLoading custom pricing data:   [#########---------------------------]   25%  00:00:07 | DFS: sid 115\n",
            "\u001b[?25lMerging daily equity files:  [--#---------------------------------]  115 | DG: sid 116\n",
            "\u001b[?25lMerging daily equity files:  [--#---------------------------------]  116 | DGX: sid 117\n",
            "\u001b[?25lMerging daily equity files:  [--#---------------------------------]  117 | DHI: sid 118\n",
            "\u001b[?25lLoading custom pricing data:   [#########---------------------------]   26%  00:00:07 | DHR: sid 119\n",
            "\u001b[?25lMerging daily equity files:  [--#---------------------------------]  119 | DIS: sid 120\n",
            "\u001b[?25lMerging daily equity files:  [-#----------------------------------]  120 | DISCA: sid 121\n",
            "\u001b[?25lMerging daily equity files:  [-#----------------------------------]  121 | DISCK: sid 122\n",
            "\u001b[?25lMerging daily equity files:  [-#----------------------------------]  122 | DISH: sid 123\n",
            "\u001b[?25lLoading custom pricing data:   [#########---------------------------]   27%  00:00:07 | DLR: sid 124\n",
            "\u001b[?25lMerging daily equity files:  [-#----------------------------------]  124 | DLTR: sid 125\n",
            "\u001b[?25lMerging daily equity files:  [-#----------------------------------]  125 | DOV: sid 126\n",
            "\u001b[?25lLoading custom pricing data:   [##########--------------------------]   27%  00:00:07 | DRE: sid 127\n",
            "\u001b[?25lLoading custom pricing data:   [##########--------------------------]   28%  00:00:07 | DRI: sid 128\n",
            "\u001b[?25lMerging daily equity files:  [#-----------------------------------]  128 | DTE: sid 129\n",
            "\u001b[?25lMerging daily equity files:  [#-----------------------------------]  129 | DUK: sid 130\n",
            "\u001b[?25lMerging daily equity files:  [#-----------------------------------]  130 | DVA: sid 131\n",
            "\u001b[?25lMerging daily equity files:  [#-----------------------------------]  131 | DVN: sid 132\n",
            "\u001b[?25lLoading custom pricing data:   [##########--------------------------]   29%  00:00:07 | DXC: sid 133\n",
            "\u001b[?25lMerging daily equity files:  [#-----------------------------------]  133 | EA: sid 134\n",
            "\u001b[?25lMerging daily equity files:  [#-----------------------------------]  134 | EBAY: sid 135\n",
            "\u001b[?25lMerging daily equity files:  [#-----------------------------------]  135 | ECL: sid 136\n",
            "\u001b[?25lMerging daily equity files:  [#-----------------------------------]  136 | ED: sid 137\n",
            "\u001b[?25lLoading custom pricing data:   [##########--------------------------]   30%  00:00:07 | EFX: sid 138\n",
            "\u001b[?25lMerging daily equity files:  [#-----------------------------------]  138 | EIX: sid 139\n",
            "\u001b[?25lLoading custom pricing data:   [###########-------------------------]   30%  00:00:07 | EL: sid 140\n",
            "\u001b[?25lMerging daily equity files:  [#-----------------------------------]  140 | EMN: sid 141\n",
            "\u001b[?25lLoading custom pricing data:   [###########-------------------------]   31%  00:00:06 | EMR: sid 142\n",
            "\u001b[?25lMerging daily equity files:  [#-----------------------------------]  142 | EOG: sid 143\n",
            "\u001b[?25lMerging daily equity files:  [#-----------------------------------]  143 | EQIX: sid 144\n",
            "\u001b[?25lMerging daily equity files:  [#-----------------------------------]  144 | EQR: sid 145\n",
            "\u001b[?25lMerging daily equity files:  [#-----------------------------------]  145 | EQT: sid 146\n",
            "\u001b[?25lLoading custom pricing data:   [###########-------------------------]   32%  00:00:06 | ES: sid 147\n",
            "\u001b[?25lMerging daily equity files:  [#-----------------------------------]  147 | ETFC: sid 148\n",
            "\u001b[?25lMerging daily equity files:  [#-----------------------------------]  148 | ETN: sid 149\n",
            "\u001b[?25lMerging daily equity files:  [#-----------------------------------]  149 | ETR: sid 150\n",
            "\u001b[?25lLoading custom pricing data:   [###########-------------------------]   33%  00:00:06 | EW: sid 151\n",
            "\u001b[?25lMerging daily equity files:  [#-----------------------------------]  151 | EXC: sid 152\n",
            "\u001b[?25lLoading custom pricing data:   [############------------------------]   33%  00:00:06 | EXPD: sid 153\n",
            "\u001b[?25lMerging daily equity files:  [#-----------------------------------]  153 | EXPE: sid 154\n",
            "\u001b[?25lMerging daily equity files:  [#-----------------------------------]  154 | EXR: sid 155\n",
            "\u001b[?25lLoading custom pricing data:   [############------------------------]   34%  00:00:06 | F: sid 156\n",
            "\u001b[?25lMerging daily equity files:  [-#----------------------------------]  156 | FAST: sid 157\n",
            "\u001b[?25lMerging daily equity files:  [-#----------------------------------]  157 | FB: sid 158\n",
            "\u001b[?25lMerging daily equity files:  [-#----------------------------------]  158 | FBHS: sid 159\n",
            "\u001b[?25lLoading custom pricing data:   [############------------------------]   35%  00:00:06 | FCX: sid 160\n",
            "\u001b[?25lMerging daily equity files:  [-#----------------------------------]  160 | FDX: sid 161\n",
            "\u001b[?25lMerging daily equity files:  [-#----------------------------------]  161 | FE: sid 162\n",
            "\u001b[?25lMerging daily equity files:  [--#---------------------------------]  162 | FFIV: sid 163\n",
            "\u001b[?25lMerging daily equity files:  [--#---------------------------------]  163 | FIS: sid 164\n",
            "\u001b[?25lLoading custom pricing data:   [############------------------------]   36%  00:00:06 | FISV: sid 165\n",
            "\u001b[?25lLoading custom pricing data:   [#############-----------------------]   36%  00:00:06 | FITB: sid 166\n",
            "\u001b[?25lMerging daily equity files:  [--#---------------------------------]  166 | FL: sid 167\n",
            "\u001b[?25lMerging daily equity files:  [---#--------------------------------]  167 | FLIR: sid 168\n",
            "\u001b[?25lMerging daily equity files:  [---#--------------------------------]  168 | FLR: sid 169\n",
            "\u001b[?25lLoading custom pricing data:   [#############-----------------------]   37%  00:00:06 | FLS: sid 170\n",
            "\u001b[?25lMerging daily equity files:  [---#--------------------------------]  170 | FMC: sid 171\n",
            "\u001b[?25lMerging daily equity files:  [---#--------------------------------]  171 | FOX: sid 172\n",
            "\u001b[?25lMerging daily equity files:  [----#-------------------------------]  172 | FOXA: sid 173\n",
            "\u001b[?25lLoading custom pricing data:   [#############-----------------------]   38%  00:00:06 | FRT: sid 174\n",
            "\u001b[?25lMerging daily equity files:  [----#-------------------------------]  174 | FTI: sid 175\n",
            "\u001b[?25lMerging daily equity files:  [-----#------------------------------]  175 | FTV: sid 176\n",
            "\u001b[?25lMerging daily equity files:  [-----#------------------------------]  176 | GD: sid 177\n",
            "\u001b[?25lLoading custom pricing data:   [##############----------------------]   38%  00:00:06 | GE: sid 178\n",
            "\u001b[?25lLoading custom pricing data:   [##############----------------------]   39%  00:00:06 | GILD: sid 179\n",
            "\u001b[?25lMerging daily equity files:  [------#-----------------------------]  179 | GIS: sid 180\n",
            "\u001b[?25lMerging daily equity files:  [------#-----------------------------]  180 | GLW: sid 181\n",
            "\u001b[?25lMerging daily equity files:  [------#-----------------------------]  181 | GM: sid 182\n",
            "\u001b[?25lLoading custom pricing data:   [##############----------------------]   40%  00:00:06 | GOOG: sid 183\n",
            "\u001b[?25lMerging daily equity files:  [-------#----------------------------]  183 | GOOGL: sid 184\n",
            "\u001b[?25lMerging daily equity files:  [-------#----------------------------]  184 | GPC: sid 185\n",
            "\u001b[?25lMerging daily equity files:  [-------#----------------------------]  185 | GPN: sid 186\n",
            "\u001b[?25lLoading custom pricing data:   [##############----------------------]   40%  00:00:05 | GPS: sid 187\n",
            "\u001b[?25lLoading custom pricing data:   [##############----------------------]   41%  00:00:05 | GRMN: sid 188\n",
            "\u001b[?25lMerging daily equity files:  [--------#---------------------------]  188 | GS: sid 189\n",
            "\u001b[?25lMerging daily equity files:  [---------#--------------------------]  189 | GT: sid 190\n",
            "\u001b[?25lLoading custom pricing data:   [###############---------------------]   41%  00:00:05 | GWW: sid 191\n",
            "\u001b[?25lLoading custom pricing data:   [###############---------------------]   42%  00:00:05 | HAL: sid 192\n",
            "\u001b[?25lMerging daily equity files:  [----------#-------------------------]  192 | HAS: sid 193\n",
            "\u001b[?25lMerging daily equity files:  [----------#-------------------------]  193 | HBAN: sid 194\n",
            "\u001b[?25lMerging daily equity files:  [-----------#------------------------]  194 | HBI: sid 195\n",
            "\u001b[?25lMerging daily equity files:  [-----------#------------------------]  195 | HCA: sid 196\n",
            "\u001b[?25lLoading custom pricing data:   [###############---------------------]   43%  00:00:05 | HD: sid 197\n",
            "\u001b[?25lMerging daily equity files:  [------------#-----------------------]  197 | HES: sid 198\n",
            "\u001b[?25lMerging daily equity files:  [------------#-----------------------]  198 | HIG: sid 199\n",
            "\u001b[?25lMerging daily equity files:  [-------------#----------------------]  199 | HLT: sid 200\n",
            "\u001b[?25lMerging daily equity files:  [-------------#----------------------]  200 | HOG: sid 201\n",
            "\u001b[?25lLoading custom pricing data:   [###############---------------------]   44%  00:00:05 | HOLX: sid 202\n",
            "\u001b[?25lMerging daily equity files:  [--------------#---------------------]  202 | HON: sid 203\n",
            "\u001b[?25lLoading custom pricing data:   [################--------------------]   44%  00:00:05 | HP: sid 204\n",
            "\u001b[?25lMerging daily equity files:  [--------------#---------------------]  204 | HPE: sid 205\n",
            "\u001b[?25lLoading custom pricing data:   [################--------------------]   45%  00:00:05 | HPQ: sid 206\n",
            "\u001b[?25lMerging daily equity files:  [---------------#--------------------]  206 | HRB: sid 207\n",
            "\u001b[?25lMerging daily equity files:  [----------------#-------------------]  207 | HRL: sid 208\n",
            "\u001b[?25lMerging daily equity files:  [----------------#-------------------]  208 | HSIC: sid 209\n",
            "\u001b[?25lMerging daily equity files:  [----------------#-------------------]  209 | HST: sid 210\n",
            "\u001b[?25lLoading custom pricing data:   [################--------------------]   46%  00:00:05 | HSY: sid 211\n",
            "\u001b[?25lMerging daily equity files:  [-----------------#------------------]  211 | HUM: sid 212\n",
            "\u001b[?25lMerging daily equity files:  [------------------#-----------------]  212 | IBM: sid 213\n",
            "\u001b[?25lMerging daily equity files:  [------------------#-----------------]  213 | ICE: sid 214\n",
            "\u001b[?25lLoading custom pricing data:   [################--------------------]   47%  00:00:05 | IDXX: sid 215\n",
            "\u001b[?25lLoading custom pricing data:   [#################-------------------]   47%  00:00:05 | IFF: sid 216\n",
            "\u001b[?25lMerging daily equity files:  [-------------------#----------------]  216 | ILMN: sid 217\n",
            "\u001b[?25lMerging daily equity files:  [--------------------#---------------]  217 | INCY: sid 218\n",
            "\u001b[?25lMerging daily equity files:  [--------------------#---------------]  218 | INFO: sid 219\n",
            "\u001b[?25lLoading custom pricing data:   [#################-------------------]   48%  00:00:05 | INTC: sid 220\n",
            "\u001b[?25lMerging daily equity files:  [---------------------#--------------]  220 | INTU: sid 221\n",
            "\u001b[?25lMerging daily equity files:  [---------------------#--------------]  221 | IP: sid 222\n",
            "\u001b[?25lMerging daily equity files:  [----------------------#-------------]  222 | IPG: sid 223\n",
            "\u001b[?25lLoading custom pricing data:   [#################-------------------]   49%  00:00:05 | IR: sid 224\n",
            "\u001b[?25lMerging daily equity files:  [----------------------#-------------]  224 | IRM: sid 225\n",
            "\u001b[?25lMerging daily equity files:  [-----------------------#------------]  225 | ISRG: sid 226\n",
            "\u001b[?25lMerging daily equity files:  [-----------------------#------------]  226 | IT: sid 227\n",
            "\u001b[?25lMerging daily equity files:  [-----------------------#------------]  227 | ITW: sid 228\n",
            "\u001b[?25lLoading custom pricing data:   [##################------------------]   50%  00:00:05 | IVZ: sid 229\n",
            "\u001b[?25lMerging daily equity files:  [------------------------#-----------]  229 | JBHT: sid 230\n",
            "\u001b[?25lMerging daily equity files:  [------------------------#-----------]  230 | JCI: sid 231\n",
            "\u001b[?25lLoading custom pricing data:   [##################------------------]   50%  00:00:04 | JEC: sid 232\n",
            "\u001b[?25lMerging daily equity files:  [-------------------------#----------]  232 | JNJ: sid 233\n",
            "\u001b[?25lLoading custom pricing data:   [##################------------------]   51%  00:00:04 | JNPR: sid 234\n",
            "\u001b[?25lMerging daily equity files:  [--------------------------#---------]  234 | JPM: sid 235\n",
            "\u001b[?25lMerging daily equity files:  [--------------------------#---------]  235 | JWN: sid 236\n",
            "\u001b[?25lMerging daily equity files:  [---------------------------#--------]  236 | K: sid 237\n",
            "\u001b[?25lLoading custom pricing data:   [##################------------------]   52%  00:00:04 | KEY: sid 238\n",
            "\u001b[?25lMerging daily equity files:  [---------------------------#--------]  238 | KHC: sid 239\n",
            "\u001b[?25lMerging daily equity files:  [----------------------------#-------]  239 | KIM: sid 240\n",
            "\u001b[?25lMerging daily equity files:  [----------------------------#-------]  240 | KLAC: sid 241\n",
            "\u001b[?25lLoading custom pricing data:   [###################-----------------]   52%  00:00:04 | KMB: sid 242\n",
            "\u001b[?25lLoading custom pricing data:   [###################-----------------]   53%  00:00:04 | KMI: sid 243\n",
            "\u001b[?25lMerging daily equity files:  [-----------------------------#------]  243 | KMX: sid 244\n",
            "\u001b[?25lMerging daily equity files:  [-----------------------------#------]  244 | KO: sid 245\n",
            "\u001b[?25lMerging daily equity files:  [------------------------------#-----]  245 | KR: sid 246\n",
            "\u001b[?25lLoading custom pricing data:   [###################-----------------]   54%  00:00:04 | KSS: sid 247\n",
            "\u001b[?25lMerging daily equity files:  [------------------------------#-----]  247 | KSU: sid 248\n",
            "\u001b[?25lMerging daily equity files:  [------------------------------#-----]  248 | L: sid 249\n",
            "\u001b[?25lMerging daily equity files:  [-------------------------------#----]  249 | LB: sid 250\n",
            "\u001b[?25lMerging daily equity files:  [-------------------------------#----]  250 | LEG: sid 251\n",
            "\u001b[?25lLoading custom pricing data:   [###################-----------------]   55%  00:00:04 | LEN: sid 252\n",
            "\u001b[?25lMerging daily equity files:  [-------------------------------#----]  252 | LH: sid 253\n",
            "\u001b[?25lLoading custom pricing data:   [####################----------------]   55%  00:00:04 | LKQ: sid 254\n",
            "\u001b[?25lMerging daily equity files:  [--------------------------------#---]  254 | LLY: sid 255\n",
            "\u001b[?25lLoading custom pricing data:   [####################----------------]   56%  00:00:04 | LMT: sid 256\n",
            "\u001b[?25lMerging daily equity files:  [--------------------------------#---]  256 | LNC: sid 257\n",
            "\u001b[?25lMerging daily equity files:  [---------------------------------#--]  257 | LNT: sid 258\n",
            "\u001b[?25lMerging daily equity files:  [---------------------------------#--]  258 | LOW: sid 259\n",
            "\u001b[?25lMerging daily equity files:  [---------------------------------#--]  259 | LRCX: sid 260\n",
            "\u001b[?25lLoading custom pricing data:   [####################----------------]   57%  00:00:04 | LUV: sid 261\n",
            "\u001b[?25lMerging daily equity files:  [---------------------------------#--]  261 | LYB: sid 262\n",
            "\u001b[?25lMerging daily equity files:  [----------------------------------#-]  262 | M: sid 263\n",
            "\u001b[?25lMerging daily equity files:  [----------------------------------#-]  263 | MA: sid 264\n",
            "\u001b[?25lMerging daily equity files:  [----------------------------------#-]  264 | MAA: sid 265\n",
            "\u001b[?25lLoading custom pricing data:   [####################----------------]   58%  00:00:04 | MAC: sid 266\n",
            "\u001b[?25lLoading custom pricing data:   [#####################---------------]   58%  00:00:04 | MAR: sid 267\n",
            "\u001b[?25lMerging daily equity files:  [----------------------------------#-]  267 | MAS: sid 268\n",
            "\u001b[?25lMerging daily equity files:  [-----------------------------------#]  268 | MAT: sid 269\n",
            "\u001b[?25lLoading custom pricing data:   [#####################---------------]   59%  00:00:04 | MCD: sid 270\n",
            "\u001b[?25lMerging daily equity files:  [-----------------------------------#]  270 | MCHP: sid 271\n",
            "\u001b[?25lMerging daily equity files:  [-----------------------------------#]  271 | MCK: sid 272\n",
            "\u001b[?25lMerging daily equity files:  [-----------------------------------#]  272 | MCO: sid 273\n",
            "\u001b[?25lMerging daily equity files:  [-----------------------------------#]  273 | MDLZ: sid 274\n",
            "\u001b[?25lLoading custom pricing data:   [#####################---------------]   60%  00:00:04 | MDT: sid 275\n",
            "\u001b[?25lMerging daily equity files:  [-----------------------------------#]  275 | MET: sid 276\n",
            "\u001b[?25lLoading custom pricing data:   [#####################---------------]   60%  00:00:03 | MGM: sid 277\n",
            "\u001b[?25lMerging daily equity files:  [-----------------------------------#]  277 | MHK: sid 278\n",
            "\u001b[?25lLoading custom pricing data:   [#####################---------------]   61%  00:00:03 | MKC: sid 279\n",
            "\u001b[?25lLoading custom pricing data:   [######################--------------]   61%  00:00:03 | MLM: sid 280\n",
            "\u001b[?25lMerging daily equity files:  [-----------------------------------#]  280 | MMC: sid 281\n",
            "\u001b[?25lMerging daily equity files:  [-----------------------------------#]  281 | MNST: sid 282\n",
            "\u001b[?25lMerging daily equity files:  [-----------------------------------#]  282 | MO: sid 283\n",
            "\u001b[?25lLoading custom pricing data:   [######################--------------]   62%  00:00:03 | MON: sid 284\n",
            "\u001b[?25lMerging daily equity files:  [-----------------------------------#]  284 | MOS: sid 285\n",
            "\u001b[?25lMerging daily equity files:  [-----------------------------------#]  285 | MPC: sid 286\n",
            "\u001b[?25lMerging daily equity files:  [-----------------------------------#]  286 | MRK: sid 287\n",
            "\u001b[?25lLoading custom pricing data:   [######################--------------]   63%  00:00:03 | MRO: sid 288\n",
            "\u001b[?25lMerging daily equity files:  [-----------------------------------#]  288 | MS: sid 289\n",
            "\u001b[?25lMerging daily equity files:  [-----------------------------------#]  289 | MSFT: sid 290\n",
            "\u001b[?25lMerging daily equity files:  [-----------------------------------#]  290 | MSI: sid 291\n",
            "\u001b[?25lLoading custom pricing data:   [#######################-------------]   63%  00:00:03 | MTB: sid 292\n",
            "\u001b[?25lLoading custom pricing data:   [#######################-------------]   64%  00:00:03 | MTD: sid 293\n",
            "\u001b[?25lMerging daily equity files:  [-----------------------------------#]  293 | MU: sid 294\n",
            "\u001b[?25lMerging daily equity files:  [-----------------------------------#]  294 | MYL: sid 295\n",
            "\u001b[?25lMerging daily equity files:  [-----------------------------------#]  295 | NAVI: sid 296\n",
            "\u001b[?25lMerging daily equity files:  [-----------------------------------#]  296 | NBL: sid 297\n",
            "\u001b[?25lLoading custom pricing data:   [#######################-------------]   65%  00:00:03 | NDAQ: sid 298\n",
            "\u001b[?25lMerging daily equity files:  [-----------------------------------#]  298 | NEE: sid 299\n",
            "\u001b[?25lMerging daily equity files:  [----------------------------------#-]  299 | NEM: sid 300\n",
            "\u001b[?25lMerging daily equity files:  [----------------------------------#-]  300 | NFLX: sid 301\n",
            "\u001b[?25lLoading custom pricing data:   [#######################-------------]   66%  00:00:03 | NKE: sid 302\n",
            "\u001b[?25lMerging daily equity files:  [----------------------------------#-]  302 | NLSN: sid 303\n",
            "\u001b[?25lMerging daily equity files:  [----------------------------------#-]  303 | NOC: sid 304\n",
            "\u001b[?25lLoading custom pricing data:   [########################------------]   66%  00:00:03 | NOV: sid 305\n",
            "\u001b[?25lMerging daily equity files:  [---------------------------------#--]  305 | NRG: sid 306\n",
            "\u001b[?25lLoading custom pricing data:   [########################------------]   67%  00:00:03 | NSC: sid 307\n",
            "\u001b[?25lMerging daily equity files:  [---------------------------------#--]  307 | NTAP: sid 308\n",
            "\u001b[?25lMerging daily equity files:  [---------------------------------#--]  308 | NTRS: sid 309\n",
            "\u001b[?25lMerging daily equity files:  [---------------------------------#--]  309 | NUE: sid 310\n",
            "\u001b[?25lLoading custom pricing data:   [########################------------]   68%  00:00:03 | NVDA: sid 311\n",
            "\u001b[?25lMerging daily equity files:  [--------------------------------#---]  311 | NWL: sid 312\n",
            "\u001b[?25lMerging daily equity files:  [--------------------------------#---]  312 | NWS: sid 313\n",
            "\u001b[?25lMerging daily equity files:  [--------------------------------#---]  313 | NWSA: sid 314\n",
            "\u001b[?25lMerging daily equity files:  [-------------------------------#----]  314 | O: sid 315\n",
            "\u001b[?25lLoading custom pricing data:   [########################------------]   69%  00:00:03 | OKE: sid 316\n",
            "\u001b[?25lMerging daily equity files:  [-------------------------------#----]  316 | OMC: sid 317\n",
            "\u001b[?25lLoading custom pricing data:   [#########################-----------]   69%  00:00:03 | ORCL: sid 318\n",
            "\u001b[?25lMerging daily equity files:  [------------------------------#-----]  318 | ORLY: sid 319\n",
            "\u001b[?25lLoading custom pricing data:   [#########################-----------]   70%  00:00:03 | OXY: sid 320\n",
            "\u001b[?25lMerging daily equity files:  [------------------------------#-----]  320 | PAYX: sid 321\n",
            "\u001b[?25lLoading custom pricing data:   [#########################-----------]   70%  00:00:02 | PBCT: sid 322\n",
            "\u001b[?25lMerging daily equity files:  [-----------------------------#------]  322 | PCAR: sid 323\n",
            "\u001b[?25lMerging daily equity files:  [-----------------------------#------]  323 | PCG: sid 324\n",
            "\u001b[?25lLoading custom pricing data:   [#########################-----------]   71%  00:00:02 | PDCO: sid 325\n",
            "\u001b[?25lMerging daily equity files:  [----------------------------#-------]  325 | PEG: sid 326\n",
            "\u001b[?25lMerging daily equity files:  [----------------------------#-------]  326 | PEP: sid 327\n",
            "\u001b[?25lMerging daily equity files:  [----------------------------#-------]  327 | PFE: sid 328\n",
            "\u001b[?25lMerging daily equity files:  [---------------------------#--------]  328 | PFG: sid 329\n",
            "\u001b[?25lLoading custom pricing data:   [#########################-----------]   72%  00:00:02 | PG: sid 330\n",
            "\u001b[?25lLoading custom pricing data:   [##########################----------]   72%  00:00:02 | PGR: sid 331\n",
            "\u001b[?25lMerging daily equity files:  [--------------------------#---------]  331 | PH: sid 332\n",
            "\u001b[?25lMerging daily equity files:  [--------------------------#---------]  332 | PHM: sid 333\n",
            "\u001b[?25lLoading custom pricing data:   [##########################----------]   73%  00:00:02 | PKG: sid 334\n",
            "\u001b[?25lMerging daily equity files:  [-------------------------#----------]  334 | PKI: sid 335\n",
            "\u001b[?25lMerging daily equity files:  [-------------------------#----------]  335 | PLD: sid 336\n",
            "\u001b[?25lMerging daily equity files:  [------------------------#-----------]  336 | PM: sid 337\n",
            "\u001b[?25lMerging daily equity files:  [------------------------#-----------]  337 | PNC: sid 338\n",
            "\u001b[?25lLoading custom pricing data:   [##########################----------]   74%  00:00:02 | PNR: sid 339\n",
            "\u001b[?25lMerging daily equity files:  [-----------------------#------------]  339 | PNW: sid 340\n",
            "\u001b[?25lMerging daily equity files:  [-----------------------#------------]  340 | PPG: sid 341\n",
            "\u001b[?25lMerging daily equity files:  [-----------------------#------------]  341 | PPL: sid 342\n",
            "\u001b[?25lLoading custom pricing data:   [###########################---------]   75%  00:00:02 | PRGO: sid 343\n",
            "\u001b[?25lMerging daily equity files:  [----------------------#-------------]  343 | PRU: sid 344\n",
            "\u001b[?25lMerging daily equity files:  [---------------------#--------------]  344 | PSA: sid 345\n",
            "\u001b[?25lMerging daily equity files:  [---------------------#--------------]  345 | PSX: sid 346\n",
            "\u001b[?25lMerging daily equity files:  [---------------------#--------------]  346 | PVH: sid 347\n",
            "\u001b[?25lLoading custom pricing data:   [###########################---------]   76%  00:00:02 | PWR: sid 348\n",
            "\u001b[?25lMerging daily equity files:  [--------------------#---------------]  348 | PXD: sid 349\n",
            "\u001b[?25lMerging daily equity files:  [-------------------#----------------]  349 | PYPL: sid 350\n",
            "\u001b[?25lMerging daily equity files:  [-------------------#----------------]  350 | QCOM: sid 351\n",
            "\u001b[?25lLoading custom pricing data:   [###########################---------]   77%  00:00:02 | QRVO: sid 352\n",
            "\u001b[?25lMerging daily equity files:  [------------------#-----------------]  352 | RCL: sid 353\n",
            "\u001b[?25lMerging daily equity files:  [------------------#-----------------]  353 | RE: sid 354\n",
            "\u001b[?25lMerging daily equity files:  [------------------#-----------------]  354 | REG: sid 355\n",
            "\u001b[?25lLoading custom pricing data:   [############################--------]   77%  00:00:02 | REGN: sid 356\n",
            "\u001b[?25lLoading custom pricing data:   [############################--------]   78%  00:00:02 | RF: sid 357\n",
            "\u001b[?25lMerging daily equity files:  [----------------#-------------------]  357 | RHI: sid 358\n",
            "\u001b[?25lMerging daily equity files:  [----------------#-------------------]  358 | RJF: sid 359\n",
            "\u001b[?25lMerging daily equity files:  [----------------#-------------------]  359 | RL: sid 360\n",
            "\u001b[?25lMerging daily equity files:  [---------------#--------------------]  360 | RMD: sid 361\n",
            "\u001b[?25lLoading custom pricing data:   [############################--------]   79%  00:00:02 | ROK: sid 362\n",
            "\u001b[?25lMerging daily equity files:  [--------------#---------------------]  362 | ROP: sid 363\n",
            "\u001b[?25lMerging daily equity files:  [--------------#---------------------]  363 | ROST: sid 364\n",
            "\u001b[?25lMerging daily equity files:  [--------------#---------------------]  364 | RRC: sid 365\n",
            "\u001b[?25lLoading custom pricing data:   [############################--------]   80%  00:00:02 | RSG: sid 366\n",
            "\u001b[?25lLoading custom pricing data:   [############################--------]   80%  00:00:01 | RTN: sid 367\n",
            "\u001b[?25lMerging daily equity files:  [------------#-----------------------]  367 | SBAC: sid 368\n",
            "\u001b[?25lLoading custom pricing data:   [#############################-------]   80%  00:00:01 | SBUX: sid 369\n",
            "\u001b[?25lMerging daily equity files:  [------------#-----------------------]  369 | SCG: sid 370\n",
            "\u001b[?25lLoading custom pricing data:   [#############################-------]   81%  00:00:01 | SCHW: sid 371\n",
            "\u001b[?25lMerging daily equity files:  [-----------#------------------------]  371 | SEE: sid 372\n",
            "\u001b[?25lMerging daily equity files:  [-----------#------------------------]  372 | SHW: sid 373\n",
            "\u001b[?25lMerging daily equity files:  [----------#-------------------------]  373 | SIG: sid 374\n",
            "\u001b[?25lLoading custom pricing data:   [#############################-------]   82%  00:00:01 | SJM: sid 375\n",
            "\u001b[?25lMerging daily equity files:  [---------#--------------------------]  375 | SLB: sid 376\n",
            "\u001b[?25lMerging daily equity files:  [---------#--------------------------]  376 | SLG: sid 377\n",
            "\u001b[?25lMerging daily equity files:  [---------#--------------------------]  377 | SNA: sid 378\n",
            "\u001b[?25lMerging daily equity files:  [--------#---------------------------]  378 | SNPS: sid 379\n",
            "\u001b[?25lLoading custom pricing data:   [#############################-------]   83%  00:00:01 | SO: sid 380\n",
            "\u001b[?25lLoading custom pricing data:   [##############################------]   83%  00:00:01 | SPG: sid 381\n",
            "\u001b[?25lMerging daily equity files:  [-------#----------------------------]  381 | SPGI: sid 382\n",
            "\u001b[?25lMerging daily equity files:  [-------#----------------------------]  382 | SRCL: sid 383\n",
            "\u001b[?25lLoading custom pricing data:   [##############################------]   84%  00:00:01 | SRE: sid 384\n",
            "\u001b[?25lMerging daily equity files:  [------#-----------------------------]  384 | STI: sid 385\n",
            "\u001b[?25lMerging daily equity files:  [------#-----------------------------]  385 | STT: sid 386\n",
            "\u001b[?25lMerging daily equity files:  [------#-----------------------------]  386 | STX: sid 387\n",
            "\u001b[?25lMerging daily equity files:  [------#-----------------------------]  387 | STZ: sid 388\n",
            "\u001b[?25lLoading custom pricing data:   [##############################------]   85%  00:00:01 | SWK: sid 389\n",
            "\u001b[?25lMerging daily equity files:  [-----#------------------------------]  389 | SWKS: sid 390\n",
            "\u001b[?25lMerging daily equity files:  [-----#------------------------------]  390 | SYF: sid 391\n",
            "\u001b[?25lMerging daily equity files:  [----#-------------------------------]  391 | SYK: sid 392\n",
            "\u001b[?25lMerging daily equity files:  [----#-------------------------------]  392 | SYY: sid 393\n",
            "\u001b[?25lLoading custom pricing data:   [###############################-----]   86%  00:00:01 | T: sid 394\n",
            "\u001b[?25lMerging daily equity files:  [----#-------------------------------]  394 | TAP: sid 395\n",
            "\u001b[?25lMerging daily equity files:  [---#--------------------------------]  395 | TDG: sid 396\n",
            "\u001b[?25lMerging daily equity files:  [---#--------------------------------]  396 | TEL: sid 397\n",
            "\u001b[?25lLoading custom pricing data:   [###############################-----]   87%  00:00:01 | TGT: sid 398\n",
            "\u001b[?25lMerging daily equity files:  [---#--------------------------------]  398 | TIF: sid 399\n",
            "\u001b[?25lMerging daily equity files:  [--#---------------------------------]  399 | TJX: sid 400\n",
            "\u001b[?25lMerging daily equity files:  [--#---------------------------------]  400 | TMO: sid 401\n",
            "\u001b[?25lMerging daily equity files:  [--#---------------------------------]  401 | TRIP: sid 402\n",
            "\u001b[?25lLoading custom pricing data:   [###############################-----]   88%  00:00:01 | TROW: sid 403\n",
            "\u001b[?25lMerging daily equity files:  [--#---------------------------------]  403 | TRV: sid 404\n",
            "\u001b[?25lMerging daily equity files:  [-#----------------------------------]  404 | TSCO: sid 405\n",
            "\u001b[?25lMerging daily equity files:  [-#----------------------------------]  405 | TSN: sid 406\n",
            "\u001b[?25lLoading custom pricing data:   [################################----]   89%  00:00:01 | TXN: sid 407\n",
            "\u001b[?25lMerging daily equity files:  [-#----------------------------------]  407 | TXT: sid 408\n",
            "\u001b[?25lMerging daily equity files:  [-#----------------------------------]  408 | UAA: sid 409\n",
            "\u001b[?25lMerging daily equity files:  [-#----------------------------------]  409 | UAL: sid 410\n",
            "\u001b[?25lMerging daily equity files:  [-#----------------------------------]  410 | UDR: sid 411\n",
            "\u001b[?25lLoading custom pricing data:   [################################----]   90%  00:00:00 | UHS: sid 412\n",
            "\u001b[?25lMerging daily equity files:  [#-----------------------------------]  412 | ULTA: sid 413\n",
            "\u001b[?25lMerging daily equity files:  [#-----------------------------------]  413 | UNH: sid 414\n",
            "\u001b[?25lMerging daily equity files:  [#-----------------------------------]  414 | UNM: sid 415\n",
            "\u001b[?25lLoading custom pricing data:   [################################----]   91%  00:00:00 | UNP: sid 416\n",
            "\u001b[?25lMerging daily equity files:  [#-----------------------------------]  416 | UPS: sid 417\n",
            "\u001b[?25lMerging daily equity files:  [#-----------------------------------]  417 | URI: sid 418\n",
            "\u001b[?25lLoading custom pricing data:   [#################################---]   91%  00:00:00 | USB: sid 419\n",
            "\u001b[?25lMerging daily equity files:  [#-----------------------------------]  419 | UTX: sid 420\n",
            "\u001b[?25lLoading custom pricing data:   [#################################---]   92%  00:00:00 | V: sid 421\n",
            "\u001b[?25lMerging daily equity files:  [#-----------------------------------]  421 | VAR: sid 422\n",
            "\u001b[?25lMerging daily equity files:  [#-----------------------------------]  422 | VFC: sid 423\n",
            "\u001b[?25lMerging daily equity files:  [#-----------------------------------]  423 | VLO: sid 424\n",
            "\u001b[?25lMerging daily equity files:  [#-----------------------------------]  424 | VMC: sid 425\n",
            "\u001b[?25lLoading custom pricing data:   [#################################---]   93%  00:00:00 | VNO: sid 426\n",
            "\u001b[?25lMerging daily equity files:  [#-----------------------------------]  426 | VRSK: sid 427\n",
            "\u001b[?25lMerging daily equity files:  [#-----------------------------------]  427 | VRSN: sid 428\n",
            "\u001b[?25lMerging daily equity files:  [#-----------------------------------]  428 | VRTX: sid 429\n",
            "\u001b[?25lLoading custom pricing data:   [#################################---]   94%  00:00:00 | VTR: sid 430\n",
            "\u001b[?25lMerging daily equity files:  [#-----------------------------------]  430 | VZ: sid 431\n",
            "\u001b[?25lLoading custom pricing data:   [##################################--]   94%  00:00:00 | WAT: sid 432\n",
            "\u001b[?25lMerging daily equity files:  [#-----------------------------------]  432 | WBA: sid 433\n",
            "\u001b[?25lMerging daily equity files:  [#-----------------------------------]  433 | WDC: sid 434\n",
            "\u001b[?25lLoading custom pricing data:   [##################################--]   95%  00:00:00 | WEC: sid 435\n",
            "\u001b[?25lMerging daily equity files:  [#-----------------------------------]  435 | WFC: sid 436\n",
            "\u001b[?25lMerging daily equity files:  [#-----------------------------------]  436 | WHR: sid 437\n",
            "\u001b[?25lMerging daily equity files:  [#-----------------------------------]  437 | WLTW: sid 438\n",
            "\u001b[?25lLoading custom pricing data:   [##################################--]   96%  00:00:00 | WM: sid 439\n",
            "\u001b[?25lMerging daily equity files:  [#-----------------------------------]  439 | WMB: sid 440\n",
            "\u001b[?25lMerging daily equity files:  [#-----------------------------------]  440 | WMT: sid 441\n",
            "\u001b[?25lMerging daily equity files:  [-#----------------------------------]  441 | WRK: sid 442\n",
            "\u001b[?25lMerging daily equity files:  [-#----------------------------------]  442 | WU: sid 443\n",
            "\u001b[?25lLoading custom pricing data:   [##################################--]   97%  00:00:00 | WY: sid 444\n",
            "\u001b[?25lLoading custom pricing data:   [###################################-]   97%  00:00:00 | WYNN: sid 445\n",
            "\u001b[?25lMerging daily equity files:  [-#----------------------------------]  445 | XEC: sid 446\n",
            "\u001b[?25lMerging daily equity files:  [-#----------------------------------]  446 | XEL: sid 447\n",
            "\u001b[?25lLoading custom pricing data:   [###################################-]   98%  00:00:00 | XLNX: sid 448\n",
            "\u001b[?25lMerging daily equity files:  [--#---------------------------------]  448 | XOM: sid 449\n",
            "\u001b[?25lMerging daily equity files:  [--#---------------------------------]  449 | XRAY: sid 450\n",
            "\u001b[?25lMerging daily equity files:  [--#---------------------------------]  450 | XRX: sid 451\n",
            "\u001b[?25lMerging daily equity files:  [--#---------------------------------]  451 | XYL: sid 452\n",
            "\u001b[?25lLoading custom pricing data:   [###################################-]   99%  00:00:00 | YUM: sid 453\n",
            "\u001b[?25lMerging daily equity files:  [---#--------------------------------]  453 | ZBH: sid 454\n",
            "\u001b[?25lMerging daily equity files:  [---#--------------------------------]  454 | ZION: sid 455\n",
            "\u001b[?25lMerging daily equity files:  [---#--------------------------------]  455 | ZTS: sid 456\n",
            "\u001b[?25lLoading custom pricing data:   [####################################]  100%          \u001b[?25h\n",
            "\u001b[?25lMerging daily equity files:  [####################################]     \u001b[?25h\n"
          ],
          "name": "stdout"
        }
      ]
    },
    {
      "cell_type": "code",
      "metadata": {
        "id": "IDjadDPpAA8F",
        "colab_type": "code",
        "colab": {
          "base_uri": "https://localhost:8080/",
          "height": 52
        },
        "outputId": "20711f0c-af09-49f7-9cbb-4e0c7de132e8"
      },
      "source": [
        "bundle_name='sp500'\n",
        "from zipline.data import bundles\n",
        "from zipline.data.bundles.csvdir import csvdir_equities\n",
        "\n",
        "# Create an ingest function \n",
        "ingest_func = csvdir_equities(['daily'], bundle_name)\n",
        "\n",
        "# Register the data bundle and its ingest function\n",
        "bundles.register(bundle_name, ingest_func);\n",
        "\n",
        "\n",
        "# Load the data bundle\n",
        "bundle_data = bundles.load(bundle_name)"
      ],
      "execution_count": null,
      "outputs": [
        {
          "output_type": "stream",
          "text": [
            "/usr/local/lib/python3.6/dist-packages/ipykernel_launcher.py:9: UserWarning: Overwriting bundle with name 'sp500'\n",
            "  if __name__ == '__main__':\n"
          ],
          "name": "stderr"
        }
      ]
    },
    {
      "cell_type": "code",
      "metadata": {
        "id": "hAF7vIMoAFec",
        "colab_type": "code",
        "colab": {}
      },
      "source": [
        "from zipline.pipeline import Pipeline\n",
        "from zipline.pipeline.factors import AverageDollarVolume\n",
        "universe= AverageDollarVolume(window_length=120).top(500)\n",
        "pipeline=Pipeline()"
      ],
      "execution_count": null,
      "outputs": []
    },
    {
      "cell_type": "code",
      "metadata": {
        "id": "9O01Km1JPPi8",
        "colab_type": "code",
        "colab": {}
      },
      "source": [
        ""
      ],
      "execution_count": null,
      "outputs": []
    },
    {
      "cell_type": "code",
      "metadata": {
        "id": "YrEDOsaYBPsa",
        "colab_type": "code",
        "colab": {
          "base_uri": "https://localhost:8080/",
          "height": 1000
        },
        "outputId": "64ebe63a-7162-42b3-9605-810143cf1a39"
      },
      "source": [
        "import pandas as pd\n",
        "from zipline.pipeline.loaders import USEquityPricingLoader\n",
        "from zipline.utils.calendars import get_calendar\n",
        "import numpy as np\n",
        "import pandas as pd\n",
        "\n",
        "import matplotlib.pyplot as plt\n",
        "pricing_loader=USEquityPricingLoader(bundle_data.equity_daily_bar_reader,bundle_data.adjustment_reader)\n",
        "from zipline.pipeline.engine import SimplePipelineEngine\n",
        "from zipline.pipeline.data import USEquityPricing\n",
        "def choose_loader(columns):\n",
        "  if columns not in USEquityPricing.columns:\n",
        "    raise Exception(\"Column not present\")\n",
        "  else:\n",
        "    return pricing_loader\n",
        "trading_calendar= get_calendar('NYSE')\n",
        "engine = SimplePipelineEngine(get_loader = choose_loader,calendar = trading_calendar.all_sessions, asset_finder= bundle_data.asset_finder)\n",
        "start_date=pd.Timestamp('2020-06-05',tz='utc')\n",
        "universe_end_date=pd.Timestamp('2020-06-05',tz='utc')\n",
        "output=engine.run_pipeline(pipeline,start_date,universe_end_date)\n",
        "universe_tickers=(output.index.get_level_values(1)).values.tolist()\n",
        "print((len(universe_tickers)))\n",
        "from zipline.data.data_portal import DataPortal\n",
        "data_portal= DataPortal(bundle_data.asset_finder,\n",
        "                        trading_calendar=trading_calendar,\n",
        "                        first_trading_day=bundle_data.equity_daily_bar_reader.first_trading_day,\n",
        "                        equity_daily_reader= bundle_data.equity_daily_bar_reader,\n",
        "                        adjustment_reader= bundle_data.adjustment_reader)\n",
        "start_date=universe_end_date-pd.DateOffset(years=5)\n",
        "end_date=universe_end_date\n",
        "def get_pricing(data_portal, assets, trading_calendar,start_date,end_date, field='close'):\n",
        "  \n",
        "  start_loc=trading_calendar.closes.index.get_loc(start_date)\n",
        "  end_loc=trading_calendar.closes.index.get_loc(end_date)\n",
        "  return data_portal.get_history_window(assets,end_date, bar_count=end_loc-start_loc,frequency='1d',field=field,data_frequency='daily')\n",
        "returns_df=get_pricing(data_portal, universe_tickers, trading_calendar,end_date-pd.DateOffset(years=5),end_date).pct_change()[1:].fillna(0) #best way to convert price into returns\n",
        "print(returns_df.head())"
      ],
      "execution_count": null,
      "outputs": [
        {
          "output_type": "stream",
          "text": [
            "449\n",
            "                           Equity(0 [A])  Equity(1 [AAL])  Equity(2 [AAP])  \\\n",
            "2015-06-09 00:00:00+00:00      -0.004654         0.011791         0.000699   \n",
            "2015-06-10 00:00:00+00:00       0.002344         0.002480         0.018111   \n",
            "2015-06-11 00:00:00+00:00       0.006244        -0.010141         0.001616   \n",
            "2015-06-12 00:00:00+00:00      -0.009612         0.017216         0.004242   \n",
            "2015-06-15 00:00:00+00:00      -0.001486        -0.015721        -0.017927   \n",
            "\n",
            "                           Equity(3 [AAPL])  Equity(4 [ABBV])  \\\n",
            "2015-06-09 00:00:00+00:00         -0.002981         -0.001785   \n",
            "2015-06-10 00:00:00+00:00          0.011466          0.008423   \n",
            "2015-06-11 00:00:00+00:00         -0.002258         -0.002916   \n",
            "2015-06-12 00:00:00+00:00         -0.011043         -0.014550   \n",
            "2015-06-15 00:00:00+00:00         -0.001966         -0.002088   \n",
            "\n",
            "                           Equity(5 [ABC])  Equity(6 [ABT])  Equity(7 [ACN])  \\\n",
            "2015-06-09 00:00:00+00:00        -0.009980        -0.005347         0.001804   \n",
            "2015-06-10 00:00:00+00:00        -0.003391         0.006642         0.016632   \n",
            "2015-06-11 00:00:00+00:00         0.015264         0.011546         0.004144   \n",
            "2015-06-12 00:00:00+00:00        -0.002355        -0.007970        -0.008461   \n",
            "2015-06-15 00:00:00+00:00         0.004349        -0.012328        -0.003215   \n",
            "\n",
            "                           Equity(8 [ADBE])  Equity(9 [ADI])  \\\n",
            "2015-06-09 00:00:00+00:00         -0.003327        -0.003927   \n",
            "2015-06-10 00:00:00+00:00          0.021297         0.030903   \n",
            "2015-06-11 00:00:00+00:00          0.001144        -0.007383   \n",
            "2015-06-12 00:00:00+00:00          0.002637        -0.014281   \n",
            "2015-06-15 00:00:00+00:00         -0.012021         0.006625   \n",
            "\n",
            "                                 ...          Equity(447 [XEL])  \\\n",
            "2015-06-09 00:00:00+00:00        ...                   0.000928   \n",
            "2015-06-10 00:00:00+00:00        ...                   0.000000   \n",
            "2015-06-11 00:00:00+00:00        ...                   0.013906   \n",
            "2015-06-12 00:00:00+00:00        ...                  -0.003353   \n",
            "2015-06-15 00:00:00+00:00        ...                  -0.006116   \n",
            "\n",
            "                           Equity(448 [XLNX])  Equity(449 [XOM])  \\\n",
            "2015-06-09 00:00:00+00:00            0.002590          -0.003170   \n",
            "2015-06-10 00:00:00+00:00            0.011841           0.007437   \n",
            "2015-06-11 00:00:00+00:00            0.004681          -0.001408   \n",
            "2015-06-12 00:00:00+00:00           -0.012071          -0.012575   \n",
            "2015-06-15 00:00:00+00:00           -0.007288          -0.003559   \n",
            "\n",
            "                           Equity(450 [XRAY])  Equity(451 [XRX])  \\\n",
            "2015-06-09 00:00:00+00:00           -0.002864          -0.001820   \n",
            "2015-06-10 00:00:00+00:00            0.012895           0.020851   \n",
            "2015-06-11 00:00:00+00:00            0.003825           0.009774   \n",
            "2015-06-12 00:00:00+00:00           -0.012133          -0.017590   \n",
            "2015-06-15 00:00:00+00:00           -0.007484          -0.010736   \n",
            "\n",
            "                           Equity(452 [XYL])  Equity(453 [YUM])  \\\n",
            "2015-06-09 00:00:00+00:00          -0.001107           0.000984   \n",
            "2015-06-10 00:00:00+00:00           0.011662           0.011148   \n",
            "2015-06-11 00:00:00+00:00           0.010652          -0.002946   \n",
            "2015-06-12 00:00:00+00:00          -0.009998          -0.002406   \n",
            "2015-06-15 00:00:00+00:00          -0.011522          -0.002519   \n",
            "\n",
            "                           Equity(454 [ZBH])  Equity(455 [ZION])  \\\n",
            "2015-06-09 00:00:00+00:00          -0.004419            0.001603   \n",
            "2015-06-10 00:00:00+00:00           0.009064            0.017232   \n",
            "2015-06-11 00:00:00+00:00           0.003959           -0.014471   \n",
            "2015-06-12 00:00:00+00:00          -0.016747            0.000313   \n",
            "2015-06-15 00:00:00+00:00          -0.004724            0.005290   \n",
            "\n",
            "                           Equity(456 [ZTS])  \n",
            "2015-06-09 00:00:00+00:00           0.009037  \n",
            "2015-06-10 00:00:00+00:00           0.009119  \n",
            "2015-06-11 00:00:00+00:00           0.003623  \n",
            "2015-06-12 00:00:00+00:00          -0.015821  \n",
            "2015-06-15 00:00:00+00:00           0.003871  \n",
            "\n",
            "[5 rows x 449 columns]\n"
          ],
          "name": "stdout"
        }
      ]
    },
    {
      "cell_type": "code",
      "metadata": {
        "id": "rJY5PG3q4yA5",
        "colab_type": "code",
        "colab": {
          "base_uri": "https://localhost:8080/",
          "height": 52
        },
        "outputId": "593735ff-60f9-4438-fbad-0df01afd4740"
      },
      "source": [
        "five_year_returns=returns_df\n",
        "from sklearn.decomposition import PCA\n",
        "def get_num_components(df, var_ret):\n",
        "    \n",
        "    if var_ret > 1 or var_ret < 0:\n",
        "        print('Error')\n",
        "        return 0\n",
        "    \n",
        "    if var_ret == 1:\n",
        "        return df.shape[1]\n",
        "        \n",
        "    pca = PCA(n_components = df.shape[1])\n",
        "\n",
        "    pca.fit(df)\n",
        "    \n",
        "    needed_components = 0\n",
        "    \n",
        "    var_sum = 0\n",
        "    \n",
        "    for i in range(0, df.shape[1]):\n",
        "\n",
        "        if var_sum >= var_ret:\n",
        "            #print('Total Variance Retained: ', pca.explained_variance_ratio_[0:needed_components].sum())\n",
        "            return needed_components\n",
        "        else:\n",
        "            needed_components += 1            \n",
        "            var_sum += pca.explained_variance_ratio_[i]\n",
        "            \n",
        "num_components = get_num_components(five_year_returns, 0.9)\n",
        "\n",
        "print('\\nNumber of Principal Components Needed: ', num_components)"
      ],
      "execution_count": null,
      "outputs": [
        {
          "output_type": "stream",
          "text": [
            "\n",
            "Number of Principal Components Needed:  138\n"
          ],
          "name": "stdout"
        }
      ]
    },
    {
      "cell_type": "code",
      "metadata": {
        "id": "atAGnqjv1nly",
        "colab_type": "code",
        "colab": {
          "base_uri": "https://localhost:8080/",
          "height": 283
        },
        "outputId": "d6e044b8-1d5c-4bc1-b439-a9a02e93807d"
      },
      "source": [
        "from sklearn.decomposition import PCA\n",
        "\n",
        "\n",
        "def fit_pca(returns, num_factor_exposures, svd_solver):\n",
        "    \n",
        "    pca = PCA(n_components = num_factor_exposures, svd_solver = svd_solver).fit(returns)\n",
        "    return pca\n",
        "\n",
        "\n",
        "num_factor_exposures = num_components\n",
        "pca = fit_pca(five_year_returns, num_factor_exposures, 'full')\n",
        "def factor_betas(pca, factor_beta_indices, factor_beta_columns):\n",
        "   \n",
        "    assert len(factor_beta_indices.shape) == 1\n",
        "    assert len(factor_beta_columns.shape) == 1\n",
        "    \n",
        "    \n",
        "    \n",
        "    return pd.DataFrame(pca.components_.T, factor_beta_indices, factor_beta_columns)\n",
        "risk_model = {}\n",
        "risk_model['factor_betas'] = factor_betas(pca, five_year_returns.columns.values, np.arange(num_factor_exposures))\n",
        "\n",
        "risk_model['factor_betas']\n",
        "def factor_returns(pca, returns, factor_return_indices, factor_return_columns):\n",
        "   \n",
        "    assert len(factor_return_indices.shape) == 1\n",
        "    assert len(factor_return_columns.shape) == 1\n",
        "    \n",
        "    \n",
        "    \n",
        "    return pd.DataFrame(pca.transform(returns), factor_return_indices, factor_return_columns)\n",
        "risk_model['factor_returns'] = factor_returns(\n",
        "    pca,\n",
        "    five_year_returns,\n",
        "    five_year_returns.index,\n",
        "    np.arange(num_factor_exposures))\n",
        "\n",
        "risk_model['factor_returns'].cumsum().plot(legend=None)\n",
        "def factor_cov_matrix(factor_returns, ann_factor):\n",
        "    \n",
        "    \n",
        "    return np.diag(factor_returns.var(axis=0, ddof=1)*ann_factor)\n",
        "ann_factor = 252\n",
        "risk_model['factor_cov_matrix'] = factor_cov_matrix(risk_model['factor_returns'], ann_factor)\n",
        "\n",
        "risk_model['factor_cov_matrix'].shape\n",
        "def idiosyncratic_var_matrix(returns, factor_returns, factor_betas, ann_factor):\n",
        "   \n",
        "    common_returns = pd.DataFrame(np.dot(factor_returns, factor_betas.T), returns.index, returns.columns)\n",
        "    \n",
        "    idiosyncratic_returns = returns - common_returns\n",
        "    \n",
        "    return pd.DataFrame(factor_cov_matrix(idiosyncratic_returns, ann_factor), returns.columns, returns.columns)\n",
        "\n",
        "risk_model['idiosyncratic_var_matrix'] = idiosyncratic_var_matrix(five_year_returns, risk_model['factor_returns'], risk_model['factor_betas'], ann_factor)\n",
        "\n",
        "risk_model['idiosyncratic_var_matrix']\n",
        "def idiosyncratic_var_vector(returns, idiosyncratic_var_matrix):\n",
        "  \n",
        "    \n",
        "    return pd.DataFrame(np.diag(idiosyncratic_var_matrix), index = returns.columns)\n",
        "\n",
        "risk_model['idiosyncratic_var_vector'] = idiosyncratic_var_vector(five_year_returns, risk_model['idiosyncratic_var_matrix'])\n",
        "\n",
        "risk_model['idiosyncratic_var_vector'][:10]\n",
        "def predict_portfolio_risk(factor_betas, factor_cov_matrix, idiosyncratic_var_matrix, weights):\n",
        "   \n",
        "    assert len(factor_cov_matrix.shape) == 2\n",
        "    \n",
        "    \n",
        "    B = factor_betas.values\n",
        "    S = idiosyncratic_var_matrix.values\n",
        "    X = weights.values\n",
        "    F = factor_cov_matrix\n",
        "    \n",
        "    return np.sqrt(X.T @ (B @ F @ B.T + S) @ X)[0][0]\n",
        "all_weights = pd.DataFrame(np.repeat(1/len(universe_tickers), len(universe_tickers)), universe_tickers)\n",
        "\n",
        "predict_portfolio_risk(\n",
        "    risk_model['factor_betas'],\n",
        "    risk_model['factor_cov_matrix'],\n",
        "    risk_model['idiosyncratic_var_matrix'],\n",
        "    all_weights)"
      ],
      "execution_count": null,
      "outputs": [
        {
          "output_type": "execute_result",
          "data": {
            "text/plain": [
              "0.20633788641357664"
            ]
          },
          "metadata": {
            "tags": []
          },
          "execution_count": 337
        },
        {
          "output_type": "display_data",
          "data": {
            "image/png": "[encoded data removed]",
            "text/plain": [
              "<Figure size 432x288 with 1 Axes>"
            ]
          },
          "metadata": {
            "tags": [],
            "needs_background": "light"
          }
        }
      ]
    },
    {
      "cell_type": "code",
      "metadata": {
        "id": "wsBaBviyBBP6",
        "colab_type": "code",
        "colab": {
          "base_uri": "https://localhost:8080/",
          "height": 142
        },
        "outputId": "486ac256-10b3-4333-bf3c-1109b8a97372"
      },
      "source": [
        "\"\"\"ann_factor=252\n",
        "num_components=20\n",
        "returns=five_year_returns\n",
        "def fit_pca(num_components,df,svd_solver):\n",
        "  pca=PCA(n_components=num_components,svd_solver=svd_solver)\n",
        "  pca.fit(df)\n",
        "  return pca\n",
        "risk_model={}\n",
        "pca=fit_pca(num_components,returns,svd_solver='full')\n",
        "def factor_betas(pca,factor_betas_indices,factor_betas_columns):\n",
        "  assert len(factor_betas_indices.shape) == 1\n",
        "  assert len(factor_betas_columns.shape) == 1\n",
        "  return pd.DataFrame(pca.components_.T,factor_betas_indices,factor_betas_columns)\n",
        "risk_model['factor_betas']=factor_betas(pca,np.array(returns.columns),np.arange(num_components)) \n",
        "\n",
        "def factor_returns(pca,returns,factor_returns_indices,factor_returns_columns):\n",
        "  assert len(factor_returns_indices.shape) == 1\n",
        "  assert len(factor_returns_columns.shape) == 1\n",
        "  return pd.DataFrame(pca.transform(returns),factor_returns_indices,factor_returns_columns)\n",
        "risk_model['factor_returns']=factor_returns(pca,returns,np.array(returns.index),np.arange(num_components)) \n",
        "def factor_cov_matrix(factor_returns,ann_factor):\n",
        "  return np.diag(factor_returns.var(axis=0,ddof=1)*ann_factor)\n",
        "risk_model['factor_cov_matrix']=factor_cov_matrix(risk_model['factor_returns'],ann_factor) \n",
        "\n",
        "def idiosyncratic_var_matrix(factor_returns,ann_factor,factor_betas,returns):\n",
        "  \n",
        "  common_returns = pd.DataFrame(np.dot(factor_returns, factor_betas.T), returns.index, returns.columns)\n",
        "    \n",
        "  idiosyncratic_returns = returns - common_returns\n",
        "    \n",
        "  return pd.DataFrame(factor_cov_matrix(idiosyncratic_returns, ann_factor), returns.columns, returns.columns)\n",
        "risk_model['idiosyncratic_var_matrix']=idiosyncratic_var_matrix(risk_model['factor_returns'].values,ann_factor,risk_model['factor_betas'].values,returns)\n",
        "risk_model['factor_returns'].cumsum().plot(legend=None)\n",
        "def idiosyncratic_var_vec(returns,idiosyncratic_var_matrix):\n",
        "  return pd.Series(np.diag(idiosyncratic_var_matrix),returns.columns)\n",
        "risk_model['idiosyncratic_var_vec']=idiosyncratic_var_vec(returns,risk_model['idiosyncratic_var_matrix'])\n",
        "\n",
        "import cvxpy as cvx\n",
        "def predict_portfolio_risk(factor_betas,factor_cov_matrix,idiosyncratic_var_matrix,weights):\n",
        "  assert len(factor_cov_matrix.shape)==2\n",
        " \n",
        "    \n",
        "    \n",
        "  B = factor_betas.values\n",
        "  S = idiosyncratic_var_matrix.values\n",
        "  X = weights.values\n",
        "  F = factor_cov_matrix\n",
        "  \n",
        "  return np.sqrt(X.T @ (B @ F @ B.T + S) @ X)[0][0]\n",
        "all_weights = pd.DataFrame(np.repeat(1/len(universe_tickers), len(universe_tickers)), universe_tickers)\n",
        "calculated_risk=predict_portfolio_risk(\n",
        "    risk_model['factor_betas'],\n",
        "    risk_model['factor_cov_matrix'],\n",
        "    risk_model['idiosyncratic_var_matrix'],\n",
        "    all_weights)\n",
        "print(calculated_risk)\n",
        "\"\"\"\n",
        "\n"
      ],
      "execution_count": null,
      "outputs": [
        {
          "output_type": "execute_result",
          "data": {
            "application/vnd.google.colaboratory.intrinsic": {
              "type": "string"
            },
            "text/plain": [
              "\"ann_factor=252\\nnum_components=20\\nreturns=five_year_returns\\ndef fit_pca(num_components,df,svd_solver):\\n  pca=PCA(n_components=num_components,svd_solver=svd_solver)\\n  pca.fit(df)\\n  return pca\\nrisk_model={}\\npca=fit_pca(num_components,returns,svd_solver='full')\\ndef factor_betas(pca,factor_betas_indices,factor_betas_columns):\\n  assert len(factor_betas_indices.shape) == 1\\n  assert len(factor_betas_columns.shape) == 1\\n  return pd.DataFrame(pca.components_.T,factor_betas_indices,factor_betas_columns)\\nrisk_model['factor_betas']=factor_betas(pca,np.array(returns.columns),np.arange(num_components)) \\n\\ndef factor_returns(pca,returns,factor_returns_indices,factor_returns_columns):\\n  assert len(factor_returns_indices.shape) == 1\\n  assert len(factor_returns_columns.shape) == 1\\n  return pd.DataFrame(pca.transform(returns),factor_returns_indices,factor_returns_columns)\\nrisk_model['factor_returns']=factor_returns(pca,returns,np.array(returns.index),np.arange(num_components)) \\ndef factor_cov_matrix(factor_returns,ann_factor):\\n  return np.diag(factor_returns.var(axis=0,ddof=1)*ann_factor)\\nrisk_model['factor_cov_matrix']=factor_cov_matrix(risk_model['factor_returns'],ann_factor) \\n\\ndef idiosyncratic_var_matrix(factor_returns,ann_factor,factor_betas,returns):\\n  \\n  common_returns = pd.DataFrame(np.dot(factor_returns, factor_betas.T), returns.index, returns.columns)\\n    \\n  idiosyncratic_returns = returns - common_returns\\n    \\n  return pd.DataFrame(factor_cov_matrix(idiosyncratic_returns, ann_factor), returns.columns, returns.columns)\\nrisk_model['idiosyncratic_var_matrix']=idiosyncratic_var_matrix(risk_model['factor_returns'].values,ann_factor,risk_model['factor_betas'].values,returns)\\nrisk_model['factor_returns'].cumsum().plot(legend=None)\\ndef idiosyncratic_var_vec(returns,idiosyncratic_var_matrix):\\n  return pd.Series(np.diag(idiosyncratic_var_matrix),returns.columns)\\nrisk_model['idiosyncratic_var_vec']=idiosyncratic_var_vec(returns,risk_model['idiosyncratic_var_matrix'])\\n\\nimport cvxpy as cvx\\ndef predict_portfolio_risk(factor_betas,factor_cov_matrix,idiosyncratic_var_matrix,weights):\\n  assert len(factor_cov_matrix.shape)==2\\n \\n    \\n    \\n  B = factor_betas.values\\n  S = idiosyncratic_var_matrix.values\\n  X = weights.values\\n  F = factor_cov_matrix\\n  \\n  return np.sqrt(X.T @ (B @ F @ B.T + S) @ X)[0][0]\\nall_weights = pd.DataFrame(np.repeat(1/len(universe_tickers), len(universe_tickers)), universe_tickers)\\ncalculated_risk=predict_portfolio_risk(\\n    risk_model['factor_betas'],\\n    risk_model['factor_cov_matrix'],\\n    risk_model['idiosyncratic_var_matrix'],\\n    all_weights)\\nprint(calculated_risk)\\n\""
            ]
          },
          "metadata": {
            "tags": []
          },
          "execution_count": 338
        }
      ]
    },
    {
      "cell_type": "code",
      "metadata": {
        "id": "4g4NzevLmxTf",
        "colab_type": "code",
        "colab": {}
      },
      "source": [
        ""
      ],
      "execution_count": null,
      "outputs": []
    },
    {
      "cell_type": "code",
      "metadata": {
        "id": "Fl2s3WFa0CSF",
        "colab_type": "code",
        "colab": {
          "base_uri": "https://localhost:8080/",
          "height": 108
        },
        "outputId": "749ac788-a443-4ff0-b009-a8e0e92b29f0"
      },
      "source": [
        "import pandas as pd\n",
        "import numpy as np\n",
        "\n",
        "df = pd.read_csv('/CHECK.csv')\n",
        "df= pd.DataFrame(df)\n",
        "selected_columns=df[['Symbol','GICS Sector']]\n",
        "opi=pd.Series(df['Symbol'], index=df['GICS Sector'])\n",
        "mydict = dict(zip(df['GICS Sector'], df['Symbol']))\n",
        "print(mydict)\n",
        "df_n=selected_columns.copy()\n",
        "\n",
        "check=df_n['GICS Sector'].values\n",
        "dic = {'Real Estate' : 10,\n",
        "'Utilities' : 9,\n",
        "'Communication Services' : 8,\n",
        "'Information Technology' : 7,\n",
        "'Financials' : 6,\n",
        "'Health Care' : 5,\n",
        "'Consumer Staples' : 4,\t\n",
        "'Consumer Discretionary' : 3,\n",
        "'Industrials' : 2,\n",
        "'Materials' : 1,\n",
        "'Energy' : 0,\n",
        " }\n",
        "\n",
        "se=[]\n",
        "for i in check:\n",
        "  se.append(dic[i])\n",
        "\n",
        "sect=pd.Series(se, index=df_n['Symbol'])\n",
        "#ticker=['EQT', 'IRM', 'ANTM', 'EW', 'HPE', 'AIZ', 'VRSN', 'AXP', 'LUV', 'JNPR', 'EXPD', 'INFO', 'NWL', 'VRTX', 'MHK', 'AVY', 'HBI', 'GT', 'FMC', 'M', 'GILD', 'XRX', 'UAL', 'FOX', 'PCG', 'TROW', 'UHS', 'INTC', 'INCY', 'KR', 'OKE', 'LH', 'MU', 'CVS', 'LEG', 'PPL', 'ADS', 'BA', 'KSS', 'LOW', 'NFLX', 'EA', 'UDR', 'FB', 'BLL',  'CTSH', 'ED', 'ADP', 'ALB', 'PRGO', 'NI', 'FLIR', 'TXT', 'SCG', 'PXD', 'BLK', 'WAT', 'PBCT', 'BIIB', 'IPG', 'DOV', 'HRB', 'REGN', 'EFX', 'ADSK', 'NLSN', 'APD', 'LYB', 'MCHP', 'MDLZ', 'AMGN', 'CMI', 'AAL', 'QCOM', 'ZTS', 'APH', 'URI', 'GPN', 'PH', 'PGR', 'PX', 'HAL', 'NTAP', 'NRG', 'F', 'PNR', 'WEC', 'SNA', 'MAS', 'GOOGL', 'TAP', 'IP', 'DUK', 'CINF', 'HD', 'LNC', 'PFG', 'CTAS', 'NEM', 'BSX', 'AEE', 'SIG', 'EXR', 'CCL', 'WBA', 'XLNX', 'SWK', 'FRT', 'SPGI', 'MS', 'MPC', 'EL', 'NVDA', 'APA', 'AJG', 'EXC', 'GRMN', 'UPS', 'GPC', 'PDCO', 'TEL', 'NKE', 'SYMC', 'ALGN', 'HCP', 'SYY', 'BWA', 'SBAC', 'AOS', 'ULTA', 'KORS', 'DLR', 'QRVO', 'DXC', 'AYI', 'IR', 'CI', 'SLB', 'NTRS', 'FLS', 'L', 'MET', 'IVZ', 'GS', 'RJF', 'CMA', 'MO', 'LLL', 'DRI', 'DLTR', 'WMB', 'FBHS', 'GM', 'PFE', 'WRK', 'GGP', 'LMT', 'BBT', 'DVN', 'PG', 'SBUX', 'TDG', 'WHR', 'MGM', 'ETR', 'IFF', 'WYN', 'CPB', 'FL', 'ANSS', 'VZ', 'FAST', 'TGT', 'CL', 'BEN', 'HSIC', 'EQIX', 'OXY', 'MCD', 'ROP', 'BAX', 'ABBV', 'EQR', 'VRSK', 'LEN', 'CCI', 'XYL', 'FFIV', 'ETN', 'FIS', 'KMB', 'INTU', 'KIM', 'LUK', 'PLD', 'CTL', 'ABT', 'CMG', 'TXN', 'FE', 'ICE', 'NEE', 'DRE', 'MAT', 'VLO', 'FCX', 'PAYX', 'CSX', 'DISCK', 'TIF', 'CAG', 'JPM', 'MSFT', 'K', 'WLTW', 'PYPL', 'IDXX', 'EXPE', 'JNJ', 'MCO', 'PEP', 'HSY', 'AMZN', 'JCI', 'AET', 'TRIP', 'CRM', 'FLR', 'MSI', 'VAR', 'TMO', 'ADI', 'AZO', 'CME', 'ADM', 'SWKS', 'JBHT', 'DHI', 'SCHW', 'GLW', 'CSCO', 'WU', 'MRO', 'VIAB', 'ALK', 'ETFC', 'GWW', 'TRV', 'SNI', 'STI', 'VTR', 'FTI', 'CLX', 'AAP', 'DHR', 'NUE', 'PSX', 'XOM', 'DE', 'VNO', 'AON', 'BK', 'CXO', 'XRAY', 'ADBE', 'DISCA', 'MDT', 'ORLY', 'CNC', 'CHTR', 'AKAM', 'ZION', 'CB', 'CF', 'MA', 'CHRW', 'DFS', 'HES', 'NDAQ', 'KMI', 'CFG', 'HON', 'HCA', 'FITB', 'MAR', 'AEP', 'KLAC', 'NOV', 'TSN', 'DGX', 'PPG', 'XEC', 'LRCX', 'PM', 'XEL', 'REG', 'CA', 'BAC', 'ANDV', 'EOG', 'PSA', 'CMS', 'RTN', 'MTB', 'CBOE', 'AMP', 'AFL', 'BCR', 'CBG', 'FOXA', 'PNC', 'APC', 'PCAR', 'NSC', 'CAT', 'CBS', 'PKG', 'ITW', 'BBY', 'COP', 'HOLX', 'RHI', 'RRC', 'BMY', 'HAS', 'LNT', 'KEY', 'ARNC', 'MOS', 'JEC', 'WM', 'RF', 'ISRG', 'MRK', 'KO', 'A', 'SRE', 'EIX', 'UTX', 'PEG', 'RCL', 'ZBH', 'ARE', 'NWS', 'SNPS', 'PWR', 'GIS', 'RL', 'UNM', 'ALLE', 'AGN', 'MAA', 'COG', 'SYK', 'C', 'HLT', 'DAL', 'JWN', 'ORCL', 'WDC', 'ROK', 'KSU', 'ALXN', 'SHW', 'RE', 'HOG', 'SRCL', 'WY', 'TSCO', 'AMT', 'TSS', 'NOC', 'GOOG', 'LKQ', 'SJM', 'DIS', 'PHM', 'AIV', 'HRL', 'NAVI', 'SEE', 'DPS', 'MMC', 'NBL', 'MYL', 'VMC', 'WFC', 'FDX', 'CHD', 'PRU', 'HST', 'ABC', 'KMX', 'PVH', 'UNH', 'CNP', 'RHT', 'RSG', 'SLG', 'DVA', 'GE', 'HPQ', 'WYNN', 'OMC', 'EMR', 'PNW', 'HCN', 'SO', 'AWK', 'O', 'EBAY', 'COTY', 'AMG', 'LLY', 'AES', 'DISH', 'STT', 'USB', 'AIG', 'HBAN', 'ALL', 'ATVI', 'TJX', 'KHC', 'AMD', 'FISV', 'NFX', 'UA', 'YUM', 'MKC', 'ES', 'COF', 'AVGO', 'STX', 'D', 'TMK', 'LB', 'GD', 'DTE', 'SYF', 'BDX', 'COO', 'UAA', 'HIG', 'CELG', 'XL', 'HUM', 'MNST', 'T', 'HRS', 'BXP', 'WMT', 'CAH', 'LVLT', 'MAC', 'NWSA', 'CERN', 'MON', 'AME', 'EMN', 'RMD', 'HP', 'MTD', 'UNP', 'MLM', 'CTXS', 'EVHC', 'ILMN', 'VFC', 'ECL', 'STZ', 'MCK', 'IT', 'IBM', 'V', 'ACN', 'SPLS', 'DG', 'FTV', 'PKI', 'GPS', 'CHK', 'SPG', 'CMCSA', 'ROST', 'AAPL', 'CVX']\n",
        "not_found=['AET', 'AGN', 'AMG', 'ARNC', 'AYI', 'CBS', 'CHK', 'EQT', 'FL', 'FLR', 'GT', 'HP', 'JEC', 'M', 'MAC', 'MAT', 'MON', 'NAVI', 'PCG', 'PDCO', 'RRC', 'RTN', 'SCG', 'SIG', 'SRCL', 'STI', 'TRIP', 'UTX', 'XEC']\n",
        "print()\n",
        "sector=[]\n",
        "cnt=0\n",
        "not_found=[]\n",
        "for i in u_ticker:\n",
        "\n",
        "  try:\n",
        "    sector.append(sect[i])\n",
        "  except KeyError:\n",
        "    cnt+=1\n",
        "    if(i=='AET'):\n",
        "      sector.append(dic['Industrials'])\n",
        "    elif(i=='AGN'):\n",
        "      sector.append(dic['Health Care'])\n",
        "    elif(i=='AMG'):\n",
        "      sector.append(dic['Financials'])\n",
        "    else:\n",
        "      sector.append(np.random.randint(0,10))\n",
        "print(cnt)\n",
        "print(not_found)\n",
        "sector=np.array(sector)\n"
      ],
      "execution_count": null,
      "outputs": [
        {
          "output_type": "stream",
          "text": [
            "{'Industrials': 'XYL', 'Health Care': 'ZTS', 'Information Technology': 'ZBRA', 'Communication Services': 'DIS', 'Consumer Discretionary': 'YUM', 'Utilities': 'XEL', 'Financials': 'ZION', 'Materials': 'WRK', 'Real Estate': 'WY', 'Consumer Staples': 'WBA', 'Energy': 'WMB'}\n",
            "\n",
            "21\n",
            "[]\n"
          ],
          "name": "stdout"
        }
      ]
    },
    {
      "cell_type": "code",
      "metadata": {
        "id": "HXGgnDQZ87WL",
        "colab_type": "code",
        "colab": {}
      },
      "source": [
        "from zipline.pipeline.classifiers import Classifier\n",
        "from zipline.utils.numpy_utils import int64_dtype\n",
        "class Sector(Classifier):\n",
        "    dtype = int64_dtype\n",
        "    window_length = 0\n",
        "    inputs = ()\n",
        "    missing_value = -1\n",
        "    \n",
        "    def __init__(self):\n",
        "        self.data = sector\n",
        "    def _compute(self, arrays, dates, assets, mask):\n",
        "        \n",
        "        \n",
        "        return np.where(\n",
        "            mask,\n",
        "            self.data[assets],\n",
        "            self.missing_value,\n",
        "        )"
      ],
      "execution_count": null,
      "outputs": []
    },
    {
      "cell_type": "code",
      "metadata": {
        "id": "tTtO1_lF9E5X",
        "colab_type": "code",
        "colab": {}
      },
      "source": [
        "sectors=Sector()"
      ],
      "execution_count": null,
      "outputs": []
    },
    {
      "cell_type": "code",
      "metadata": {
        "id": "_thVvYkBSzZm",
        "colab_type": "code",
        "colab": {
          "base_uri": "https://localhost:8080/",
          "height": 52
        },
        "outputId": "ee753ab2-4a46-4e2a-8042-3345b9214a36"
      },
      "source": [
        "print(f\"set of unique categories: {set(sectors.data)}\")\n",
        "print(len(sectors.data))"
      ],
      "execution_count": null,
      "outputs": [
        {
          "output_type": "stream",
          "text": [
            "set of unique categories: {0, 1, 2, 3, 4, 5, 6, 7, 8, 9, 10}\n",
            "449\n"
          ],
          "name": "stdout"
        }
      ]
    },
    {
      "cell_type": "code",
      "metadata": {
        "id": "8ZF_71-IijRn",
        "colab_type": "code",
        "colab": {}
      },
      "source": [
        "from zipline.pipeline.factors import Returns\n",
        "def momentum_by_1yr(window_length,universe,sectors):\n",
        "  return (Returns(window_length=window_length,mask=universe).demean(groupby=sectors)).rank().zscore()\n",
        "\n"
      ],
      "execution_count": null,
      "outputs": []
    },
    {
      "cell_type": "code",
      "metadata": {
        "id": "uyEmn78JEkkL",
        "colab_type": "code",
        "colab": {}
      },
      "source": [
        "def mean_reversion_5day_sector_neutral(window_length,universe,sectors):\n",
        "  factor= -(Returns(window_length=window_length,mask=universe).demean(groupby=sectors).rank().zscore())\n",
        "  return factor\n",
        "factor_start_date=universe_end_date-pd.DateOffset(years=2)\n",
        "\n",
        "\n"
      ],
      "execution_count": null,
      "outputs": []
    },
    {
      "cell_type": "code",
      "metadata": {
        "id": "Y_qL6SS9IGaK",
        "colab_type": "code",
        "colab": {}
      },
      "source": [
        "from zipline.pipeline.factors import SimpleMovingAverage\n",
        "def mean_reversion_5day_sector_neutral_smooth(window_length,universe,sectors):\n",
        "  factor= mean_reversion_5day_sector_neutral(window_length,universe,sectors)\n",
        "  factor_smooth=SimpleMovingAverage(inputs=[factor],window_length=window_length).rank().zscore()\n",
        "  return factor_smooth\n",
        "\n",
        "\n",
        "\n"
      ],
      "execution_count": null,
      "outputs": []
    },
    {
      "cell_type": "code",
      "metadata": {
        "id": "sF1GtnJrTLsy",
        "colab_type": "code",
        "colab": {}
      },
      "source": [
        ""
      ],
      "execution_count": null,
      "outputs": []
    },
    {
      "cell_type": "code",
      "metadata": {
        "id": "t9mIqlgiHI88",
        "colab_type": "code",
        "colab": {}
      },
      "source": [
        "class closetoopen(Returns):\n",
        "  inputs=[USEquityPricing.open,USEquityPricing.close]\n",
        "  \n",
        "  def compute(self,today,assets,out,open,close):\n",
        "    out[:]=(open[-1]-close[0])/close[0]\n",
        "class TrailingReturns(Returns):\n",
        "  def compute(self,today,assets,out,price):\n",
        "    out[:]=np.nansum(price,axis=0)\n",
        "def overnight_sentiment(cto_window_length,trailing_window_length,universe,sectors):\n",
        "  cto_out=closetoopen(window_length=cto_window_length,mask=universe)\n",
        "  return (TrailingReturns(window_length=trailing_window_length,inputs=[cto_out],mask=universe).demean(groupby=sectors)).rank().zscore()\n",
        "\n",
        "\n",
        "\n",
        "\n",
        "  "
      ],
      "execution_count": null,
      "outputs": []
    },
    {
      "cell_type": "code",
      "metadata": {
        "id": "BGDuYfsFQlO1",
        "colab_type": "code",
        "colab": {}
      },
      "source": [
        "def smooth_overnight_sentiment(cto_window_length,trailing_window_length,universe,sectors):\n",
        " \n",
        "  factor=overnight_sentiment(cto_window_length,trailing_window_length,universe,sectors)\n",
        "  smooth_factor=SimpleMovingAverage(inputs=[factor],window_length=5).rank().zscore()\n",
        "  return smooth_factor\n",
        "\n"
      ],
      "execution_count": null,
      "outputs": []
    },
    {
      "cell_type": "code",
      "metadata": {
        "id": "UYR29_WsUZ9B",
        "colab_type": "code",
        "colab": {}
      },
      "source": [
        ""
      ],
      "execution_count": null,
      "outputs": []
    },
    {
      "cell_type": "code",
      "metadata": {
        "id": "r7xE8bADSSJZ",
        "colab_type": "code",
        "colab": {
          "base_uri": "https://localhost:8080/",
          "height": 352
        },
        "outputId": "9f8f86c4-fae4-487b-b2ea-1ede6c77e704"
      },
      "source": [
        "p2=Pipeline(screen=universe)\n",
        "window_length=252\n",
        "p2.add(momentum_by_1yr(window_length,universe,sectors), 'Momentum_1YR_demean_by_sector')\n",
        "factor_start_date=universe_end_date-pd.DateOffset(years=2)\n",
        "cto_window_length=2\n",
        "trailing_window_length=5\n",
        "window_length=5\n",
        "\n",
        "p2.add(mean_reversion_5day_sector_neutral(window_length,universe,sectors),'MEAN_REVERSION_5DAY_SECTOR_NEUTRAL')\n",
        "p2.add(mean_reversion_5day_sector_neutral_smooth(window_length,universe,sectors),'SMOOTH_MEAN_REVERSION_5DAY_SECTOR_NEUTRAL')\n",
        "p2.add(overnight_sentiment(cto_window_length,trailing_window_length,universe,sectors),'OVERNIGHT_SENTIMENTS')\n",
        "p2.add(smooth_overnight_sentiment(cto_window_length,trailing_window_length,universe,sectors),'SMOOTH_OVERNIGHT_SENTIMENTS')\n",
        "all_factors=engine.run_pipeline(p2,factor_start_date,universe_end_date)\n"
      ],
      "execution_count": null,
      "outputs": [
        {
          "output_type": "error",
          "ename": "IndexError",
          "evalue": "ignored",
          "traceback": [
            "\u001b[0;31m---------------------------------------------------------------------------\u001b[0m",
            "\u001b[0;31mIndexError\u001b[0m                                Traceback (most recent call last)",
            "\u001b[0;32m<ipython-input-348-544c65a3d48a>\u001b[0m in \u001b[0;36m<module>\u001b[0;34m()\u001b[0m\n\u001b[1;32m     11\u001b[0m \u001b[0mp2\u001b[0m\u001b[0;34m.\u001b[0m\u001b[0madd\u001b[0m\u001b[0;34m(\u001b[0m\u001b[0movernight_sentiment\u001b[0m\u001b[0;34m(\u001b[0m\u001b[0mcto_window_length\u001b[0m\u001b[0;34m,\u001b[0m\u001b[0mtrailing_window_length\u001b[0m\u001b[0;34m,\u001b[0m\u001b[0muniverse\u001b[0m\u001b[0;34m,\u001b[0m\u001b[0msectors\u001b[0m\u001b[0;34m)\u001b[0m\u001b[0;34m,\u001b[0m\u001b[0;34m'OVERNIGHT_SENTIMENTS'\u001b[0m\u001b[0;34m)\u001b[0m\u001b[0;34m\u001b[0m\u001b[0;34m\u001b[0m\u001b[0m\n\u001b[1;32m     12\u001b[0m \u001b[0mp2\u001b[0m\u001b[0;34m.\u001b[0m\u001b[0madd\u001b[0m\u001b[0;34m(\u001b[0m\u001b[0msmooth_overnight_sentiment\u001b[0m\u001b[0;34m(\u001b[0m\u001b[0mcto_window_length\u001b[0m\u001b[0;34m,\u001b[0m\u001b[0mtrailing_window_length\u001b[0m\u001b[0;34m,\u001b[0m\u001b[0muniverse\u001b[0m\u001b[0;34m,\u001b[0m\u001b[0msectors\u001b[0m\u001b[0;34m)\u001b[0m\u001b[0;34m,\u001b[0m\u001b[0;34m'SMOOTH_OVERNIGHT_SENTIMENTS'\u001b[0m\u001b[0;34m)\u001b[0m\u001b[0;34m\u001b[0m\u001b[0;34m\u001b[0m\u001b[0m\n\u001b[0;32m---> 13\u001b[0;31m \u001b[0mall_factors\u001b[0m\u001b[0;34m=\u001b[0m\u001b[0mengine\u001b[0m\u001b[0;34m.\u001b[0m\u001b[0mrun_pipeline\u001b[0m\u001b[0;34m(\u001b[0m\u001b[0mp2\u001b[0m\u001b[0;34m,\u001b[0m\u001b[0mfactor_start_date\u001b[0m\u001b[0;34m,\u001b[0m\u001b[0muniverse_end_date\u001b[0m\u001b[0;34m)\u001b[0m\u001b[0;34m\u001b[0m\u001b[0;34m\u001b[0m\u001b[0m\n\u001b[0m",
            "\u001b[0;32m/usr/local/lib/python3.6/dist-packages/zipline/pipeline/engine.py\u001b[0m in \u001b[0;36mrun_pipeline\u001b[0;34m(self, pipeline, start_date, end_date)\u001b[0m\n\u001b[1;32m    309\u001b[0m             \u001b[0mdates\u001b[0m\u001b[0;34m,\u001b[0m\u001b[0;34m\u001b[0m\u001b[0;34m\u001b[0m\u001b[0m\n\u001b[1;32m    310\u001b[0m             \u001b[0massets\u001b[0m\u001b[0;34m,\u001b[0m\u001b[0;34m\u001b[0m\u001b[0;34m\u001b[0m\u001b[0m\n\u001b[0;32m--> 311\u001b[0;31m             \u001b[0minitial_workspace\u001b[0m\u001b[0;34m,\u001b[0m\u001b[0;34m\u001b[0m\u001b[0;34m\u001b[0m\u001b[0m\n\u001b[0m\u001b[1;32m    312\u001b[0m         )\n\u001b[1;32m    313\u001b[0m \u001b[0;34m\u001b[0m\u001b[0m\n",
            "\u001b[0;32m/usr/local/lib/python3.6/dist-packages/zipline/pipeline/engine.py\u001b[0m in \u001b[0;36mcompute_chunk\u001b[0;34m(self, graph, dates, assets, initial_workspace)\u001b[0m\n\u001b[1;32m    535\u001b[0m                     \u001b[0mmask_dates\u001b[0m\u001b[0;34m,\u001b[0m\u001b[0;34m\u001b[0m\u001b[0;34m\u001b[0m\u001b[0m\n\u001b[1;32m    536\u001b[0m                     \u001b[0massets\u001b[0m\u001b[0;34m,\u001b[0m\u001b[0;34m\u001b[0m\u001b[0;34m\u001b[0m\u001b[0m\n\u001b[0;32m--> 537\u001b[0;31m                     \u001b[0mmask\u001b[0m\u001b[0;34m,\u001b[0m\u001b[0;34m\u001b[0m\u001b[0;34m\u001b[0m\u001b[0m\n\u001b[0m\u001b[1;32m    538\u001b[0m                 )\n\u001b[1;32m    539\u001b[0m                 \u001b[0;32mif\u001b[0m \u001b[0mterm\u001b[0m\u001b[0;34m.\u001b[0m\u001b[0mndim\u001b[0m \u001b[0;34m==\u001b[0m \u001b[0;36m2\u001b[0m\u001b[0;34m:\u001b[0m\u001b[0;34m\u001b[0m\u001b[0;34m\u001b[0m\u001b[0m\n",
            "\u001b[0;32m<ipython-input-340-79aeda534574>\u001b[0m in \u001b[0;36m_compute\u001b[0;34m(self, arrays, dates, assets, mask)\u001b[0m\n\u001b[1;32m     14\u001b[0m         return np.where(\n\u001b[1;32m     15\u001b[0m             \u001b[0mmask\u001b[0m\u001b[0;34m,\u001b[0m\u001b[0;34m\u001b[0m\u001b[0;34m\u001b[0m\u001b[0m\n\u001b[0;32m---> 16\u001b[0;31m             \u001b[0mself\u001b[0m\u001b[0;34m.\u001b[0m\u001b[0mdata\u001b[0m\u001b[0;34m[\u001b[0m\u001b[0massets\u001b[0m\u001b[0;34m]\u001b[0m\u001b[0;34m,\u001b[0m\u001b[0;34m\u001b[0m\u001b[0;34m\u001b[0m\u001b[0m\n\u001b[0m\u001b[1;32m     17\u001b[0m             \u001b[0mself\u001b[0m\u001b[0;34m.\u001b[0m\u001b[0mmissing_value\u001b[0m\u001b[0;34m,\u001b[0m\u001b[0;34m\u001b[0m\u001b[0;34m\u001b[0m\u001b[0m\n\u001b[1;32m     18\u001b[0m         )\n",
            "\u001b[0;31mIndexError\u001b[0m: index 449 is out of bounds for axis 0 with size 449"
          ]
        }
      ]
    },
    {
      "cell_type": "code",
      "metadata": {
        "id": "TSlnYhwfoAzq",
        "colab_type": "code",
        "colab": {}
      },
      "source": [
        "print(all_factors.head())"
      ],
      "execution_count": null,
      "outputs": []
    },
    {
      "cell_type": "code",
      "metadata": {
        "id": "yDfa1UY8VMfE",
        "colab_type": "code",
        "colab": {}
      },
      "source": [
        "assets=all_factors.index.levels[1].values.tolist()\n",
        "pricing=get_pricing(data_portal,assets,trading_calendar,factor_start_date,universe_end_date)\n"
      ],
      "execution_count": null,
      "outputs": []
    },
    {
      "cell_type": "code",
      "metadata": {
        "id": "3Ue0iPqDWRXB",
        "colab_type": "code",
        "colab": {}
      },
      "source": [
        "import alphalens as al"
      ],
      "execution_count": null,
      "outputs": []
    },
    {
      "cell_type": "code",
      "metadata": {
        "id": "cQQ7G0D83QF7",
        "colab_type": "code",
        "colab": {}
      },
      "source": [
        "clean_factor_data = {\n",
        "    factor: al.utils.get_clean_factor_and_forward_returns(factor=factor_data, prices=pricing, periods=[1])\n",
        "    for factor, factor_data in all_factors.iteritems()}\n",
        "\n",
        "unixt_factor_data = {\n",
        "    factor: factor_data.set_index(pd.MultiIndex.from_tuples(\n",
        "        [(x.timestamp(), y) for x, y in factor_data.index.values],\n",
        "        names=['date', 'asset']))\n",
        "    for factor, factor_data in clean_factor_data.items()}\n",
        "ls_factor_returns = pd.DataFrame()\n",
        "\n",
        "for factor, factor_data in clean_factor_data.items():\n",
        "    ls_factor_returns[factor] = al.performance.factor_returns(factor_data).iloc[:, 0]\n",
        "\n",
        "(1+ls_factor_returns).cumprod().plot()\n",
        "qr_factor_returns = pd.DataFrame()\n",
        "\n",
        "for factor, factor_data in unixt_factor_data.items():\n",
        "    qr_factor_returns[factor] = al.performance.mean_return_by_quantile(factor_data)[0].iloc[:, 0]\n",
        "\n",
        "(10000*qr_factor_returns).plot.bar(\n",
        "    subplots=True,\n",
        "    sharey=True,\n",
        "    layout=(4,2),\n",
        "    figsize=(14, 14),\n",
        "    legend=False)\n",
        "def sharpe_ratio(factor_returns, annualization_factor):\n",
        "  \n",
        "    sharpe_ratio = annualization_factor * factor_returns.mean() / factor_returns.std()\n",
        "    \n",
        "    return sharpe_ratio\n",
        "daily_annualization_factor = np.sqrt(252)\n",
        "sharpe_ratio(ls_factor_returns, daily_annualization_factor).round(2)\n"
      ],
      "execution_count": null,
      "outputs": []
    },
    {
      "cell_type": "code",
      "metadata": {
        "id": "TCPXgk-N5-Nz",
        "colab_type": "code",
        "colab": {}
      },
      "source": [
        "selected_factors = all_factors.columns[[1,4,3]]\n",
        "print('Selected Factors: {}'.format(', '.join(selected_factors)))\n",
        "\n",
        "all_factors['alpha_vector'] = all_factors[selected_factors].mean(axis=1)\n",
        "\n",
        "all_factors['alpha_vector'] = all_factors['alpha_vector'].replace(np.nan, np.mean(all_factors['alpha_vector'].values))\n",
        "all_factors=all_factors.apply(lambda x: x.fillna(x.mean()),axis=0)\n",
        "alphas = all_factors[['alpha_vector']]\n",
        "alpha_vector = alphas.loc[all_factors.index.get_level_values(0)[-1]]\n"
      ],
      "execution_count": null,
      "outputs": []
    },
    {
      "cell_type": "code",
      "metadata": {
        "id": "sr8JYDXFu4F8",
        "colab_type": "code",
        "colab": {}
      },
      "source": [
        "print((risk_model['factor_betas']).shape, (risk_model['factor_cov_matrix']).shape, (risk_model['idiosyncratic_var_vector']).shape)\n",
        "print(alpha_vector.shape)"
      ],
      "execution_count": null,
      "outputs": []
    },
    {
      "cell_type": "code",
      "metadata": {
        "id": "BuZ2SOeXvsj9",
        "colab_type": "code",
        "colab": {}
      },
      "source": [
        "alpha_vector_index=alpha_vector.index\n",
        "factor_betas=risk_model['factor_betas']\n",
        "factor_cov_matrix=risk_model['factor_cov_matrix']\n",
        "idiosyncratic_var_vector=risk_model['idiosyncratic_var_vector']\n",
        "print((factor_betas.loc[alpha_vector_index].values.T).shape)\n",
        "print(factor_cov_matrix.shape)\n",
        "print((np.diag(idiosyncratic_var_vector.loc[alpha_vector_index].values.flatten())).shape)\n",
        "print(len(alpha_vector))\n",
        "        "
      ],
      "execution_count": null,
      "outputs": []
    },
    {
      "cell_type": "code",
      "metadata": {
        "id": "6AEQNc9F6NkM",
        "colab_type": "code",
        "colab": {}
      },
      "source": [
        "from abc import ABC, abstractmethod\n",
        "\n",
        "\n",
        "class AbstractOptimalHoldings(ABC):    \n",
        "    @abstractmethod\n",
        "    def _get_obj(self, weights, alpha_vector):\n",
        "      \n",
        "        raise NotImplementedError()\n",
        "    \n",
        "    @abstractmethod\n",
        "    def _get_constraints(self, weights, factor_betas, risk):\n",
        "       \n",
        "        raise NotImplementedError()\n",
        "        \n",
        "    def _get_risk(self, weights, factor_betas, alpha_vector_index, factor_cov_matrix, idiosyncratic_var_vector):\n",
        "        f = factor_betas.loc[alpha_vector_index].values.T * weights\n",
        "        X = factor_cov_matrix\n",
        "        S = np.diag(idiosyncratic_var_vector.loc[alpha_vector_index].values.flatten())\n",
        "        \n",
        "        return cvx.quad_form(f, X) + cvx.quad_form(weights, S)\n",
        "    \n",
        "    def find(self, alpha_vector, factor_betas, factor_cov_matrix, idiosyncratic_var_vector):\n",
        "        weights = cvx.Variable(len(alpha_vector))\n",
        "        risk = self._get_risk(weights, factor_betas, alpha_vector.index, factor_cov_matrix, idiosyncratic_var_vector)\n",
        "        \n",
        "        obj = self._get_obj(weights, alpha_vector)\n",
        "        constraints = self._get_constraints(weights, factor_betas.loc[alpha_vector.index].values, risk)\n",
        "        \n",
        "        prob = cvx.Problem(obj, constraints)\n",
        "      \n",
        "        prob.solve(max_iters=500,verbose=True)\n",
        "   \n",
        "\n",
        "        optimal_weights = np.asarray(weights.value).flatten()\n",
        "        \n",
        "        return pd.DataFrame(data=optimal_weights, index=alpha_vector.index)"
      ],
      "execution_count": null,
      "outputs": []
    },
    {
      "cell_type": "code",
      "metadata": {
        "id": "PfsMr7xD6Oxc",
        "colab_type": "code",
        "colab": {}
      },
      "source": [
        "\n",
        "from cvxpy.reductions.solvers.solver import Solver\n",
        "\n",
        "class OptimalHoldings(AbstractOptimalHoldings):\n",
        "    def _get_obj(self, weights, alpha_vector):\n",
        "      \n",
        "        \n",
        "        assert(len(alpha_vector.columns) == 1)\n",
        "        \n",
        "        objective = cvx.Maximize(alpha_vector.T.values * weights)\n",
        "        \n",
        "        return objective\n",
        "    \n",
        "    def _get_constraints(self, weights, factor_betas, risk):\n",
        "       \n",
        "        assert(len(factor_betas.shape) == 2)\n",
        "        \n",
        "        \n",
        "        constraints = [risk <= self.risk_cap**2,\n",
        "                        factor_betas.T * weights <= self.factor_max,\n",
        "                        factor_betas.T * weights >= self.factor_min,\n",
        "                        sum(weights) == 0.0,\n",
        "                        sum(cvx.abs(weights)) <= 1.0,\n",
        "                        weights >= self.weights_min,\n",
        "                        weights <= self.weights_max]\n",
        "        return constraints\n",
        "\n",
        "    def __init__(self, risk_cap=0.05, factor_max=10.0, factor_min=-10.0, weights_max=0.55, weights_min=-0.55):\n",
        "        self.risk_cap=risk_cap\n",
        "        self.factor_max=factor_max\n",
        "        self.factor_min=factor_min\n",
        "        self.weights_max=weights_max\n",
        "        self.weights_min=weights_min"
      ],
      "execution_count": null,
      "outputs": []
    },
    {
      "cell_type": "code",
      "metadata": {
        "id": "9Mf_tJK06S8_",
        "colab_type": "code",
        "colab": {}
      },
      "source": [
        "optimal_weights = OptimalHoldings().find(alpha_vector, risk_model['factor_betas'], risk_model['factor_cov_matrix'], risk_model['idiosyncratic_var_vector'])\n",
        "print(optimal_weights)\n",
        "optimal_weights.plot.bar(legend=None, title='Portfolio % Holdings by Stock')\n",
        "x_axis = plt.axes().get_xaxis()\n",
        "x_axis.set_visible(False)\n",
        "factor_betas.loc[optimal_weights.index].T.dot(optimal_weights).plot.bar(\n",
        "    title='Portfolio Net Factor Exposures',\n",
        "    legend=False)"
      ],
      "execution_count": null,
      "outputs": []
    },
    {
      "cell_type": "code",
      "metadata": {
        "id": "x4HoqkxG7kKy",
        "colab_type": "code",
        "colab": {}
      },
      "source": [
        "class OptimalHoldingsRegualization(OptimalHoldings):\n",
        "    def _get_obj(self, weights, alpha_vector):\n",
        "       \n",
        "        assert(len(alpha_vector.columns) == 1)\n",
        "        \n",
        "        \n",
        "        return cvx.Maximize((alpha_vector.T.values*weights) - (self.lambda_reg * cvx.norm(weights,2)))\n",
        "\n",
        "    def __init__(self, lambda_reg=0.5, risk_cap=0.05, factor_max=10.0, factor_min=-10.0, weights_max=0.55, weights_min=-0.55):\n",
        "        self.lambda_reg = lambda_reg\n",
        "        self.risk_cap=risk_cap\n",
        "        self.factor_max=factor_max\n",
        "        self.factor_min=factor_min\n",
        "        self.weights_max=weights_max\n",
        "        self.weights_min=weights_min"
      ],
      "execution_count": null,
      "outputs": []
    },
    {
      "cell_type": "code",
      "metadata": {
        "id": "YtoipcT_7onR",
        "colab_type": "code",
        "colab": {
          "base_uri": "https://localhost:8080/",
          "height": 1000
        },
        "outputId": "4f1a0d48-b787-439b-dd86-1c36452b8262"
      },
      "source": [
        "optimal_weights_1 = OptimalHoldingsRegualization(lambda_reg=5.0).find(alpha_vector, risk_model['factor_betas'], risk_model['factor_cov_matrix'], risk_model['idiosyncratic_var_vector'])\n",
        "print(optimal_weights)\n",
        "optimal_weights_1.plot.bar(legend=None, title='Portfolio % Holdings by Stock')\n",
        "x_axis = plt.axes().get_xaxis()\n",
        "x_axis.set_visible(False)\n",
        "factor_betas.loc[optimal_weights_1.index].T.dot(optimal_weights_1).plot.bar(\n",
        "    title='Portfolio Net Factor Exposures',\n",
        "    legend=False)"
      ],
      "execution_count": null,
      "outputs": [
        {
          "output_type": "stream",
          "text": [
            "\n",
            "ECOS 2.0.7 - (C) embotech GmbH, Zurich Switzerland, 2012-15. Web: www.embotech.com/ECOS\n",
            "\n",
            "It     pcost       dcost      gap   pres   dres    k/t    mu     step   sigma     IR    |   BT\n",
            " 0  +1.529e-15  -1.121e+04  +4e+05  4e-01  7e-01  1e+00  1e+00    ---    ---    1  1  - |  -  - \n",
            " 1  -9.489e+00  -1.591e+03  +6e+04  5e-02  1e-01  3e-01  1e-01  0.9890  1e-01   2  2  2 |  0  0\n",
            " 2  -5.322e+00  -5.484e+02  +2e+04  2e-02  5e-02  1e-01  4e-02  0.8354  2e-01   3  2  2 |  0  0\n",
            " 3  -9.674e-01  -2.311e+01  +7e+02  6e-04  2e-03  5e-03  2e-03  0.9681  1e-02   3  2  2 |  0  0\n",
            " 4  -4.911e-01  -4.815e+00  +1e+02  1e-04  4e-04  9e-04  4e-04  0.8002  4e-03   6  5  5 |  0  0\n",
            " 5  -2.798e-01  -7.681e-01  +2e+01  1e-05  3e-05  1e-04  4e-05  0.9159  3e-02   4  7  7 |  0  0\n",
            " 6  -2.691e-01  -3.036e-01  +1e+00  1e-06  2e-06  8e-06  3e-06  0.9577  3e-02   3  3  2 |  0  0\n",
            " 7  -2.683e-01  -2.734e-01  +2e-01  1e-07  3e-07  1e-06  4e-07  0.8742  2e-02   2  2  2 |  0  0\n",
            " 8  -2.685e-01  -2.699e-01  +4e-02  4e-08  9e-08  3e-07  1e-07  0.8215  1e-01   4  3  3 |  0  0\n",
            " 9  -2.688e-01  -2.691e-01  +9e-03  8e-09  2e-08  4e-08  2e-08  0.9110  1e-01   2  2  2 |  0  0\n",
            "10  -2.689e-01  -2.690e-01  +5e-04  5e-10  1e-09  2e-09  1e-09  0.9748  4e-02   3  3  3 |  0  0\n",
            "11  -2.689e-01  -2.689e-01  +2e-05  2e-11  3e-11  6e-11  4e-11  0.9735  3e-03   2  2  2 |  0  0\n",
            "12  -2.689e-01  -2.689e-01  +2e-06  6e-12  4e-12  7e-12  5e-12  0.9201  4e-02   2  2  2 |  0  0\n",
            "13  -2.689e-01  -2.689e-01  +3e-07  2e-12  6e-13  1e-12  7e-13  0.9528  1e-01   1  2  2 |  0  0\n",
            "14  -2.689e-01  -2.689e-01  +1e-07  1e-12  3e-13  5e-13  3e-13  0.9702  5e-01   1  1  1 |  0  0\n",
            "15  -2.689e-01  -2.689e-01  +5e-08  2e-13  1e-13  2e-13  1e-13  0.9890  4e-01   1  1  2 |  0  0\n",
            "16  -2.689e-01  -2.689e-01  +5e-08  2e-13  9e-14  1e-13  1e-13  0.9890  8e-01   1  1  1 |  0  0\n",
            "17  -2.689e-01  -2.689e-01  +5e-09  7e-14  1e-14  2e-14  1e-14  0.9569  6e-02   2  1  1 |  0  0\n",
            "\n",
            "OPTIMAL (within feastol=7.2e-14, reltol=2.0e-08, abstol=5.3e-09).\n",
            "Runtime: 8.610177 seconds.\n",
            "\n",
            "                               0\n",
            "asset                           \n",
            "Equity(0 [A])       6.430930e-13\n",
            "Equity(1 [AAL])    -2.361641e-14\n",
            "Equity(2 [AAP])    -1.434414e-13\n",
            "Equity(3 [AAPL])    1.669058e-12\n",
            "Equity(4 [ABBV])    9.359558e-13\n",
            "Equity(5 [ABC])    -1.203906e-13\n",
            "Equity(6 [ABT])    -5.953791e-14\n",
            "Equity(7 [ACN])    -3.998221e-14\n",
            "Equity(8 [ADBE])    1.619855e-13\n",
            "Equity(9 [ADI])     2.908180e-14\n",
            "Equity(10 [ADM])   -1.346447e-13\n",
            "Equity(11 [ADP])   -8.306427e-13\n",
            "Equity(12 [ADS])   -2.303107e-13\n",
            "Equity(13 [ADSK])  -3.483038e-13\n",
            "Equity(14 [AEE])   -2.164386e-14\n",
            "Equity(15 [AEP])   -1.852446e-13\n",
            "Equity(16 [AES])    3.762227e-13\n",
            "Equity(18 [AFL])   -2.323584e-13\n",
            "Equity(20 [AIG])   -1.728737e-13\n",
            "Equity(21 [AIV])    7.158702e-14\n",
            "Equity(22 [AIZ])    5.156586e-12\n",
            "Equity(23 [AJG])    5.989271e-14\n",
            "Equity(24 [AKAM])   2.659276e-14\n",
            "Equity(25 [ALB])    1.305582e-13\n",
            "Equity(26 [ALGN])  -3.476597e-13\n",
            "Equity(27 [ALK])   -4.720948e-13\n",
            "Equity(28 [ALL])    9.174200e-14\n",
            "Equity(29 [ALLE])  -9.052142e-14\n",
            "Equity(30 [ALXN])  -5.386509e-14\n",
            "Equity(31 [AMD])    7.266482e-12\n",
            "...                          ...\n",
            "Equity(427 [VRSK]) -1.704120e-13\n",
            "Equity(428 [VRSN]) -5.814378e-14\n",
            "Equity(429 [VRTX])  8.534518e-14\n",
            "Equity(430 [VTR])  -6.513454e-14\n",
            "Equity(431 [VZ])   -4.187599e-13\n",
            "Equity(432 [WAT])  -1.450668e-13\n",
            "Equity(433 [WBA])  -4.534853e-13\n",
            "Equity(434 [WDC])   1.266067e-13\n",
            "Equity(435 [WEC])  -3.210474e-13\n",
            "Equity(436 [WFC])  -2.534753e-13\n",
            "Equity(437 [WHR])  -3.289929e-14\n",
            "Equity(438 [WLTW])  2.731738e-13\n",
            "Equity(439 [WM])   -2.324046e-13\n",
            "Equity(440 [WMB])   7.517037e-14\n",
            "Equity(441 [WMT])   5.838515e-13\n",
            "Equity(442 [WRK])  -3.701209e-13\n",
            "Equity(443 [WU])    5.256615e-14\n",
            "Equity(444 [WY])    4.501143e-02\n",
            "Equity(445 [WYNN]) -2.419906e-03\n",
            "Equity(446 [XEC])  -8.069983e-14\n",
            "Equity(447 [XEL])  -1.120255e-13\n",
            "Equity(448 [XLNX]) -6.798851e-02\n",
            "Equity(449 [XOM])  -4.599651e-13\n",
            "Equity(450 [XRAY]) -1.444858e-13\n",
            "Equity(451 [XRX])   2.327018e-13\n",
            "Equity(452 [XYL])  -9.671614e-14\n",
            "Equity(453 [YUM])  -5.770285e-13\n",
            "Equity(454 [ZBH])   7.369062e-13\n",
            "Equity(455 [ZION])  1.016099e-13\n",
            "Equity(456 [ZTS])   7.367825e-15\n",
            "\n",
            "[446 rows x 1 columns]\n"
          ],
          "name": "stdout"
        },
        {
          "output_type": "stream",
          "text": [
            "/usr/local/lib/python3.6/dist-packages/ipykernel_launcher.py:4: MatplotlibDeprecationWarning: Adding an axes using the same arguments as a previous axes currently reuses the earlier instance.  In a future version, a new instance will always be created and returned.  Meanwhile, this warning can be suppressed, and the future behavior ensured, by passing a unique label to each axes instance.\n",
            "  after removing the cwd from sys.path.\n"
          ],
          "name": "stderr"
        },
        {
          "output_type": "execute_result",
          "data": {
            "text/plain": [
              "<matplotlib.axes._subplots.AxesSubplot at 0x7fbbac7b55c0>"
            ]
          },
          "metadata": {
            "tags": []
          },
          "execution_count": 330
        },
        {
          "output_type": "display_data",
          "data": {
            "image/png": "[encoded data removed]",
            "text/plain": [
              "<Figure size 432x288 with 1 Axes>"
            ]
          },
          "metadata": {
            "tags": [],
            "needs_background": "light"
          }
        },
        {
          "output_type": "display_data",
          "data": {
            "image/png": "[encoded data removed]",
            "text/plain": [
              "<Figure size 432x288 with 1 Axes>"
            ]
          },
          "metadata": {
            "tags": [],
            "needs_background": "light"
          }
        }
      ]
    },
    {
      "cell_type": "code",
      "metadata": {
        "id": "TQm5SJm-Hdu7",
        "colab_type": "code",
        "colab": {}
      },
      "source": [
        "class OptimalHoldingsStrictFactor(OptimalHoldings):\n",
        "    def _get_obj(self, weights, alpha_vector):\n",
        "       \n",
        "        assert(len(alpha_vector.columns) == 1)\n",
        "        \n",
        "        \n",
        "        alpha_vector_norm = ((alpha_vector.values - alpha_vector.values.mean()) / np.sum(np.abs(alpha_vector.values))).flatten()\n",
        "        objective = cvx.Maximize(((alpha_vector.T.values)*weights)-(cvx.norm(weights - alpha_vector_norm))-(self.lambda_reg*cvx.norm(weights,2)))\n",
        "        \n",
        "        return objective\n",
        "    def __init__(self, lambda_reg=0.1, risk_cap=0.0015, factor_max=0.015, factor_min=-0.015, weights_max=0.02, weights_min=-0.02):\n",
        "        self.lambda_reg = lambda_reg\n",
        "        self.risk_cap=risk_cap\n",
        "        self.factor_max=factor_max\n",
        "        self.factor_min=factor_min\n",
        "        self.weights_max=weights_max\n",
        "        self.weights_min=weights_min\n",
        "\n"
      ],
      "execution_count": null,
      "outputs": []
    },
    {
      "cell_type": "code",
      "metadata": {
        "id": "ecXr35KeHj_e",
        "colab_type": "code",
        "colab": {
          "base_uri": "https://localhost:8080/",
          "height": 1000
        },
        "outputId": "a6bba7ba-507c-44fa-b71c-a150a8531c7b"
      },
      "source": [
        "optimal_weights_2 = OptimalHoldingsStrictFactor(lambda_reg=0.01,\n",
        "    weights_max=0.02,\n",
        "    weights_min=-0.02,\n",
        "    risk_cap=0.0015,\n",
        "    factor_max=0.015,\n",
        "    factor_min=-0.015).find(alpha_vector, risk_model['factor_betas'], risk_model['factor_cov_matrix'], risk_model['idiosyncratic_var_vector'])\n",
        "\n",
        "optimal_weights_2.plot.bar(legend=None, title='Portfolio % Holdings by Stock')\n",
        "x_axis = plt.axes().get_xaxis()\n",
        "x_axis.set_visible(False)\n",
        "\n",
        "factor_betas.loc[optimal_weights_2.index].T.dot(optimal_weights_2).plot.bar(\n",
        "    title='Portfolio Net Factor Exposures',\n",
        "    legend=False)\n"
      ],
      "execution_count": null,
      "outputs": [
        {
          "output_type": "stream",
          "text": [
            "\n",
            "ECOS 2.0.7 - (C) embotech GmbH, Zurich Switzerland, 2012-15. Web: www.embotech.com/ECOS\n",
            "\n",
            "It     pcost       dcost      gap   pres   dres    k/t    mu     step   sigma     IR    |   BT\n",
            " 0  -1.573e-08  -3.694e+01  +4e+05  1e+00  1e+00  1e+00  1e+00    ---    ---    1  1  - |  -  - \n",
            " 1  -2.294e+01  -2.762e+01  +6e+04  8e-02  4e-01  1e-01  2e-01  0.9601  1e-01   2  2  2 |  0  0\n",
            " 2  -2.072e+00  -2.674e+00  +4e+04  1e-02  2e-02  2e-01  9e-02  0.7422  4e-01   3  3  3 |  0  0\n",
            " 3  -1.436e+00  -1.620e+00  +1e+04  4e-03  7e-03  6e-02  3e-02  0.7001  3e-02   3  3  3 |  0  0\n",
            " 4  -1.182e+00  -1.273e+00  +5e+03  2e-03  3e-03  2e-02  1e-02  0.6628  1e-01   4  4  4 |  0  0\n",
            " 5  -9.644e-01  -1.004e+00  +2e+03  7e-04  1e-03  8e-03  5e-03  0.6730  1e-01   4  4  4 |  0  0\n",
            " 6  -7.909e-01  -8.004e-01  +4e+02  2e-04  2e-04  9e-04  1e-03  0.8929  1e-01   5  5  6 |  0  0\n",
            " 7  -7.501e-01  -7.527e-01  +1e+02  4e-05  6e-05  2e-04  3e-04  0.7369  1e-02   5  5  5 |  0  0\n",
            " 8  -7.411e-01  -7.422e-01  +5e+01  2e-05  3e-05  9e-05  1e-04  0.6333  6e-02   5  5  5 |  0  0\n",
            " 9  -7.396e-01  -7.409e-01  +5e+01  2e-05  3e-05  1e-04  1e-04  0.2425  9e-01   5  5  3 |  0  0\n",
            "10  -7.346e-01  -7.354e-01  +2e+01  1e-05  2e-05  7e-05  6e-05  0.5815  1e-01   5  4  4 |  0  0\n",
            "11  -7.332e-01  -7.339e-01  +2e+01  1e-05  2e-05  7e-06  4e-05  0.9890  7e-01   5  4  5 |  0  0\n",
            "12  -7.238e-01  -7.241e-01  +4e+00  5e-06  7e-06  7e-06  1e-05  0.8039  6e-02   5  4  4 |  0  0\n",
            "13  -7.201e-01  -7.204e-01  +3e+00  5e-06  8e-06  1e-05  7e-06  0.7262  6e-01   6  6  5 |  0  0\n",
            "14  -7.195e-01  -7.198e-01  +3e+00  5e-06  7e-06  9e-06  7e-06  0.2133  7e-01   4  3  4 |  0  0\n",
            "15  -7.175e-01  -7.178e-01  +2e+00  5e-06  7e-06  1e-05  5e-06  0.5637  7e-01   2  2  2 |  0  0\n",
            "16  -7.153e-01  -7.156e-01  +2e+00  5e-06  7e-06  1e-05  5e-06  0.4454  7e-01   6  7  7 |  0  0\n",
            "17  -7.080e-01  -7.082e-01  +1e+00  4e-06  6e-06  1e-05  3e-06  0.6120  4e-01   5  4  5 |  0  0\n",
            "18  -6.954e-01  -6.956e-01  +7e-01  3e-06  5e-06  2e-05  2e-06  0.7890  4e-01   5  5  4 |  0  0\n",
            "19  -6.739e-01  -6.740e-01  +3e-01  3e-06  4e-06  2e-05  8e-07  0.6753  2e-01   5  4  4 |  0  0\n",
            "20  -6.696e-01  -6.698e-01  +3e-01  3e-06  4e-06  2e-05  7e-07  0.3350  6e-01   5  4  4 |  0  0\n",
            "21  -6.410e-01  -6.411e-01  +1e-01  2e-06  3e-06  3e-05  4e-07  0.6611  2e-01   5  4  4 |  0  0\n",
            "22  -6.222e-01  -6.223e-01  +1e-01  2e-06  3e-06  3e-05  2e-07  0.9575  7e-01   5  4  4 |  0  0\n",
            "23  -5.835e-01  -5.835e-01  +5e-02  1e-06  2e-06  3e-05  1e-07  0.6417  2e-01   5  4  4 |  0  0\n",
            "24  -5.839e-01  -5.839e-01  +5e-02  1e-06  2e-06  3e-05  1e-07  0.0897  8e-01   6  4  5 |  0  0\n",
            "25  -5.357e-01  -5.357e-01  +2e-02  9e-07  1e-06  3e-05  5e-08  0.8979  4e-01   5  4  4 |  0  0\n",
            "26  -5.291e-01  -5.291e-01  +2e-02  9e-07  1e-06  4e-05  4e-08  0.3468  6e-01   6  4  5 |  0  0\n",
            "27  -4.774e-01  -4.774e-01  +8e-03  6e-07  8e-07  4e-05  2e-08  0.6290  1e-01   6  4  4 |  0  0\n",
            "28  -4.083e-01  -4.082e-01  +3e-03  3e-07  5e-07  4e-05  7e-09  0.8929  3e-01   6  4  4 |  0  0\n",
            "29  -3.420e-01  -3.420e-01  +1e-03  2e-07  3e-07  4e-05  3e-09  0.8657  3e-01   7  4  4 |  0  0\n",
            "30  -2.887e-01  -2.887e-01  +5e-04  1e-07  2e-07  4e-05  1e-09  0.9132  4e-01   7  4  4 |  0  0\n",
            "31  -2.678e-01  -2.677e-01  +3e-04  1e-07  2e-07  5e-05  8e-10  0.6181  5e-01   8  6  5 |  0  0\n",
            "32  -1.961e-01  -1.960e-01  +1e-04  7e-08  1e-07  3e-05  3e-10  0.9890  4e-01   6  4  4 |  0  0\n",
            "33  -1.287e-01  -1.287e-01  +4e-05  5e-08  5e-08  3e-05  1e-10  0.9223  2e-01   8  5  5 |  0  0\n",
            "34  -8.821e-02  -8.820e-02  +1e-05  2e-08  2e-08  1e-05  3e-11  0.8508  2e-01   6  4  4 |  0  0\n",
            "35  -6.083e-02  -6.082e-02  +5e-06  4e-08  1e-08  1e-05  1e-11  0.9724  4e-01   9  5  6 |  0  0\n",
            "36  -4.777e-02  -4.777e-02  +2e-06  2e-08  4e-09  4e-06  5e-12  0.9890  3e-01   6  4  4 |  0  0\n",
            "37  -3.665e-02  -3.665e-02  +5e-07  2e-08  1e-09  2e-06  1e-12  0.8452  2e-01   9  5  5 |  0  0\n",
            "38  -3.223e-02  -3.223e-02  +1e-07  1e-08  4e-10  4e-07  3e-13  0.9241  2e-01   9  5  5 |  0  0\n",
            "39  -3.185e-02  -3.184e-02  +1e-07  1e-08  3e-10  4e-07  3e-13  0.5272  6e-01   8  4  4 |  0  0\n",
            "40  -3.007e-02  -3.007e-02  +9e-09  6e-09  3e-11  4e-08  2e-14  0.9890  8e-02   9  5  5 |  0  0\n",
            "\n",
            "OPTIMAL (within feastol=6.3e-09, reltol=3.0e-07, abstol=9.0e-09).\n",
            "Runtime: 28.057159 seconds.\n",
            "\n"
          ],
          "name": "stdout"
        },
        {
          "output_type": "stream",
          "text": [
            "/usr/local/lib/python3.6/dist-packages/ipykernel_launcher.py:9: MatplotlibDeprecationWarning: Adding an axes using the same arguments as a previous axes currently reuses the earlier instance.  In a future version, a new instance will always be created and returned.  Meanwhile, this warning can be suppressed, and the future behavior ensured, by passing a unique label to each axes instance.\n",
            "  if __name__ == '__main__':\n"
          ],
          "name": "stderr"
        },
        {
          "output_type": "execute_result",
          "data": {
            "text/plain": [
              "<matplotlib.axes._subplots.AxesSubplot at 0x7fbbc7d64860>"
            ]
          },
          "metadata": {
            "tags": []
          },
          "execution_count": 332
        },
        {
          "output_type": "display_data",
          "data": {
            "image/png": "[encoded data removed]",
            "text/plain": [
              "<Figure size 432x288 with 1 Axes>"
            ]
          },
          "metadata": {
            "tags": [],
            "needs_background": "light"
          }
        },
        {
          "output_type": "display_data",
          "data": {
            "image/png": "[encoded data removed]",
            "text/plain": [
              "<Figure size 432x288 with 1 Axes>"
            ]
          },
          "metadata": {
            "tags": [],
            "needs_background": "light"
          }
        }
      ]
    },
    {
      "cell_type": "code",
      "metadata": {
        "id": "jo0RiGQ4bGWm",
        "colab_type": "code",
        "colab": {
          "base_uri": "https://localhost:8080/",
          "height": 141
        },
        "outputId": "aef11924-6b02-42ed-eb0c-f4cce603d53d"
      },
      "source": [
        "print(set(assets)^set(optimal_weights_2.index.values))\n",
        "\n",
        "print(optimal_weights_2.iloc[u_ticker.index('ACN')])\n",
        "print(optimal_weights_2.iloc[u_ticker.index('AAPL')])\n",
        "print(optimal_weights_2.iloc[u_ticker.index('NKE')])"
      ],
      "execution_count": null,
      "outputs": [
        {
          "output_type": "stream",
          "text": [
            "{Equity(17 [AET]), Equity(19 [AGN]), Equity(74 [CBS]), Equity(232 [JEC]), Equity(284 [MON]), Equity(367 [RTN]), Equity(385 [STI]), Equity(420 [UTX])}\n",
            "0   -0.000008\n",
            "Name: Equity(7 [ACN]), dtype: float64\n",
            "0    0.000447\n",
            "Name: Equity(3 [AAPL]), dtype: float64\n",
            "0   -0.000327\n",
            "Name: Equity(303 [NLSN]), dtype: float64\n"
          ],
          "name": "stdout"
        }
      ]
    },
    {
      "cell_type": "code",
      "metadata": {
        "id": "ChNaV3bn2_Jx",
        "colab_type": "code",
        "colab": {
          "base_uri": "https://localhost:8080/",
          "height": 1000
        },
        "outputId": "e430a36c-de71-451d-f621-cbf35076f486"
      },
      "source": [
        ""
      ],
      "execution_count": null,
      "outputs": [
        {
          "output_type": "stream",
          "text": [
            "                               0\n",
            "asset                           \n",
            "Equity(0 [A])      -9.058980e-05\n",
            "Equity(1 [AAL])     3.346321e-04\n",
            "Equity(2 [AAP])    -6.155739e-05\n",
            "Equity(3 [AAPL])    4.470614e-04\n",
            "Equity(4 [ABBV])    6.252340e-04\n",
            "Equity(5 [ABC])    -6.366595e-05\n",
            "Equity(6 [ABT])    -1.431647e-04\n",
            "Equity(7 [ACN])    -8.072859e-06\n",
            "Equity(8 [ADBE])   -2.064446e-04\n",
            "Equity(9 [ADI])    -8.852623e-07\n",
            "Equity(10 [ADM])   -5.056576e-05\n",
            "Equity(11 [ADP])   -9.137184e-04\n",
            "Equity(12 [ADS])    3.778038e-04\n",
            "Equity(13 [ADSK])   1.668920e-05\n",
            "Equity(14 [AEE])    7.328788e-04\n",
            "Equity(15 [AEP])   -1.631108e-04\n",
            "Equity(16 [AES])    7.755736e-04\n",
            "Equity(18 [AFL])   -9.168899e-04\n",
            "Equity(20 [AIG])   -1.101672e-04\n",
            "Equity(21 [AIV])    5.934916e-04\n",
            "Equity(22 [AIZ])    6.202780e-04\n",
            "Equity(23 [AJG])    4.095995e-04\n",
            "Equity(24 [AKAM])   1.383113e-03\n",
            "Equity(25 [ALB])    4.527327e-04\n",
            "Equity(26 [ALGN])   1.203631e-04\n",
            "Equity(27 [ALK])   -4.685554e-05\n",
            "Equity(28 [ALL])    4.860120e-06\n",
            "Equity(29 [ALLE])  -4.155393e-04\n",
            "Equity(30 [ALXN])  -2.074843e-04\n",
            "Equity(31 [AMD])   -2.690719e-04\n",
            "...                          ...\n",
            "Equity(427 [VRSK]) -6.135298e-04\n",
            "Equity(428 [VRSN]) -5.863209e-04\n",
            "Equity(429 [VRTX]) -6.445913e-04\n",
            "Equity(430 [VTR])   5.210088e-05\n",
            "Equity(431 [VZ])   -8.757427e-04\n",
            "Equity(432 [WAT])  -3.743840e-04\n",
            "Equity(433 [WBA])  -1.388290e-04\n",
            "Equity(434 [WDC])   1.008763e-03\n",
            "Equity(435 [WEC])  -9.653011e-04\n",
            "Equity(436 [WFC])  -8.163610e-04\n",
            "Equity(437 [WHR])  -9.981758e-04\n",
            "Equity(438 [WLTW])  5.786993e-04\n",
            "Equity(439 [WM])   -5.403840e-04\n",
            "Equity(440 [WMB])   3.729687e-04\n",
            "Equity(441 [WMT])   8.009617e-04\n",
            "Equity(442 [WRK])  -5.478465e-04\n",
            "Equity(443 [WU])    1.781786e-04\n",
            "Equity(444 [WY])    8.891858e-04\n",
            "Equity(445 [WYNN]) -4.311899e-04\n",
            "Equity(446 [XEC])   4.564854e-04\n",
            "Equity(447 [XEL])   5.293689e-05\n",
            "Equity(448 [XLNX]) -9.617118e-04\n",
            "Equity(449 [XOM])  -7.998899e-04\n",
            "Equity(450 [XRAY]) -9.717332e-05\n",
            "Equity(451 [XRX])   1.089197e-03\n",
            "Equity(452 [XYL])   4.064831e-04\n",
            "Equity(453 [YUM])  -8.809373e-04\n",
            "Equity(454 [ZBH])   8.045581e-04\n",
            "Equity(455 [ZION])  4.544371e-04\n",
            "Equity(456 [ZTS])   1.042105e-04\n",
            "\n",
            "[446 rows x 1 columns]\n"
          ],
          "name": "stdout"
        }
      ]
    },
    {
      "cell_type": "code",
      "metadata": {
        "id": "i-E6L3Fk10ao",
        "colab_type": "code",
        "colab": {
          "base_uri": "https://localhost:8080/",
          "height": 549
        },
        "outputId": "54e0723c-317a-4939-dda2-d1e66f784203"
      },
      "source": [
        "(pricing[pricing.columns[3]]).plot(figsize=(16,9))\n",
        "\n",
        "(pricing[pricing.columns[2]]).plot(figsize=(16,9))\n",
        "(pricing[pricing.columns[301]]).plot(figsize=(16,9))\n",
        "(pricing[pricing.columns[20]]).plot(figsize=(16,9))\n",
        "(pricing[pricing.columns[119]]).plot(figsize=(16,9))\n",
        "(pricing[pricing.columns[56]]).plot(figsize=(16,9))\n",
        "plt.show()"
      ],
      "execution_count": null,
      "outputs": [
        {
          "output_type": "display_data",
          "data": {
            "image/png": "[encoded data removed]",
            "text/plain": [
              "<Figure size 1152x648 with 1 Axes>"
            ]
          },
          "metadata": {
            "tags": [],
            "needs_background": "light"
          }
        }
      ]
    }
  ]
}